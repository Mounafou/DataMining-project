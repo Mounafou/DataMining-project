{
 "cells": [
  {
   "cell_type": "code",
   "execution_count": 1,
   "id": "948d4e2c",
   "metadata": {},
   "outputs": [],
   "source": [
    "from sklearn.naive_bayes import GaussianNB\n",
    "from sklearn.metrics import accuracy_score as acc\n",
    "from sklearn.metrics import roc_auc_score as auc\n",
    "#from sklearn.metrics import plot_confusion_matrix as pcm\n",
    "#from sklearn.metrics import plot_precision_recall_curve as ppc\n",
    "#from sklearn.metrics import plot_roc_curve as prc\n",
    "from sklearn.tree import DecisionTreeClassifier as DTC\n",
    "from sklearn.neighbors import KNeighborsClassifier as KNC\n",
    "from sklearn.model_selection import cross_val_score as cv\n",
    "from sklearn.svm import LinearSVC as linSVC\n",
    "from sklearn.model_selection import train_test_split\n",
    "from sklearn.metrics import accuracy_score\n",
    "from sklearn.metrics import f1_score, make_scorer\n",
    "from sklearn.metrics import fbeta_score\n",
    "from sklearn.model_selection import StratifiedKFold\n",
    "import pandas as pd\n",
    "from matplotlib import pyplot as plt  \n",
    "import numpy as np\n",
    "from sklearn.preprocessing import Normalizer as norm\n",
    "from sklearn.datasets import make_classification\n",
    "from sklearn.linear_model import LogisticRegression\n",
    "from sklearn.model_selection import train_test_split\n",
    "from sklearn.pipeline import make_pipeline\n",
    "from sklearn.preprocessing import StandardScaler\n",
    "from sklearn import svm\n",
    "from sklearn.utils.class_weight import compute_class_weight\n",
    "from sklearn.cluster import KMeans"
   ]
  },
  {
   "cell_type": "code",
   "execution_count": null,
   "id": "2c3be65a",
   "metadata": {},
   "outputs": [],
   "source": []
  },
  {
   "cell_type": "code",
   "execution_count": 2,
   "id": "17887670",
   "metadata": {},
   "outputs": [],
   "source": [
    "from sklearn.preprocessing import RobustScaler\n",
    "from sklearn.pipeline import make_pipeline\n",
    "from sklearn.preprocessing import MinMaxScaler\n",
    "from sklearn.svm import LinearSVC\n",
    "from sklearn.feature_selection import SelectKBest, f_classif, chi2"
   ]
  },
  {
   "cell_type": "code",
   "execution_count": null,
   "id": "b23c8925",
   "metadata": {},
   "outputs": [],
   "source": []
  },
  {
   "cell_type": "code",
   "execution_count": 3,
   "id": "92422492",
   "metadata": {},
   "outputs": [],
   "source": [
    "from sklearn.cluster import MeanShift\n",
    "from sklearn.neural_network import MLPClassifier"
   ]
  },
  {
   "cell_type": "code",
   "execution_count": null,
   "id": "3b7b22b7",
   "metadata": {},
   "outputs": [],
   "source": []
  },
  {
   "cell_type": "code",
   "execution_count": 4,
   "id": "97ff16ac",
   "metadata": {},
   "outputs": [],
   "source": [
    "#loading data\n",
    "X_train = pd.read_csv('X_train.csv')\n",
    "y_train = pd.read_csv('y_train.csv')\n",
    "y_train = y_train['Expected']\n",
    "y_test = pd.read_csv('y_test_pred_dectree_md2.csv')\n",
    "X_test = pd.read_csv('X_test.csv')\n",
    "y_test = y_test['Predicted']\n",
    "df = X_train"
   ]
  },
  {
   "cell_type": "code",
   "execution_count": null,
   "id": "435c2dae",
   "metadata": {},
   "outputs": [],
   "source": []
  },
  {
   "cell_type": "code",
   "execution_count": 5,
   "id": "276a045b",
   "metadata": {},
   "outputs": [],
   "source": [
    "def prep_func(df):\n",
    "    df_noId = df.drop(['Id'], axis=1)\n",
    "    sparse_attributes = ['ab_000', 'bm_000', 'bn_000', 'bo_000', 'bp_000', 'bq_000', 'br_000', 'cr_000']\n",
    "    histo_features = ['ag_000', 'ag_001', 'ag_002', 'ag_003', 'ag_004', 'ag_005', 'ag_006', 'ag_007', 'ag_008', 'ag_009', 'ay_000', 'ay_001', 'ay_002', 'ay_003', 'ay_004', 'ay_005', 'ay_006', 'ay_007', 'ay_008', 'ay_009', 'az_000', 'az_001', 'az_002', 'az_003', 'az_004', 'az_005', 'az_006', 'az_007', 'az_008', 'az_009', 'ba_000', 'ba_001', 'ba_002', 'ba_003', 'ba_004', 'ba_005', 'ba_006', 'ba_007', 'ba_008', 'ba_009', 'cn_000', 'cn_001', 'cn_002', 'cn_003', 'cn_004', 'cn_005', 'cn_006', 'cn_007', 'cn_008', 'cn_009', 'cs_000', 'cs_001', 'cs_002', 'cs_003', 'cs_004', 'cs_005', 'cs_006', 'cs_007', 'cs_008', 'cs_009', 'ee_000', 'ee_001', 'ee_002', 'ee_003', 'ee_004', 'ee_005', 'ee_006', 'ee_007', 'ee_008', 'ee_009']\n",
    "    histo_dic = {'histo_ag':['ag_000','ag_001', 'ag_002', 'ag_003', 'ag_004', 'ag_005', 'ag_006', 'ag_007', 'ag_008', 'ag_009'], 'histo_ay':['ay_000', 'ay_001', 'ay_002', 'ay_003', 'ay_004', 'ay_005', 'ay_006', 'ay_007', 'ay_008', 'ay_009'], 'histo_az':['az_000','az_001', 'az_002', 'az_003', 'az_004', 'az_005', 'az_006', 'az_007', 'az_008', 'az_009'],'histo_ba':['ba_000','ba_001', 'ba_002', 'ba_003', 'ba_004', 'ba_005', 'ba_006', 'ba_007', 'ba_008', 'ba_009'],'histo_cn':['cn_000','cn_001', 'cn_002', 'cn_003', 'cn_004', 'cn_005', 'cn_006', 'cn_007', 'cn_008', 'cn_009'],'histo_cs' :['cs_000','cs_001', 'cs_002', 'cs_003', 'cs_004', 'cs_005', 'cs_006', 'cs_007', 'cs_008', 'cs_009'],'histo_ee': ['ee_000','ee_001', 'ee_002', 'ee_003', 'ee_004', 'ee_005', 'ee_006', 'ee_007', 'ee_008', 'ee_009']}\n",
    "    \n",
    "    df_lessAtt = df_noId.drop(sparse_attributes, axis=1)\n",
    "    new_atts_ordinal=[]\n",
    "    \n",
    "    for i in histo_dic:  \n",
    "        #att1=df[histo_dic[i]].max(axis=1)\n",
    "        att2=df[histo_dic[i]].idxmax(axis=\"columns\")\n",
    "\n",
    "        #name1 = i + '_val'\n",
    "        name2 = i + '_mode'\n",
    "        #se1 = pd.Series(att1)\n",
    "        se2 = pd.Series(att2)\n",
    "        #df_lessAtt[name1] = se1.values\n",
    "        df_lessAtt[name2] = se2.values\n",
    "        new_atts_ordinal.append(name2)\n",
    "    \n",
    "    df_lessAtt[new_atts_ordinal] = df_lessAtt[new_atts_ordinal].fillna('000')\n",
    "    \n",
    "    for i in new_atts_ordinal:\n",
    "        ss=[]\n",
    "        for j in range(len(df_lessAtt)):\n",
    "            s=df_lessAtt[i].loc[j][-1]\n",
    "            ss.append(s)\n",
    "        df_lessAtt[i]=ss\n",
    "    \n",
    "    #df_noHisto = df_lessAtt.drop(histo_features, axis=1)\n",
    "    \n",
    "    df_imp1=df_lessAtt.fillna(df_lessAtt.iloc[:,0:92].mean())\n",
    "    df_imp2 = df_imp1.fillna(0)\n",
    "    df_f = df_imp2\n",
    "    return df_f"
   ]
  },
  {
   "cell_type": "code",
   "execution_count": null,
   "id": "62f65aa0",
   "metadata": {},
   "outputs": [],
   "source": []
  },
  {
   "cell_type": "code",
   "execution_count": 6,
   "id": "504f5386",
   "metadata": {},
   "outputs": [],
   "source": [
    "def half_prep_func(df):\n",
    "    df_noId = df.drop(['Id'], axis=1)\n",
    "    sparse_attributes = ['ab_000', 'bl_000', 'bm_000', 'bn_000', 'bo_000', 'bp_000', 'bq_000', 'br_000', 'cr_000']\n",
    "    df_lessAtt = df_noId.drop(sparse_attributes, axis=1)\n",
    "    df_imp=df_lessAtt.fillna(df_lessAtt.median())\n",
    "    df_f = df_imp\n",
    "    return df_f"
   ]
  },
  {
   "cell_type": "code",
   "execution_count": null,
   "id": "1e6b4b7b",
   "metadata": {},
   "outputs": [],
   "source": []
  },
  {
   "cell_type": "code",
   "execution_count": 22,
   "id": "23a4e486",
   "metadata": {},
   "outputs": [],
   "source": [
    "X_train_p = prep_func(X_train)"
   ]
  },
  {
   "cell_type": "code",
   "execution_count": null,
   "id": "3447d76e",
   "metadata": {},
   "outputs": [],
   "source": []
  },
  {
   "cell_type": "code",
   "execution_count": 9,
   "id": "8786dd32",
   "metadata": {},
   "outputs": [],
   "source": [
    "#X_train_p = X_train.fillna(X_train.median())"
   ]
  },
  {
   "cell_type": "code",
   "execution_count": null,
   "id": "eb7dd2c0",
   "metadata": {},
   "outputs": [],
   "source": []
  },
  {
   "cell_type": "code",
   "execution_count": 23,
   "id": "858eefb9",
   "metadata": {},
   "outputs": [],
   "source": [
    "X_test_p = prep_func(X_test)"
   ]
  },
  {
   "cell_type": "code",
   "execution_count": null,
   "id": "322236f8",
   "metadata": {},
   "outputs": [],
   "source": []
  },
  {
   "cell_type": "code",
   "execution_count": 10,
   "id": "b4bb3315",
   "metadata": {},
   "outputs": [],
   "source": [
    "#X_test_p = X_test.fillna(X_test.median())"
   ]
  },
  {
   "cell_type": "code",
   "execution_count": null,
   "id": "2631c2b2",
   "metadata": {},
   "outputs": [],
   "source": []
  },
  {
   "cell_type": "code",
   "execution_count": 10,
   "id": "13c4a66b",
   "metadata": {},
   "outputs": [
    {
     "name": "stdout",
     "output_type": "stream",
     "text": [
      "Class 0: 39178\n",
      "Class 1: 722\n",
      "Proportion: 54.26 : 1\n"
     ]
    },
    {
     "data": {
      "image/png": "[encoded data removed]",
      "text/plain": [
       "<Figure size 432x288 with 1 Axes>"
      ]
     },
     "metadata": {
      "needs_background": "light"
     },
     "output_type": "display_data"
    }
   ],
   "source": [
    "target_count = y_train.value_counts()\n",
    "print('Class 0:', target_count[0])\n",
    "print('Class 1:', target_count[1])\n",
    "print('Proportion:', round(target_count[0] / target_count[1], 2), ': 1')\n",
    "\n",
    "target_count.plot(kind='bar', title='Count (target)');"
   ]
  },
  {
   "cell_type": "code",
   "execution_count": null,
   "id": "f38b3ffa",
   "metadata": {},
   "outputs": [],
   "source": []
  },
  {
   "cell_type": "code",
   "execution_count": 190,
   "id": "7c718f7d",
   "metadata": {},
   "outputs": [],
   "source": [
    "#X_test_p = X_test.fillna(X_test.median())"
   ]
  },
  {
   "cell_type": "code",
   "execution_count": 33,
   "id": "fd24d678",
   "metadata": {},
   "outputs": [],
   "source": [
    "X_trainS, X_testS, y_trainS, y_testS = train_test_split(X_train_p, y_train, test_size=0.33, random_state=42)"
   ]
  },
  {
   "cell_type": "code",
   "execution_count": null,
   "id": "cdbb973a",
   "metadata": {},
   "outputs": [],
   "source": []
  },
  {
   "cell_type": "code",
   "execution_count": null,
   "id": "e7e34366",
   "metadata": {},
   "outputs": [],
   "source": [
    "clf = MeanShift(bandwidth=2)\n",
    "kmeans = clf.fit(X_train_p).predict(X_train_p)\n",
    "fbeta_score(kmeans, y_train, beta = 3)"
   ]
  },
  {
   "cell_type": "code",
   "execution_count": null,
   "id": "a14975f0",
   "metadata": {},
   "outputs": [],
   "source": [
    "clf = ComplementNB()\n",
    "pipe = make_pipeline(clf)\n",
    "it = StratifiedKFold(n_splits=5, random_state=None, shuffle=False)\n",
    "fthree_scorer = make_scorer(fbeta_score, beta=3)\n",
    "cv_results = cv(clf, X_trainS, y_trainS, cv=it, scoring = fthree_scorer)\n",
    "print(cv_results)"
   ]
  },
  {
   "cell_type": "code",
   "execution_count": 73,
   "id": "6a93042e",
   "metadata": {},
   "outputs": [
    {
     "name": "stderr",
     "output_type": "stream",
     "text": [
      "C:\\Users\\mouna\\anaconda3\\lib\\site-packages\\sklearn\\neural_network\\_multilayer_perceptron.py:500: ConvergenceWarning: lbfgs failed to converge (status=2):\n",
      "ABNORMAL_TERMINATION_IN_LNSRCH.\n",
      "\n",
      "Increase the number of iterations (max_iter) or scale the data as shown in:\n",
      "    https://scikit-learn.org/stable/modules/preprocessing.html\n",
      "  self.n_iter_ = _check_optimize_result(\"lbfgs\", opt_res, self.max_iter)\n",
      "C:\\Users\\mouna\\anaconda3\\lib\\site-packages\\sklearn\\neural_network\\_multilayer_perceptron.py:500: ConvergenceWarning: lbfgs failed to converge (status=2):\n",
      "ABNORMAL_TERMINATION_IN_LNSRCH.\n",
      "\n",
      "Increase the number of iterations (max_iter) or scale the data as shown in:\n",
      "    https://scikit-learn.org/stable/modules/preprocessing.html\n",
      "  self.n_iter_ = _check_optimize_result(\"lbfgs\", opt_res, self.max_iter)\n",
      "C:\\Users\\mouna\\anaconda3\\lib\\site-packages\\sklearn\\neural_network\\_multilayer_perceptron.py:500: ConvergenceWarning: lbfgs failed to converge (status=2):\n",
      "ABNORMAL_TERMINATION_IN_LNSRCH.\n",
      "\n",
      "Increase the number of iterations (max_iter) or scale the data as shown in:\n",
      "    https://scikit-learn.org/stable/modules/preprocessing.html\n",
      "  self.n_iter_ = _check_optimize_result(\"lbfgs\", opt_res, self.max_iter)\n",
      "C:\\Users\\mouna\\anaconda3\\lib\\site-packages\\sklearn\\neural_network\\_multilayer_perceptron.py:500: ConvergenceWarning: lbfgs failed to converge (status=2):\n",
      "ABNORMAL_TERMINATION_IN_LNSRCH.\n",
      "\n",
      "Increase the number of iterations (max_iter) or scale the data as shown in:\n",
      "    https://scikit-learn.org/stable/modules/preprocessing.html\n",
      "  self.n_iter_ = _check_optimize_result(\"lbfgs\", opt_res, self.max_iter)\n"
     ]
    },
    {
     "name": "stdout",
     "output_type": "stream",
     "text": [
      "[0.25974026 0.23745919 0.24174528 0.24933998 0.24587793]\n"
     ]
    },
    {
     "name": "stderr",
     "output_type": "stream",
     "text": [
      "C:\\Users\\mouna\\anaconda3\\lib\\site-packages\\sklearn\\neural_network\\_multilayer_perceptron.py:500: ConvergenceWarning: lbfgs failed to converge (status=2):\n",
      "ABNORMAL_TERMINATION_IN_LNSRCH.\n",
      "\n",
      "Increase the number of iterations (max_iter) or scale the data as shown in:\n",
      "    https://scikit-learn.org/stable/modules/preprocessing.html\n",
      "  self.n_iter_ = _check_optimize_result(\"lbfgs\", opt_res, self.max_iter)\n"
     ]
    }
   ],
   "source": [
    "clf = MLPClassifier(solver='lbfgs', alpha=1e-5, hidden_layer_sizes=(5, 2), random_state=1000000000)\n",
    "pipe = make_pipeline(clf)\n",
    "it = StratifiedKFold(n_splits=5, random_state=None, shuffle=False)\n",
    "fthree_scorer = make_scorer(fbeta_score, beta=3)\n",
    "cv_results = cv(clf, X_trainS, y_trainS, cv=it, scoring = fthree_scorer)\n",
    "print(cv_results)"
   ]
  },
  {
   "cell_type": "code",
   "execution_count": 192,
   "id": "306f0fbd",
   "metadata": {},
   "outputs": [
    {
     "name": "stdout",
     "output_type": "stream",
     "text": [
      "[0.70780399 0.74758135 0.75523203 0.72362685 0.77977721]\n"
     ]
    }
   ],
   "source": [
    "clf = tree.DecisionTreeClassifier(criterion='gini', splitter='best', min_samples_split=20, max_depth=7, class_weight={1: 55})\n",
    "pipe = make_pipeline(clf)\n",
    "it = StratifiedKFold(n_splits=5, random_state=None, shuffle=False)\n",
    "fthree_scorer = make_scorer(fbeta_score, beta=3)\n",
    "cv_results = cv(pipe,X_trainS,y_trainS, cv=it, scoring = fthree_scorer)\n",
    "print(cv_results)"
   ]
  },
  {
   "cell_type": "code",
   "execution_count": null,
   "id": "bc713c22",
   "metadata": {},
   "outputs": [],
   "source": []
  },
  {
   "cell_type": "code",
   "execution_count": null,
   "id": "0f73d7db",
   "metadata": {},
   "outputs": [],
   "source": []
  },
  {
   "cell_type": "code",
   "execution_count": 186,
   "id": "f5ac9ee1",
   "metadata": {},
   "outputs": [],
   "source": [
    "y_pred = pipe.fit(X_train_p, y_train).predict(X_test_p)\n",
    "y_pred_sol = {}\n",
    "y_pred_sol['Id']=list(range(17100))\n",
    "y_pred_sol['Predicted']=list((y_pred))\n",
    "df = pd.DataFrame(y_pred_sol, columns = ['Id', 'Predicted'])\n",
    "df.to_csv('momo101.csv', index=False)"
   ]
  },
  {
   "cell_type": "code",
   "execution_count": null,
   "id": "5917ac67",
   "metadata": {},
   "outputs": [],
   "source": []
  },
  {
   "cell_type": "code",
   "execution_count": 16,
   "id": "a259d141",
   "metadata": {
    "scrolled": false
   },
   "outputs": [
    {
     "name": "stdout",
     "output_type": "stream",
     "text": [
      "|--- ck_000 <= 1459036.81\n",
      "|   |--- ag_002 <= 46037.00\n",
      "|   |   |--- az_001 <= 12288.00\n",
      "|   |   |   |--- aa_000 <= 240517.00\n",
      "|   |   |   |   |--- ay_001 <= 353987.00\n",
      "|   |   |   |   |   |--- aj_000 <= 14877.00\n",
      "|   |   |   |   |   |   |--- cn_001 <= 240448.00\n",
      "|   |   |   |   |   |   |   |--- class: 0\n",
      "|   |   |   |   |   |   |--- cn_001 >  240448.00\n",
      "|   |   |   |   |   |   |   |--- class: 1\n",
      "|   |   |   |   |   |--- aj_000 >  14877.00\n",
      "|   |   |   |   |   |   |--- ba_005 <= 442017.00\n",
      "|   |   |   |   |   |   |   |--- class: 0\n",
      "|   |   |   |   |   |   |--- ba_005 >  442017.00\n",
      "|   |   |   |   |   |   |   |--- class: 1\n",
      "|   |   |   |   |--- ay_001 >  353987.00\n",
      "|   |   |   |   |   |--- ag_005 <= 1764567.00\n",
      "|   |   |   |   |   |   |--- class: 1\n",
      "|   |   |   |   |   |--- ag_005 >  1764567.00\n",
      "|   |   |   |   |   |   |--- class: 0\n",
      "|   |   |   |--- aa_000 >  240517.00\n",
      "|   |   |   |   |--- bt_000 <= 240709.73\n",
      "|   |   |   |   |   |--- class: 1\n",
      "|   |   |   |   |--- bt_000 >  240709.73\n",
      "|   |   |   |   |   |--- class: 0\n",
      "|   |   |--- az_001 >  12288.00\n",
      "|   |   |   |--- cn_002 <= 35136.00\n",
      "|   |   |   |   |--- class: 0\n",
      "|   |   |   |--- cn_002 >  35136.00\n",
      "|   |   |   |   |--- ed_000 <= 2083.00\n",
      "|   |   |   |   |   |--- cs_003 <= 451633.00\n",
      "|   |   |   |   |   |   |--- ay_007 <= 1184049.00\n",
      "|   |   |   |   |   |   |   |--- class: 0\n",
      "|   |   |   |   |   |   |--- ay_007 >  1184049.00\n",
      "|   |   |   |   |   |   |   |--- class: 1\n",
      "|   |   |   |   |   |--- cs_003 >  451633.00\n",
      "|   |   |   |   |   |   |--- class: 0\n",
      "|   |   |   |   |--- ed_000 >  2083.00\n",
      "|   |   |   |   |   |--- class: 0\n",
      "|   |--- ag_002 >  46037.00\n",
      "|   |   |--- az_000 <= 10037.00\n",
      "|   |   |   |--- class: 0\n",
      "|   |   |--- az_000 >  10037.00\n",
      "|   |   |   |--- ax_000 <= 1059.00\n",
      "|   |   |   |   |--- bh_000 <= 169237.00\n",
      "|   |   |   |   |   |--- ax_000 <= 200.00\n",
      "|   |   |   |   |   |   |--- class: 0\n",
      "|   |   |   |   |   |--- ax_000 >  200.00\n",
      "|   |   |   |   |   |   |--- cp_000 <= 179.00\n",
      "|   |   |   |   |   |   |   |--- class: 1\n",
      "|   |   |   |   |   |   |--- cp_000 >  179.00\n",
      "|   |   |   |   |   |   |   |--- class: 0\n",
      "|   |   |   |   |--- bh_000 >  169237.00\n",
      "|   |   |   |   |   |--- class: 0\n",
      "|   |   |   |--- ax_000 >  1059.00\n",
      "|   |   |   |   |--- class: 0\n",
      "|--- ck_000 >  1459036.81\n",
      "|   |--- ci_000 <= 10249548.50\n",
      "|   |   |--- cn_001 <= 941.00\n",
      "|   |   |   |--- at_000 <= 2362965.00\n",
      "|   |   |   |   |--- class: 0\n",
      "|   |   |   |--- at_000 >  2362965.00\n",
      "|   |   |   |   |--- class: 1\n",
      "|   |   |--- cn_001 >  941.00\n",
      "|   |   |   |--- cu_000 <= 3265.00\n",
      "|   |   |   |   |--- ee_007 <= 1948321.00\n",
      "|   |   |   |   |   |--- cl_000 <= 27.00\n",
      "|   |   |   |   |   |   |--- class: 0\n",
      "|   |   |   |   |   |--- cl_000 >  27.00\n",
      "|   |   |   |   |   |   |--- cz_000 <= 8404.00\n",
      "|   |   |   |   |   |   |   |--- class: 1\n",
      "|   |   |   |   |   |   |--- cz_000 >  8404.00\n",
      "|   |   |   |   |   |   |   |--- class: 0\n",
      "|   |   |   |   |--- ee_007 >  1948321.00\n",
      "|   |   |   |   |   |--- class: 0\n",
      "|   |   |   |--- cu_000 >  3265.00\n",
      "|   |   |   |   |--- class: 0\n",
      "|   |--- ci_000 >  10249548.50\n",
      "|   |   |--- ck_000 <= 2870653.00\n",
      "|   |   |   |--- ee_005 <= 1525174.00\n",
      "|   |   |   |   |--- cg_000 <= 2468.00\n",
      "|   |   |   |   |   |--- class: 0\n",
      "|   |   |   |   |--- cg_000 >  2468.00\n",
      "|   |   |   |   |   |--- class: 1\n",
      "|   |   |   |--- ee_005 >  1525174.00\n",
      "|   |   |   |   |--- az_002 <= 5827.00\n",
      "|   |   |   |   |   |--- class: 0\n",
      "|   |   |   |   |--- az_002 >  5827.00\n",
      "|   |   |   |   |   |--- ba_002 <= 3712112.00\n",
      "|   |   |   |   |   |   |--- ee_009 <= 172179.00\n",
      "|   |   |   |   |   |   |   |--- class: 1\n",
      "|   |   |   |   |   |   |--- ee_009 >  172179.00\n",
      "|   |   |   |   |   |   |   |--- class: 0\n",
      "|   |   |   |   |   |--- ba_002 >  3712112.00\n",
      "|   |   |   |   |   |   |--- class: 0\n",
      "|   |   |--- ck_000 >  2870653.00\n",
      "|   |   |   |--- ct_000 <= 21796.00\n",
      "|   |   |   |   |--- bl_000 <= 128130.00\n",
      "|   |   |   |   |   |--- class: 0\n",
      "|   |   |   |   |--- bl_000 >  128130.00\n",
      "|   |   |   |   |   |--- az_006 <= 17699358.00\n",
      "|   |   |   |   |   |   |--- ai_000 <= 183.00\n",
      "|   |   |   |   |   |   |   |--- class: 1\n",
      "|   |   |   |   |   |   |--- ai_000 >  183.00\n",
      "|   |   |   |   |   |   |   |--- class: 1\n",
      "|   |   |   |   |   |--- az_006 >  17699358.00\n",
      "|   |   |   |   |   |   |--- class: 0\n",
      "|   |   |   |--- ct_000 >  21796.00\n",
      "|   |   |   |   |--- class: 0\n",
      "\n"
     ]
    }
   ],
   "source": [
    "from sklearn.tree import export_text\n",
    "tree_rules = export_text(clf.fit(X_trainS,y_trainS), feature_names=list(X_trainS.columns))\n",
    "print(tree_rules)"
   ]
  },
  {
   "cell_type": "code",
   "execution_count": 22,
   "id": "dbe7f089",
   "metadata": {},
   "outputs": [
    {
     "data": {
      "text/plain": [
       "[Text(188.08168604651163, 203.85, 'X[89] <= 1459036.812\\ngini = 0.5\\nsamples = 26733\\nvalue = [26253, 25920]'),\n",
       " Text(125.06337209302326, 176.67000000000002, 'X[7] <= 46037.0\\ngini = 0.089\\nsamples = 24396\\nvalue = [24374, 1188]'),\n",
       " Text(94.40581395348838, 149.49, 'X[42] <= 12288.0\\ngini = 0.062\\nsamples = 24336\\nvalue = [24321, 810]'),\n",
       " Text(72.02093023255814, 122.31, 'X[0] <= 240517.0\\ngini = 0.039\\nsamples = 23881\\nvalue = [23872, 486]'),\n",
       " Text(50.609302325581396, 95.13, 'X[32] <= 353987.0\\ngini = 0.031\\nsamples = 23818\\nvalue = [23811, 378]'),\n",
       " Text(31.144186046511628, 67.94999999999999, 'X[17] <= 14877.0\\ngini = 0.026\\nsamples = 23812\\nvalue = [23806, 324]'),\n",
       " Text(15.572093023255814, 40.77000000000001, 'X[93] <= 240448.0\\ngini = 0.022\\nsamples = 23783\\nvalue = [23778, 270]'),\n",
       " Text(7.786046511627907, 13.590000000000003, 'gini = 0.018\\nsamples = 23754\\nvalue = [23750, 216]'),\n",
       " Text(23.35813953488372, 13.590000000000003, 'gini = 0.45\\nsamples = 29\\nvalue = [28, 54]'),\n",
       " Text(46.71627906976744, 40.77000000000001, 'X[136] <= 25455.0\\ngini = 0.45\\nsamples = 29\\nvalue = [28, 54]'),\n",
       " Text(38.93023255813954, 13.590000000000003, 'gini = 0.0\\nsamples = 28\\nvalue = [28, 0]'),\n",
       " Text(54.50232558139535, 13.590000000000003, 'gini = 0.0\\nsamples = 1\\nvalue = [0, 54]'),\n",
       " Text(70.07441860465116, 67.94999999999999, 'X[9] <= 391561.0\\ngini = 0.155\\nsamples = 6\\nvalue = [5, 54]'),\n",
       " Text(62.288372093023256, 40.77000000000001, 'gini = 0.0\\nsamples = 1\\nvalue = [0, 54]'),\n",
       " Text(77.86046511627907, 40.77000000000001, 'gini = 0.0\\nsamples = 5\\nvalue = [5, 0]'),\n",
       " Text(93.43255813953488, 95.13, 'X[73] <= 240709.727\\ngini = 0.461\\nsamples = 63\\nvalue = [61, 108]'),\n",
       " Text(85.64651162790697, 67.94999999999999, 'gini = 0.0\\nsamples = 2\\nvalue = [0, 108]'),\n",
       " Text(101.21860465116279, 67.94999999999999, 'gini = 0.0\\nsamples = 61\\nvalue = [61, 0]'),\n",
       " Text(116.79069767441861, 122.31, 'X[94] <= 35136.0\\ngini = 0.487\\nsamples = 455\\nvalue = [449, 324]'),\n",
       " Text(109.0046511627907, 95.13, 'gini = 0.0\\nsamples = 344\\nvalue = [344, 0]'),\n",
       " Text(124.57674418604651, 95.13, 'X[149] <= 2083.0\\ngini = 0.37\\nsamples = 111\\nvalue = [105, 324]'),\n",
       " Text(116.79069767441861, 67.94999999999999, 'X[108] <= 451633.0\\ngini = 0.203\\nsamples = 48\\nvalue = [42, 324]'),\n",
       " Text(109.0046511627907, 40.77000000000001, 'X[38] <= 1184049.0\\ngini = 0.085\\nsamples = 21\\nvalue = [15, 324]'),\n",
       " Text(101.21860465116279, 13.590000000000003, 'gini = 0.0\\nsamples = 8\\nvalue = [8, 0]'),\n",
       " Text(116.79069767441861, 13.590000000000003, 'gini = 0.041\\nsamples = 13\\nvalue = [7, 324]'),\n",
       " Text(124.57674418604651, 40.77000000000001, 'gini = 0.0\\nsamples = 27\\nvalue = [27, 0]'),\n",
       " Text(132.36279069767443, 67.94999999999999, 'gini = 0.0\\nsamples = 63\\nvalue = [63, 0]'),\n",
       " Text(155.72093023255815, 149.49, 'X[41] <= 10037.0\\ngini = 0.216\\nsamples = 60\\nvalue = [53, 378]'),\n",
       " Text(147.93488372093023, 122.31, 'gini = 0.0\\nsamples = 38\\nvalue = [38, 0]'),\n",
       " Text(163.50697674418603, 122.31, 'X[30] <= 1059.0\\ngini = 0.073\\nsamples = 22\\nvalue = [15, 378]'),\n",
       " Text(155.72093023255815, 95.13, 'X[120] <= 44799.0\\ngini = 0.026\\nsamples = 12\\nvalue = [5, 378]'),\n",
       " Text(147.93488372093023, 67.94999999999999, 'X[72] <= 266270.0\\ngini = 0.016\\nsamples = 10\\nvalue = [3, 378]'),\n",
       " Text(140.14883720930231, 40.77000000000001, 'X[103] <= 179.0\\ngini = 0.005\\nsamples = 8\\nvalue = [1, 378]'),\n",
       " Text(132.36279069767443, 13.590000000000003, 'gini = 0.0\\nsamples = 7\\nvalue = [0, 378]'),\n",
       " Text(147.93488372093023, 13.590000000000003, 'gini = 0.0\\nsamples = 1\\nvalue = [1, 0]'),\n",
       " Text(155.72093023255815, 40.77000000000001, 'gini = 0.0\\nsamples = 2\\nvalue = [2, 0]'),\n",
       " Text(163.50697674418603, 67.94999999999999, 'gini = 0.0\\nsamples = 2\\nvalue = [2, 0]'),\n",
       " Text(171.29302325581395, 95.13, 'gini = 0.0\\nsamples = 10\\nvalue = [10, 0]'),\n",
       " Text(251.1, 176.67000000000002, 'X[87] <= 10249548.5\\ngini = 0.131\\nsamples = 2337\\nvalue = [1879, 24732]'),\n",
       " Text(210.2232558139535, 149.49, 'X[93] <= 941.0\\ngini = 0.472\\nsamples = 792\\nvalue = [769, 1242]'),\n",
       " Text(194.65116279069767, 122.31, 'X[27] <= 2362965.0\\ngini = 0.149\\nsamples = 613\\nvalue = [612, 54]'),\n",
       " Text(186.86511627906975, 95.13, 'gini = 0.0\\nsamples = 612\\nvalue = [612, 0]'),\n",
       " Text(202.43720930232558, 95.13, 'gini = 0.0\\nsamples = 1\\nvalue = [0, 54]'),\n",
       " Text(225.7953488372093, 122.31, 'X[116] <= 3265.0\\ngini = 0.206\\nsamples = 179\\nvalue = [157, 1188]'),\n",
       " Text(218.0093023255814, 95.13, 'X[157] <= 1948321.0\\ngini = 0.15\\nsamples = 128\\nvalue = [106, 1188]'),\n",
       " Text(210.2232558139535, 67.94999999999999, 'X[90] <= 27.0\\ngini = 0.114\\nsamples = 99\\nvalue = [77, 1188]'),\n",
       " Text(202.43720930232558, 40.77000000000001, 'gini = 0.0\\nsamples = 26\\nvalue = [26, 0]'),\n",
       " Text(218.0093023255814, 40.77000000000001, 'X[120] <= 8404.0\\ngini = 0.079\\nsamples = 73\\nvalue = [51, 1188]'),\n",
       " Text(210.2232558139535, 13.590000000000003, 'gini = 0.06\\nsamples = 60\\nvalue = [38, 1188]'),\n",
       " Text(225.7953488372093, 13.590000000000003, 'gini = 0.0\\nsamples = 13\\nvalue = [13, 0]'),\n",
       " Text(225.7953488372093, 67.94999999999999, 'gini = 0.0\\nsamples = 29\\nvalue = [29, 0]'),\n",
       " Text(233.58139534883722, 95.13, 'gini = 0.0\\nsamples = 51\\nvalue = [51, 0]'),\n",
       " Text(291.9767441860465, 149.49, 'X[89] <= 2870653.0\\ngini = 0.086\\nsamples = 1545\\nvalue = [1110, 23490]'),\n",
       " Text(264.72558139534885, 122.31, 'X[155] <= 1525174.0\\ngini = 0.304\\nsamples = 415\\nvalue = [384, 1674]'),\n",
       " Text(249.15348837209302, 95.13, 'X[85] <= 2468.0\\ngini = 0.321\\nsamples = 216\\nvalue = [215, 54]'),\n",
       " Text(241.3674418604651, 67.94999999999999, 'gini = 0.0\\nsamples = 215\\nvalue = [215, 0]'),\n",
       " Text(256.9395348837209, 67.94999999999999, 'gini = 0.0\\nsamples = 1\\nvalue = [0, 54]'),\n",
       " Text(280.29767441860463, 95.13, 'X[43] <= 5827.0\\ngini = 0.171\\nsamples = 199\\nvalue = [169, 1620]'),\n",
       " Text(272.51162790697674, 67.94999999999999, 'gini = 0.0\\nsamples = 25\\nvalue = [25, 0]'),\n",
       " Text(288.0837209302326, 67.94999999999999, 'X[53] <= 3712112.0\\ngini = 0.15\\nsamples = 174\\nvalue = [144, 1620]'),\n",
       " Text(280.29767441860463, 40.77000000000001, 'X[159] <= 172179.0\\ngini = 0.132\\nsamples = 154\\nvalue = [124, 1620]'),\n",
       " Text(272.51162790697674, 13.590000000000003, 'gini = 0.118\\nsamples = 139\\nvalue = [109, 1620]'),\n",
       " Text(288.0837209302326, 13.590000000000003, 'gini = 0.0\\nsamples = 15\\nvalue = [15, 0]'),\n",
       " Text(295.86976744186046, 40.77000000000001, 'gini = 0.0\\nsamples = 20\\nvalue = [20, 0]'),\n",
       " Text(319.2279069767442, 122.31, 'X[115] <= 21796.0\\ngini = 0.062\\nsamples = 1130\\nvalue = [726, 21816]'),\n",
       " Text(311.4418604651163, 95.13, 'X[71] <= 128130.0\\ngini = 0.06\\nsamples = 1106\\nvalue = [702, 21816]'),\n",
       " Text(303.65581395348835, 67.94999999999999, 'gini = 0.0\\nsamples = 20\\nvalue = [20, 0]'),\n",
       " Text(319.2279069767442, 67.94999999999999, 'X[47] <= 17699358.0\\ngini = 0.059\\nsamples = 1086\\nvalue = [682, 21816]'),\n",
       " Text(311.4418604651163, 40.77000000000001, 'X[16] <= 183.0\\ngini = 0.058\\nsamples = 1073\\nvalue = [669, 21816]'),\n",
       " Text(303.65581395348835, 13.590000000000003, 'gini = 0.127\\nsamples = 437\\nvalue = [349, 4752]'),\n",
       " Text(319.2279069767442, 13.590000000000003, 'gini = 0.036\\nsamples = 636\\nvalue = [320, 17064]'),\n",
       " Text(327.01395348837207, 40.77000000000001, 'gini = 0.0\\nsamples = 13\\nvalue = [13, 0]'),\n",
       " Text(327.01395348837207, 95.13, 'gini = 0.0\\nsamples = 24\\nvalue = [24, 0]')]"
      ]
     },
     "execution_count": 22,
     "metadata": {},
     "output_type": "execute_result"
    },
    {
     "data": {
      "image/png": "[encoded data removed]",
      "text/plain": [
       "<Figure size 432x288 with 1 Axes>"
      ]
     },
     "metadata": {
      "needs_background": "light"
     },
     "output_type": "display_data"
    }
   ],
   "source": [
    "import graphviz \n",
    "from sklearn import tree\n",
    "clf.fit(X_trainS,y_trainS)\n",
    "tree.plot_tree(clf)"
   ]
  },
  {
   "cell_type": "code",
   "execution_count": null,
   "id": "8ce074ba",
   "metadata": {},
   "outputs": [],
   "source": []
  },
  {
   "cell_type": "code",
   "execution_count": 171,
   "id": "020e7340",
   "metadata": {},
   "outputs": [
    {
     "data": {
      "image/png": "[encoded data removed]",
      "text/plain": [
       "<Figure size 432x288 with 1 Axes>"
      ]
     },
     "metadata": {
      "needs_background": "light"
     },
     "output_type": "display_data"
    },
    {
     "data": {
      "text/plain": [
       "<Figure size 6400x4800 with 0 Axes>"
      ]
     },
     "metadata": {},
     "output_type": "display_data"
    }
   ],
   "source": [
    "from sklearn import tree\n",
    "tree.plot_tree(clf.fit(X_trainS,y_trainS))\n",
    "plt.figure(figsize=(80, 60), dpi=80)\n",
    "plt.show()"
   ]
  },
  {
   "cell_type": "code",
   "execution_count": null,
   "id": "4c632c6c",
   "metadata": {},
   "outputs": [],
   "source": []
  },
  {
   "cell_type": "code",
   "execution_count": 21,
   "id": "90df970d",
   "metadata": {},
   "outputs": [
    {
     "data": {
      "text/plain": [
       "[Text(188.08168604651163, 203.85, 'X[89] <= 1459036.812\\ngini = 0.5\\nsamples = 26733\\nvalue = [26253, 25920]'),\n",
       " Text(125.06337209302326, 176.67000000000002, 'X[7] <= 46037.0\\ngini = 0.089\\nsamples = 24396\\nvalue = [24374, 1188]'),\n",
       " Text(94.40581395348838, 149.49, 'X[42] <= 12288.0\\ngini = 0.062\\nsamples = 24336\\nvalue = [24321, 810]'),\n",
       " Text(72.02093023255814, 122.31, 'X[0] <= 240517.0\\ngini = 0.039\\nsamples = 23881\\nvalue = [23872, 486]'),\n",
       " Text(50.609302325581396, 95.13, 'X[32] <= 353987.0\\ngini = 0.031\\nsamples = 23818\\nvalue = [23811, 378]'),\n",
       " Text(31.144186046511628, 67.94999999999999, 'X[93] <= 240448.0\\ngini = 0.026\\nsamples = 23812\\nvalue = [23806, 324]'),\n",
       " Text(15.572093023255814, 40.77000000000001, 'X[17] <= 14877.0\\ngini = 0.022\\nsamples = 23783\\nvalue = [23778, 270]'),\n",
       " Text(7.786046511627907, 13.590000000000003, 'gini = 0.018\\nsamples = 23754\\nvalue = [23750, 216]'),\n",
       " Text(23.35813953488372, 13.590000000000003, 'gini = 0.45\\nsamples = 29\\nvalue = [28, 54]'),\n",
       " Text(46.71627906976744, 40.77000000000001, 'X[93] <= 242094.0\\ngini = 0.45\\nsamples = 29\\nvalue = [28, 54]'),\n",
       " Text(38.93023255813954, 13.590000000000003, 'gini = 0.0\\nsamples = 1\\nvalue = [0, 54]'),\n",
       " Text(54.50232558139535, 13.590000000000003, 'gini = 0.0\\nsamples = 28\\nvalue = [28, 0]'),\n",
       " Text(70.07441860465116, 67.94999999999999, 'X[98] <= 96308.0\\ngini = 0.155\\nsamples = 6\\nvalue = [5, 54]'),\n",
       " Text(62.288372093023256, 40.77000000000001, 'gini = 0.0\\nsamples = 1\\nvalue = [0, 54]'),\n",
       " Text(77.86046511627907, 40.77000000000001, 'gini = 0.0\\nsamples = 5\\nvalue = [5, 0]'),\n",
       " Text(93.43255813953488, 95.13, 'X[73] <= 240709.727\\ngini = 0.461\\nsamples = 63\\nvalue = [61, 108]'),\n",
       " Text(85.64651162790697, 67.94999999999999, 'gini = 0.0\\nsamples = 2\\nvalue = [0, 108]'),\n",
       " Text(101.21860465116279, 67.94999999999999, 'gini = 0.0\\nsamples = 61\\nvalue = [61, 0]'),\n",
       " Text(116.79069767441861, 122.31, 'X[94] <= 35136.0\\ngini = 0.487\\nsamples = 455\\nvalue = [449, 324]'),\n",
       " Text(109.0046511627907, 95.13, 'gini = 0.0\\nsamples = 344\\nvalue = [344, 0]'),\n",
       " Text(124.57674418604651, 95.13, 'X[149] <= 2083.0\\ngini = 0.37\\nsamples = 111\\nvalue = [105, 324]'),\n",
       " Text(116.79069767441861, 67.94999999999999, 'X[108] <= 451633.0\\ngini = 0.203\\nsamples = 48\\nvalue = [42, 324]'),\n",
       " Text(109.0046511627907, 40.77000000000001, 'X[38] <= 1184049.0\\ngini = 0.085\\nsamples = 21\\nvalue = [15, 324]'),\n",
       " Text(101.21860465116279, 13.590000000000003, 'gini = 0.0\\nsamples = 8\\nvalue = [8, 0]'),\n",
       " Text(116.79069767441861, 13.590000000000003, 'gini = 0.041\\nsamples = 13\\nvalue = [7, 324]'),\n",
       " Text(124.57674418604651, 40.77000000000001, 'gini = 0.0\\nsamples = 27\\nvalue = [27, 0]'),\n",
       " Text(132.36279069767443, 67.94999999999999, 'gini = 0.0\\nsamples = 63\\nvalue = [63, 0]'),\n",
       " Text(155.72093023255815, 149.49, 'X[41] <= 10037.0\\ngini = 0.216\\nsamples = 60\\nvalue = [53, 378]'),\n",
       " Text(147.93488372093023, 122.31, 'gini = 0.0\\nsamples = 38\\nvalue = [38, 0]'),\n",
       " Text(163.50697674418603, 122.31, 'X[30] <= 1059.0\\ngini = 0.073\\nsamples = 22\\nvalue = [15, 378]'),\n",
       " Text(155.72093023255815, 95.13, 'X[119] <= 150.0\\ngini = 0.026\\nsamples = 12\\nvalue = [5, 378]'),\n",
       " Text(147.93488372093023, 67.94999999999999, 'X[72] <= 266270.0\\ngini = 0.016\\nsamples = 10\\nvalue = [3, 378]'),\n",
       " Text(140.14883720930231, 40.77000000000001, 'X[103] <= 179.0\\ngini = 0.005\\nsamples = 8\\nvalue = [1, 378]'),\n",
       " Text(132.36279069767443, 13.590000000000003, 'gini = 0.0\\nsamples = 7\\nvalue = [0, 378]'),\n",
       " Text(147.93488372093023, 13.590000000000003, 'gini = 0.0\\nsamples = 1\\nvalue = [1, 0]'),\n",
       " Text(155.72093023255815, 40.77000000000001, 'gini = 0.0\\nsamples = 2\\nvalue = [2, 0]'),\n",
       " Text(163.50697674418603, 67.94999999999999, 'gini = 0.0\\nsamples = 2\\nvalue = [2, 0]'),\n",
       " Text(171.29302325581395, 95.13, 'gini = 0.0\\nsamples = 10\\nvalue = [10, 0]'),\n",
       " Text(251.1, 176.67000000000002, 'X[87] <= 10249548.5\\ngini = 0.131\\nsamples = 2337\\nvalue = [1879, 24732]'),\n",
       " Text(210.2232558139535, 149.49, 'X[93] <= 941.0\\ngini = 0.472\\nsamples = 792\\nvalue = [769, 1242]'),\n",
       " Text(194.65116279069767, 122.31, 'X[27] <= 2362965.0\\ngini = 0.149\\nsamples = 613\\nvalue = [612, 54]'),\n",
       " Text(186.86511627906975, 95.13, 'gini = 0.0\\nsamples = 612\\nvalue = [612, 0]'),\n",
       " Text(202.43720930232558, 95.13, 'gini = 0.0\\nsamples = 1\\nvalue = [0, 54]'),\n",
       " Text(225.7953488372093, 122.31, 'X[116] <= 3265.0\\ngini = 0.206\\nsamples = 179\\nvalue = [157, 1188]'),\n",
       " Text(218.0093023255814, 95.13, 'X[157] <= 1948321.0\\ngini = 0.15\\nsamples = 128\\nvalue = [106, 1188]'),\n",
       " Text(210.2232558139535, 67.94999999999999, 'X[90] <= 27.0\\ngini = 0.114\\nsamples = 99\\nvalue = [77, 1188]'),\n",
       " Text(202.43720930232558, 40.77000000000001, 'gini = 0.0\\nsamples = 26\\nvalue = [26, 0]'),\n",
       " Text(218.0093023255814, 40.77000000000001, 'X[120] <= 8404.0\\ngini = 0.079\\nsamples = 73\\nvalue = [51, 1188]'),\n",
       " Text(210.2232558139535, 13.590000000000003, 'gini = 0.06\\nsamples = 60\\nvalue = [38, 1188]'),\n",
       " Text(225.7953488372093, 13.590000000000003, 'gini = 0.0\\nsamples = 13\\nvalue = [13, 0]'),\n",
       " Text(225.7953488372093, 67.94999999999999, 'gini = 0.0\\nsamples = 29\\nvalue = [29, 0]'),\n",
       " Text(233.58139534883722, 95.13, 'gini = 0.0\\nsamples = 51\\nvalue = [51, 0]'),\n",
       " Text(291.9767441860465, 149.49, 'X[89] <= 2870653.0\\ngini = 0.086\\nsamples = 1545\\nvalue = [1110, 23490]'),\n",
       " Text(264.72558139534885, 122.31, 'X[155] <= 1525174.0\\ngini = 0.304\\nsamples = 415\\nvalue = [384, 1674]'),\n",
       " Text(249.15348837209302, 95.13, 'X[85] <= 2468.0\\ngini = 0.321\\nsamples = 216\\nvalue = [215, 54]'),\n",
       " Text(241.3674418604651, 67.94999999999999, 'gini = 0.0\\nsamples = 215\\nvalue = [215, 0]'),\n",
       " Text(256.9395348837209, 67.94999999999999, 'gini = 0.0\\nsamples = 1\\nvalue = [0, 54]'),\n",
       " Text(280.29767441860463, 95.13, 'X[43] <= 5827.0\\ngini = 0.171\\nsamples = 199\\nvalue = [169, 1620]'),\n",
       " Text(272.51162790697674, 67.94999999999999, 'gini = 0.0\\nsamples = 25\\nvalue = [25, 0]'),\n",
       " Text(288.0837209302326, 67.94999999999999, 'X[53] <= 3712112.0\\ngini = 0.15\\nsamples = 174\\nvalue = [144, 1620]'),\n",
       " Text(280.29767441860463, 40.77000000000001, 'X[159] <= 172179.0\\ngini = 0.132\\nsamples = 154\\nvalue = [124, 1620]'),\n",
       " Text(272.51162790697674, 13.590000000000003, 'gini = 0.118\\nsamples = 139\\nvalue = [109, 1620]'),\n",
       " Text(288.0837209302326, 13.590000000000003, 'gini = 0.0\\nsamples = 15\\nvalue = [15, 0]'),\n",
       " Text(295.86976744186046, 40.77000000000001, 'gini = 0.0\\nsamples = 20\\nvalue = [20, 0]'),\n",
       " Text(319.2279069767442, 122.31, 'X[115] <= 21796.0\\ngini = 0.062\\nsamples = 1130\\nvalue = [726, 21816]'),\n",
       " Text(311.4418604651163, 95.13, 'X[71] <= 128130.0\\ngini = 0.06\\nsamples = 1106\\nvalue = [702, 21816]'),\n",
       " Text(303.65581395348835, 67.94999999999999, 'gini = 0.0\\nsamples = 20\\nvalue = [20, 0]'),\n",
       " Text(319.2279069767442, 67.94999999999999, 'X[47] <= 17699358.0\\ngini = 0.059\\nsamples = 1086\\nvalue = [682, 21816]'),\n",
       " Text(311.4418604651163, 40.77000000000001, 'X[16] <= 183.0\\ngini = 0.058\\nsamples = 1073\\nvalue = [669, 21816]'),\n",
       " Text(303.65581395348835, 13.590000000000003, 'gini = 0.127\\nsamples = 437\\nvalue = [349, 4752]'),\n",
       " Text(319.2279069767442, 13.590000000000003, 'gini = 0.036\\nsamples = 636\\nvalue = [320, 17064]'),\n",
       " Text(327.01395348837207, 40.77000000000001, 'gini = 0.0\\nsamples = 13\\nvalue = [13, 0]'),\n",
       " Text(327.01395348837207, 95.13, 'gini = 0.0\\nsamples = 24\\nvalue = [24, 0]')]"
      ]
     },
     "execution_count": 21,
     "metadata": {},
     "output_type": "execute_result"
    },
    {
     "data": {
      "image/png": "[encoded data removed]",
      "text/plain": [
       "<Figure size 432x288 with 1 Axes>"
      ]
     },
     "metadata": {
      "needs_background": "light"
     },
     "output_type": "display_data"
    }
   ],
   "source": [
    "plt.figure(figsize=(20, 16))\n",
    "plt.show()\n",
    "tree.plot_tree(clf)"
   ]
  },
  {
   "cell_type": "code",
   "execution_count": null,
   "id": "f5e8f650",
   "metadata": {},
   "outputs": [],
   "source": []
  },
  {
   "cell_type": "code",
   "execution_count": null,
   "id": "436eb767",
   "metadata": {},
   "outputs": [],
   "source": []
  },
  {
   "cell_type": "code",
   "execution_count": 58,
   "id": "cca26728",
   "metadata": {},
   "outputs": [
    {
     "name": "stderr",
     "output_type": "stream",
     "text": [
      "C:\\Users\\mouna\\anaconda3\\lib\\site-packages\\sklearn\\svm\\_base.py:985: ConvergenceWarning: Liblinear failed to converge, increase the number of iterations.\n",
      "  warnings.warn(\"Liblinear failed to converge, increase \"\n"
     ]
    },
    {
     "data": {
      "text/plain": [
       "array([[287230.8862163426, 0.0, 0.0, ..., 259712.0, 504.0, 0.0],\n",
       "       [36.0, 0.0, 0.0, ..., 3948.0, 48.0, 0.0],\n",
       "       [20.0, 0.0, 0.0, ..., 44.0, 0.0, 0.0],\n",
       "       ...,\n",
       "       [287230.8862163426, 0.0, 0.0, ..., 164450.0, 12556.0, 0.0],\n",
       "       [287230.8862163426, 0.0, 0.0, ..., 387158.0, 720.0, 0.0],\n",
       "       [287230.8862163426, 0.0, 448.0, ..., 6992462.0, 268280.0, 1200.0]],\n",
       "      dtype=object)"
      ]
     },
     "execution_count": 58,
     "metadata": {},
     "output_type": "execute_result"
    }
   ],
   "source": [
    "from sklearn.svm import LinearSVC\n",
    "from sklearn.feature_selection import SelectFromModel\n",
    "X_trainS.shape\n",
    "lsvc = LinearSVC(class_weight={1: 55}).fit(X_trainS, y_trainS)\n",
    "model = SelectFromModel(lsvc, prefit=True)\n",
    "X_new = model.transform(X_trainS)\n",
    "X_new.shape"
   ]
  },
  {
   "cell_type": "code",
   "execution_count": 155,
   "id": "b0258444",
   "metadata": {
    "scrolled": false
   },
   "outputs": [
    {
     "name": "stderr",
     "output_type": "stream",
     "text": [
      "<ipython-input-155-e94590502879>:5: RuntimeWarning: divide by zero encountered in log10\n",
      "  scores = -np.log10(selector.pvalues_)\n"
     ]
    },
    {
     "data": {
      "image/png": "[encoded data removed]",
      "text/plain": [
       "<Figure size 4320x2160 with 1 Axes>"
      ]
     },
     "metadata": {
      "needs_background": "light"
     },
     "output_type": "display_data"
    }
   ],
   "source": [
    "from sklearn.feature_selection import SelectKBest, f_classif, chi2\n",
    "\n",
    "selector = SelectKBest(chi2, k=4)\n",
    "selector.fit(X_trainS, y_trainS)\n",
    "scores = -np.log10(selector.pvalues_)\n",
    "#scores /= scores.max()\n",
    "import matplotlib.pyplot as plt\n",
    "\n",
    "#X_indices = np.arange(X.shape[-1])\n",
    "fig= plt.figure(figsize=(60,30))\n",
    "#plt.figure(1)\n",
    "plt.clf()\n",
    "plt.bar(X_trainS.columns, scores, width=0.2)\n",
    "plt.title(\"Feature univariate score\")\n",
    "plt.xlabel(\"Feature number\")\n",
    "plt.ylabel(r\"Univariate score ($-Log(p_{value})$)\")\n",
    "plt.show()"
   ]
  },
  {
   "cell_type": "code",
   "execution_count": null,
   "id": "5aee8f94",
   "metadata": {},
   "outputs": [],
   "source": []
  },
  {
   "cell_type": "code",
   "execution_count": null,
   "id": "768a1040",
   "metadata": {},
   "outputs": [],
   "source": []
  },
  {
   "cell_type": "code",
   "execution_count": 85,
   "id": "0988e54e",
   "metadata": {},
   "outputs": [
    {
     "name": "stdout",
     "output_type": "stream",
     "text": [
      "Classification accuracy without selecting features: 0.992\n"
     ]
    }
   ],
   "source": [
    "\n",
    "\n",
    "clf = make_pipeline(MinMaxScaler(), LinearSVC())\n",
    "clf.fit(X_trainS, y_trainS)\n",
    "print(\n",
    "    \"Classification accuracy without selecting features: {:.3f}\".format(\n",
    "        clf.score(X_trainS, y_trainS)\n",
    "    )\n",
    ")\n",
    "\n",
    "svm_weights = np.abs(clf[-1].coef_).sum(axis=0)\n",
    "svm_weights /= svm_weights.sum()"
   ]
  },
  {
   "cell_type": "code",
   "execution_count": 211,
   "id": "8e76c62c",
   "metadata": {},
   "outputs": [
    {
     "name": "stderr",
     "output_type": "stream",
     "text": [
      "C:\\Users\\mouna\\anaconda3\\lib\\site-packages\\sklearn\\svm\\_base.py:985: ConvergenceWarning: Liblinear failed to converge, increase the number of iterations.\n",
      "  warnings.warn(\"Liblinear failed to converge, increase \"\n"
     ]
    },
    {
     "name": "stdout",
     "output_type": "stream",
     "text": [
      "0.8355287918705308\n"
     ]
    },
    {
     "name": "stderr",
     "output_type": "stream",
     "text": [
      "C:\\Users\\mouna\\anaconda3\\lib\\site-packages\\sklearn\\svm\\_base.py:985: ConvergenceWarning: Liblinear failed to converge, increase the number of iterations.\n",
      "  warnings.warn(\"Liblinear failed to converge, increase \"\n"
     ]
    }
   ],
   "source": [
    "clf_selected = make_pipeline(SelectKBest(chi2, k=105), MinMaxScaler(), LinearSVC(class_weight={1: 55}))\n",
    "clf_selected.fit(X_trainS, y_trainS)\n",
    "y_predS = clf_selected.fit(X_trainS, y_trainS).predict(X_testS)\n",
    "f_score = fbeta_score(y_testS, y_predS, beta = 3)\n",
    "print(f_score)\n"
   ]
  },
  {
   "cell_type": "code",
   "execution_count": null,
   "id": "b796cc3b",
   "metadata": {},
   "outputs": [],
   "source": []
  },
  {
   "cell_type": "code",
   "execution_count": 212,
   "id": "7240d0ec",
   "metadata": {},
   "outputs": [
    {
     "name": "stderr",
     "output_type": "stream",
     "text": [
      "C:\\Users\\mouna\\anaconda3\\lib\\site-packages\\sklearn\\svm\\_base.py:985: ConvergenceWarning: Liblinear failed to converge, increase the number of iterations.\n",
      "  warnings.warn(\"Liblinear failed to converge, increase \"\n"
     ]
    }
   ],
   "source": [
    "y_pred = pipe.fit(X_train_p, y_train).predict(X_test_p)\n",
    "y_pred_sol = {}\n",
    "y_pred_sol['Id']=list(range(17100))\n",
    "y_pred_sol['Predicted']=list((y_pred))\n",
    "df = pd.DataFrame(y_pred_sol, columns = ['Id', 'Predicted'])\n",
    "df.to_csv('momo105.csv', index=False)"
   ]
  },
  {
   "cell_type": "code",
   "execution_count": null,
   "id": "7bc9f4d1",
   "metadata": {},
   "outputs": [],
   "source": []
  },
  {
   "cell_type": "code",
   "execution_count": null,
   "id": "1edd4f0a",
   "metadata": {},
   "outputs": [],
   "source": []
  },
  {
   "cell_type": "code",
   "execution_count": 12,
   "id": "09fa8d85",
   "metadata": {},
   "outputs": [
    {
     "name": "stderr",
     "output_type": "stream",
     "text": [
      "C:\\Users\\mouna\\anaconda3\\lib\\site-packages\\sklearn\\svm\\_base.py:1244: ConvergenceWarning: Liblinear failed to converge, increase the number of iterations.\n",
      "  warnings.warn(\n",
      "C:\\Users\\mouna\\anaconda3\\lib\\site-packages\\sklearn\\svm\\_base.py:1244: ConvergenceWarning: Liblinear failed to converge, increase the number of iterations.\n",
      "  warnings.warn(\n",
      "C:\\Users\\mouna\\anaconda3\\lib\\site-packages\\sklearn\\svm\\_base.py:1244: ConvergenceWarning: Liblinear failed to converge, increase the number of iterations.\n",
      "  warnings.warn(\n",
      "C:\\Users\\mouna\\anaconda3\\lib\\site-packages\\sklearn\\svm\\_base.py:1244: ConvergenceWarning: Liblinear failed to converge, increase the number of iterations.\n",
      "  warnings.warn(\n"
     ]
    },
    {
     "name": "stdout",
     "output_type": "stream",
     "text": [
      "[0.81246182 0.81607795 0.81031308 0.81947012 0.78931013]\n"
     ]
    },
    {
     "name": "stderr",
     "output_type": "stream",
     "text": [
      "C:\\Users\\mouna\\anaconda3\\lib\\site-packages\\sklearn\\svm\\_base.py:1244: ConvergenceWarning: Liblinear failed to converge, increase the number of iterations.\n",
      "  warnings.warn(\n"
     ]
    }
   ],
   "source": [
    "pipe = make_pipeline(SelectKBest(chi2, k=105), MinMaxScaler(), LinearSVC(class_weight={1: 70}))\n",
    "it = StratifiedKFold(n_splits=5, random_state=None, shuffle=False)\n",
    "fthree_scorer = make_scorer(fbeta_score, beta=3)\n",
    "cv_results = cv(pipe, X_train_p, y_train, cv=it, scoring = fthree_scorer)\n",
    "print(cv_results)"
   ]
  },
  {
   "cell_type": "code",
   "execution_count": null,
   "id": "e9d30d5e",
   "metadata": {},
   "outputs": [],
   "source": []
  },
  {
   "cell_type": "code",
   "execution_count": 19,
   "id": "40b04a23",
   "metadata": {},
   "outputs": [
    {
     "name": "stdout",
     "output_type": "stream",
     "text": [
      "[0.74593382 0.74945295 0.74527253 0.75900277 0.72349972]\n"
     ]
    }
   ],
   "source": [
    "from sklearn.naive_bayes import ComplementNB\n",
    "clf = ComplementNB(fit_prior = True, class_prior = [0.1 , 0.9])\n",
    "pipe = make_pipeline(MinMaxScaler(), clf)\n",
    "it = StratifiedKFold(n_splits=5, random_state=None, shuffle=False)\n",
    "fthree_scorer = make_scorer(fbeta_score, beta=3)\n",
    "cv_results = cv(pipe, X_train_p, y_train, cv=it, scoring = fthree_scorer)\n",
    "print(cv_results)"
   ]
  },
  {
   "cell_type": "code",
   "execution_count": null,
   "id": "6a2e8307",
   "metadata": {},
   "outputs": [],
   "source": []
  },
  {
   "cell_type": "code",
   "execution_count": 313,
   "id": "a7d75ea0",
   "metadata": {},
   "outputs": [
    {
     "data": {
      "text/plain": [
       "0.7692307692307692"
      ]
     },
     "execution_count": 313,
     "metadata": {},
     "output_type": "execute_result"
    }
   ],
   "source": [
    "clf = GaussianNB()\n",
    "clf.fit(X_trainS, y_trainS, sample_weight = 0.9).predict(X_testS)\n",
    "y_predict = clf.fit(X_trainS,y_trainS).predict(X_testS)\n",
    "fbeta_score(y_testS, y_predict, beta = 3)"
   ]
  },
  {
   "cell_type": "code",
   "execution_count": null,
   "id": "1ca20cb2",
   "metadata": {},
   "outputs": [],
   "source": []
  },
  {
   "cell_type": "code",
   "execution_count": 154,
   "id": "f33dab83",
   "metadata": {},
   "outputs": [
    {
     "name": "stderr",
     "output_type": "stream",
     "text": [
      "C:\\Users\\mouna\\anaconda3\\lib\\site-packages\\sklearn\\feature_selection\\_univariate_selection.py:114: UserWarning: Features [82] are constant.\n",
      "  warnings.warn(\"Features %s are constant.\" % constant_features_idx,\n",
      "C:\\Users\\mouna\\anaconda3\\lib\\site-packages\\sklearn\\feature_selection\\_univariate_selection.py:116: RuntimeWarning: invalid value encountered in true_divide\n",
      "  f = msb / msw\n"
     ]
    }
   ],
   "source": [
    "y_pred = pipe.fit(X_train_p, y_train).predict(X_test_p)\n",
    "y_pred_sol = {}\n",
    "y_pred_sol['Id']=list(range(17100))\n",
    "y_pred_sol['Predicted']=list((y_pred))\n",
    "df = pd.DataFrame(y_pred_sol, columns = ['Id', 'Predicted'])\n",
    "df.to_csv('momo103.csv', index=False)"
   ]
  },
  {
   "cell_type": "code",
   "execution_count": null,
   "id": "e5291cc5",
   "metadata": {},
   "outputs": [],
   "source": []
  },
  {
   "cell_type": "code",
   "execution_count": null,
   "id": "199eb884",
   "metadata": {},
   "outputs": [],
   "source": []
  },
  {
   "cell_type": "code",
   "execution_count": 20,
   "id": "0b922501",
   "metadata": {},
   "outputs": [
    {
     "name": "stdout",
     "output_type": "stream",
     "text": [
      "[0.74542009 0.74514715 0.72632944 0.75373619 0.79589217]\n"
     ]
    }
   ],
   "source": [
    "clf = DTC(criterion='gini', splitter='best', min_samples_split=20, max_depth=15, class_weight={1: 55})\n",
    "pipe = make_pipeline(SelectKBest(chi2, k=100), MinMaxScaler(), clf)\n",
    "it = StratifiedKFold(n_splits=5, random_state=None, shuffle=False)\n",
    "fthree_scorer = make_scorer(fbeta_score, beta=3)\n",
    "cv_results = cv(pipe, X_train_p, y_train, cv=it, scoring = fthree_scorer)\n",
    "print(cv_results)"
   ]
  },
  {
   "cell_type": "code",
   "execution_count": null,
   "id": "05972074",
   "metadata": {},
   "outputs": [],
   "source": []
  },
  {
   "cell_type": "code",
   "execution_count": null,
   "id": "2dcb8fb2",
   "metadata": {},
   "outputs": [],
   "source": []
  },
  {
   "cell_type": "code",
   "execution_count": 21,
   "id": "c6870293",
   "metadata": {},
   "outputs": [
    {
     "name": "stderr",
     "output_type": "stream",
     "text": [
      "C:\\Users\\mouna\\anaconda3\\lib\\site-packages\\sklearn\\linear_model\\_logistic.py:458: ConvergenceWarning: lbfgs failed to converge (status=1):\n",
      "STOP: TOTAL NO. of ITERATIONS REACHED LIMIT.\n",
      "\n",
      "Increase the number of iterations (max_iter) or scale the data as shown in:\n",
      "    https://scikit-learn.org/stable/modules/preprocessing.html\n",
      "Please also refer to the documentation for alternative solver options:\n",
      "    https://scikit-learn.org/stable/modules/linear_model.html#logistic-regression\n",
      "  n_iter_i = _check_optimize_result(\n",
      "C:\\Users\\mouna\\anaconda3\\lib\\site-packages\\sklearn\\linear_model\\_logistic.py:458: ConvergenceWarning: lbfgs failed to converge (status=1):\n",
      "STOP: TOTAL NO. of ITERATIONS REACHED LIMIT.\n",
      "\n",
      "Increase the number of iterations (max_iter) or scale the data as shown in:\n",
      "    https://scikit-learn.org/stable/modules/preprocessing.html\n",
      "Please also refer to the documentation for alternative solver options:\n",
      "    https://scikit-learn.org/stable/modules/linear_model.html#logistic-regression\n",
      "  n_iter_i = _check_optimize_result(\n",
      "C:\\Users\\mouna\\anaconda3\\lib\\site-packages\\sklearn\\linear_model\\_logistic.py:458: ConvergenceWarning: lbfgs failed to converge (status=1):\n",
      "STOP: TOTAL NO. of ITERATIONS REACHED LIMIT.\n",
      "\n",
      "Increase the number of iterations (max_iter) or scale the data as shown in:\n",
      "    https://scikit-learn.org/stable/modules/preprocessing.html\n",
      "Please also refer to the documentation for alternative solver options:\n",
      "    https://scikit-learn.org/stable/modules/linear_model.html#logistic-regression\n",
      "  n_iter_i = _check_optimize_result(\n",
      "C:\\Users\\mouna\\anaconda3\\lib\\site-packages\\sklearn\\linear_model\\_logistic.py:458: ConvergenceWarning: lbfgs failed to converge (status=1):\n",
      "STOP: TOTAL NO. of ITERATIONS REACHED LIMIT.\n",
      "\n",
      "Increase the number of iterations (max_iter) or scale the data as shown in:\n",
      "    https://scikit-learn.org/stable/modules/preprocessing.html\n",
      "Please also refer to the documentation for alternative solver options:\n",
      "    https://scikit-learn.org/stable/modules/linear_model.html#logistic-regression\n",
      "  n_iter_i = _check_optimize_result(\n"
     ]
    },
    {
     "name": "stdout",
     "output_type": "stream",
     "text": [
      "[0.8086904  0.81097197 0.81113801 0.83333333 0.7749535 ]\n"
     ]
    },
    {
     "name": "stderr",
     "output_type": "stream",
     "text": [
      "C:\\Users\\mouna\\anaconda3\\lib\\site-packages\\sklearn\\linear_model\\_logistic.py:458: ConvergenceWarning: lbfgs failed to converge (status=1):\n",
      "STOP: TOTAL NO. of ITERATIONS REACHED LIMIT.\n",
      "\n",
      "Increase the number of iterations (max_iter) or scale the data as shown in:\n",
      "    https://scikit-learn.org/stable/modules/preprocessing.html\n",
      "Please also refer to the documentation for alternative solver options:\n",
      "    https://scikit-learn.org/stable/modules/linear_model.html#logistic-regression\n",
      "  n_iter_i = _check_optimize_result(\n"
     ]
    }
   ],
   "source": [
    "clf = LogisticRegression(penalty='l2', dual=False, tol=0.0001, C=1.0, fit_intercept=True, intercept_scaling=1, random_state=None, solver='lbfgs', max_iter=100, multi_class='auto', verbose=0, warm_start=False, n_jobs=None, l1_ratio=None, class_weight={1: 55})\n",
    "pipe = make_pipeline(SelectKBest(chi2, k=140), MinMaxScaler(), clf)\n",
    "it = StratifiedKFold(n_splits=5, random_state=None, shuffle=False)\n",
    "fthree_scorer = make_scorer(fbeta_score, beta=3)\n",
    "cv_results = cv(pipe, X_train_p, y_train, cv=it, scoring = fthree_scorer)\n",
    "print(cv_results)"
   ]
  },
  {
   "cell_type": "code",
   "execution_count": null,
   "id": "b1078f5e",
   "metadata": {},
   "outputs": [],
   "source": []
  },
  {
   "cell_type": "code",
   "execution_count": null,
   "id": "e3826681",
   "metadata": {},
   "outputs": [],
   "source": []
  },
  {
   "cell_type": "code",
   "execution_count": null,
   "id": "630c4720",
   "metadata": {},
   "outputs": [],
   "source": []
  },
  {
   "cell_type": "code",
   "execution_count": null,
   "id": "2f01cf19",
   "metadata": {},
   "outputs": [],
   "source": []
  },
  {
   "cell_type": "code",
   "execution_count": null,
   "id": "ee716c0d",
   "metadata": {},
   "outputs": [],
   "source": []
  },
  {
   "cell_type": "code",
   "execution_count": null,
   "id": "628c9d4d",
   "metadata": {},
   "outputs": [],
   "source": []
  },
  {
   "cell_type": "code",
   "execution_count": null,
   "id": "b9968c20",
   "metadata": {},
   "outputs": [],
   "source": []
  },
  {
   "cell_type": "code",
   "execution_count": null,
   "id": "e4f072bc",
   "metadata": {},
   "outputs": [],
   "source": []
  },
  {
   "cell_type": "code",
   "execution_count": null,
   "id": "9efed6e3",
   "metadata": {},
   "outputs": [],
   "source": []
  },
  {
   "cell_type": "code",
   "execution_count": null,
   "id": "1d0425df",
   "metadata": {},
   "outputs": [],
   "source": []
  },
  {
   "cell_type": "code",
   "execution_count": 202,
   "id": "fe31f2c0",
   "metadata": {},
   "outputs": [],
   "source": [
    "y_pred = pipe.fit(X_train_p, y_train).predict(X_test_p)\n",
    "y_pred_sol = {}\n",
    "y_pred_sol['Id']=list(range(17100))\n",
    "y_pred_sol['Predicted']=list((y_pred))\n",
    "df = pd.DataFrame(y_pred_sol, columns = ['Id', 'Predicted'])\n",
    "df.to_csv('momo104.csv', index=False)"
   ]
  },
  {
   "cell_type": "code",
   "execution_count": null,
   "id": "6b1f0d57",
   "metadata": {},
   "outputs": [],
   "source": []
  },
  {
   "cell_type": "code",
   "execution_count": null,
   "id": "64ce7e25",
   "metadata": {},
   "outputs": [],
   "source": []
  },
  {
   "cell_type": "code",
   "execution_count": null,
   "id": "8c70f1e6",
   "metadata": {},
   "outputs": [],
   "source": []
  },
  {
   "cell_type": "code",
   "execution_count": null,
   "id": "0ac130b3",
   "metadata": {},
   "outputs": [],
   "source": [
    "clf = LogisticRegression(penalty='l2', dual=False, tol=0.0001, C=1.0, fit_intercept=True, intercept_scaling=1, random_state=None, solver='lbfgs', max_iter=100, multi_class='auto', verbose=0, warm_start=False, n_jobs=None, l1_ratio=None, class_weight={1: 55})\n",
    "pipe = make_pipeline(SelectKBest(f_classif, k=60), MinMaxScaler(), clf)\n",
    "it = StratifiedKFold(n_splits=5, random_state=None, shuffle=False)\n",
    "fthree_scorer = make_scorer(fbeta_score, beta=3)\n",
    "cv_results = cv(pipe, X_train_p, y_train, cv=it, scoring = fthree_scorer)\n",
    "print(cv_results)"
   ]
  },
  {
   "cell_type": "code",
   "execution_count": null,
   "id": "92f18977",
   "metadata": {},
   "outputs": [],
   "source": []
  },
  {
   "cell_type": "code",
   "execution_count": 213,
   "id": "560ad0c9",
   "metadata": {},
   "outputs": [],
   "source": [
    "from sklearn.linear_model import SGDClassifier"
   ]
  },
  {
   "cell_type": "code",
   "execution_count": 266,
   "id": "c197f47f",
   "metadata": {},
   "outputs": [
    {
     "name": "stdout",
     "output_type": "stream",
     "text": [
      "[0.80438757 0.80408424 0.75083426 0.83073079 0.73622881]\n"
     ]
    }
   ],
   "source": [
    "clf = SGDClassifier(loss='modified_huber', penalty='l2', alpha=0.0001, l1_ratio=0.15, fit_intercept=True, max_iter=10000, tol=0.001, shuffle=True, verbose=0, epsilon=0.1, n_jobs=None, random_state=None, learning_rate='optimal', eta0=0.0, power_t=0.5, early_stopping=False, validation_fraction=0.1, n_iter_no_change=5, class_weight={1: 60}, warm_start=False, average=False)\n",
    "pipe = make_pipeline(MinMaxScaler(), clf)\n",
    "it = StratifiedKFold(n_splits=5, random_state=None, shuffle=False)\n",
    "fthree_scorer = make_scorer(fbeta_score, beta=3)\n",
    "cv_results = cv(pipe, X_train_p, y_train, cv=it, scoring = fthree_scorer)\n",
    "print(cv_results)"
   ]
  },
  {
   "cell_type": "code",
   "execution_count": 267,
   "id": "c583d30a",
   "metadata": {},
   "outputs": [],
   "source": [
    "y_pred = pipe.fit(X_train_p, y_train).predict(X_test_p)\n",
    "y_pred_sol = {}\n",
    "y_pred_sol['Id']=list(range(17100))\n",
    "y_pred_sol['Predicted']=list((y_pred))\n",
    "df = pd.DataFrame(y_pred_sol, columns = ['Id', 'Predicted'])\n",
    "df.to_csv('momo106.csv', index=False)"
   ]
  },
  {
   "cell_type": "code",
   "execution_count": null,
   "id": "fdb65fcd",
   "metadata": {},
   "outputs": [],
   "source": []
  },
  {
   "cell_type": "code",
   "execution_count": null,
   "id": "da859bcf",
   "metadata": {},
   "outputs": [],
   "source": []
  },
  {
   "cell_type": "code",
   "execution_count": 314,
   "id": "6585675d",
   "metadata": {},
   "outputs": [
    {
     "name": "stdout",
     "output_type": "stream",
     "text": [
      "[0.76117318 0.67558058 0.74877537 0.70175439 0.64401982]\n"
     ]
    }
   ],
   "source": [
    "from sklearn.ensemble import AdaBoostClassifier\n",
    "clf = AdaBoostClassifier(n_estimators=100)\n",
    "pipe = make_pipeline(MinMaxScaler(), clf)\n",
    "it = StratifiedKFold(n_splits=5, random_state=None, shuffle=False)\n",
    "fthree_scorer = make_scorer(fbeta_score, beta=3)\n",
    "cv_results = cv(pipe, X_train_p, y_train, cv=it, scoring = fthree_scorer)\n",
    "print(cv_results)"
   ]
  },
  {
   "cell_type": "code",
   "execution_count": null,
   "id": "a1683e7b",
   "metadata": {},
   "outputs": [],
   "source": []
  },
  {
   "cell_type": "code",
   "execution_count": 316,
   "id": "83529c13",
   "metadata": {},
   "outputs": [
    {
     "name": "stdout",
     "output_type": "stream",
     "text": [
      "[0.41364296 0.74235808 0.33691756 0.4029304  0.28127313]\n"
     ]
    }
   ],
   "source": [
    "from sklearn.ensemble import GradientBoostingClassifier\n",
    "clf = GradientBoostingClassifier(n_estimators=100, learning_rate=1.0)\n",
    "#, max_depth=1, random_state=0\n",
    "pipe = make_pipeline(MinMaxScaler(), clf)\n",
    "it = StratifiedKFold(n_splits=5, random_state=None, shuffle=False)\n",
    "fthree_scorer = make_scorer(fbeta_score, beta=3)\n",
    "cv_results = cv(pipe, X_train_p, y_train, cv=it, scoring = fthree_scorer)\n",
    "print(cv_results)"
   ]
  },
  {
   "cell_type": "code",
   "execution_count": null,
   "id": "c1797ce2",
   "metadata": {},
   "outputs": [],
   "source": []
  },
  {
   "cell_type": "code",
   "execution_count": null,
   "id": "1be10a74",
   "metadata": {},
   "outputs": [],
   "source": []
  },
  {
   "cell_type": "code",
   "execution_count": null,
   "id": "c33ebccb",
   "metadata": {},
   "outputs": [],
   "source": []
  },
  {
   "cell_type": "code",
   "execution_count": null,
   "id": "c9c640a3",
   "metadata": {},
   "outputs": [],
   "source": []
  },
  {
   "cell_type": "code",
   "execution_count": null,
   "id": "a4203a6a",
   "metadata": {},
   "outputs": [],
   "source": []
  },
  {
   "cell_type": "code",
   "execution_count": null,
   "id": "61d64752",
   "metadata": {},
   "outputs": [],
   "source": []
  },
  {
   "cell_type": "code",
   "execution_count": null,
   "id": "64f7ee65",
   "metadata": {},
   "outputs": [],
   "source": []
  },
  {
   "cell_type": "code",
   "execution_count": null,
   "id": "b97d3eca",
   "metadata": {},
   "outputs": [],
   "source": []
  },
  {
   "cell_type": "code",
   "execution_count": null,
   "id": "7ec2d82e",
   "metadata": {},
   "outputs": [],
   "source": []
  },
  {
   "cell_type": "code",
   "execution_count": null,
   "id": "283d9f2f",
   "metadata": {},
   "outputs": [],
   "source": []
  },
  {
   "cell_type": "code",
   "execution_count": null,
   "id": "42ee9c98",
   "metadata": {},
   "outputs": [],
   "source": []
  },
  {
   "cell_type": "code",
   "execution_count": 248,
   "id": "191bb893",
   "metadata": {},
   "outputs": [
    {
     "name": "stderr",
     "output_type": "stream",
     "text": [
      "C:\\Users\\mouna\\anaconda3\\lib\\site-packages\\sklearn\\linear_model\\_stochastic_gradient.py:574: ConvergenceWarning: Maximum number of iteration reached before convergence. Consider increasing max_iter to improve the fit.\n",
      "  warnings.warn(\"Maximum number of iteration reached before \"\n",
      "C:\\Users\\mouna\\anaconda3\\lib\\site-packages\\sklearn\\linear_model\\_stochastic_gradient.py:574: ConvergenceWarning: Maximum number of iteration reached before convergence. Consider increasing max_iter to improve the fit.\n",
      "  warnings.warn(\"Maximum number of iteration reached before \"\n",
      "C:\\Users\\mouna\\anaconda3\\lib\\site-packages\\sklearn\\linear_model\\_stochastic_gradient.py:574: ConvergenceWarning: Maximum number of iteration reached before convergence. Consider increasing max_iter to improve the fit.\n",
      "  warnings.warn(\"Maximum number of iteration reached before \"\n",
      "C:\\Users\\mouna\\anaconda3\\lib\\site-packages\\sklearn\\linear_model\\_stochastic_gradient.py:574: ConvergenceWarning: Maximum number of iteration reached before convergence. Consider increasing max_iter to improve the fit.\n",
      "  warnings.warn(\"Maximum number of iteration reached before \"\n",
      "C:\\Users\\mouna\\anaconda3\\lib\\site-packages\\sklearn\\linear_model\\_stochastic_gradient.py:574: ConvergenceWarning: Maximum number of iteration reached before convergence. Consider increasing max_iter to improve the fit.\n",
      "  warnings.warn(\"Maximum number of iteration reached before \"\n",
      "C:\\Users\\mouna\\anaconda3\\lib\\site-packages\\sklearn\\linear_model\\_stochastic_gradient.py:574: ConvergenceWarning: Maximum number of iteration reached before convergence. Consider increasing max_iter to improve the fit.\n",
      "  warnings.warn(\"Maximum number of iteration reached before \"\n",
      "C:\\Users\\mouna\\anaconda3\\lib\\site-packages\\sklearn\\linear_model\\_stochastic_gradient.py:574: ConvergenceWarning: Maximum number of iteration reached before convergence. Consider increasing max_iter to improve the fit.\n",
      "  warnings.warn(\"Maximum number of iteration reached before \"\n",
      "C:\\Users\\mouna\\anaconda3\\lib\\site-packages\\sklearn\\linear_model\\_stochastic_gradient.py:574: ConvergenceWarning: Maximum number of iteration reached before convergence. Consider increasing max_iter to improve the fit.\n",
      "  warnings.warn(\"Maximum number of iteration reached before \"\n",
      "C:\\Users\\mouna\\anaconda3\\lib\\site-packages\\sklearn\\linear_model\\_stochastic_gradient.py:574: ConvergenceWarning: Maximum number of iteration reached before convergence. Consider increasing max_iter to improve the fit.\n",
      "  warnings.warn(\"Maximum number of iteration reached before \"\n",
      "C:\\Users\\mouna\\anaconda3\\lib\\site-packages\\sklearn\\linear_model\\_stochastic_gradient.py:574: ConvergenceWarning: Maximum number of iteration reached before convergence. Consider increasing max_iter to improve the fit.\n",
      "  warnings.warn(\"Maximum number of iteration reached before \"\n",
      "C:\\Users\\mouna\\anaconda3\\lib\\site-packages\\sklearn\\linear_model\\_stochastic_gradient.py:574: ConvergenceWarning: Maximum number of iteration reached before convergence. Consider increasing max_iter to improve the fit.\n",
      "  warnings.warn(\"Maximum number of iteration reached before \"\n",
      "C:\\Users\\mouna\\anaconda3\\lib\\site-packages\\sklearn\\linear_model\\_stochastic_gradient.py:574: ConvergenceWarning: Maximum number of iteration reached before convergence. Consider increasing max_iter to improve the fit.\n",
      "  warnings.warn(\"Maximum number of iteration reached before \"\n",
      "C:\\Users\\mouna\\anaconda3\\lib\\site-packages\\sklearn\\linear_model\\_stochastic_gradient.py:574: ConvergenceWarning: Maximum number of iteration reached before convergence. Consider increasing max_iter to improve the fit.\n",
      "  warnings.warn(\"Maximum number of iteration reached before \"\n",
      "C:\\Users\\mouna\\anaconda3\\lib\\site-packages\\sklearn\\linear_model\\_stochastic_gradient.py:574: ConvergenceWarning: Maximum number of iteration reached before convergence. Consider increasing max_iter to improve the fit.\n",
      "  warnings.warn(\"Maximum number of iteration reached before \"\n",
      "C:\\Users\\mouna\\anaconda3\\lib\\site-packages\\sklearn\\linear_model\\_stochastic_gradient.py:574: ConvergenceWarning: Maximum number of iteration reached before convergence. Consider increasing max_iter to improve the fit.\n",
      "  warnings.warn(\"Maximum number of iteration reached before \"\n",
      "C:\\Users\\mouna\\anaconda3\\lib\\site-packages\\sklearn\\linear_model\\_stochastic_gradient.py:574: ConvergenceWarning: Maximum number of iteration reached before convergence. Consider increasing max_iter to improve the fit.\n",
      "  warnings.warn(\"Maximum number of iteration reached before \"\n",
      "C:\\Users\\mouna\\anaconda3\\lib\\site-packages\\sklearn\\linear_model\\_stochastic_gradient.py:574: ConvergenceWarning: Maximum number of iteration reached before convergence. Consider increasing max_iter to improve the fit.\n",
      "  warnings.warn(\"Maximum number of iteration reached before \"\n",
      "C:\\Users\\mouna\\anaconda3\\lib\\site-packages\\sklearn\\linear_model\\_stochastic_gradient.py:574: ConvergenceWarning: Maximum number of iteration reached before convergence. Consider increasing max_iter to improve the fit.\n",
      "  warnings.warn(\"Maximum number of iteration reached before \"\n",
      "C:\\Users\\mouna\\anaconda3\\lib\\site-packages\\sklearn\\linear_model\\_stochastic_gradient.py:574: ConvergenceWarning: Maximum number of iteration reached before convergence. Consider increasing max_iter to improve the fit.\n",
      "  warnings.warn(\"Maximum number of iteration reached before \"\n",
      "C:\\Users\\mouna\\anaconda3\\lib\\site-packages\\sklearn\\linear_model\\_stochastic_gradient.py:574: ConvergenceWarning: Maximum number of iteration reached before convergence. Consider increasing max_iter to improve the fit.\n",
      "  warnings.warn(\"Maximum number of iteration reached before \"\n",
      "C:\\Users\\mouna\\anaconda3\\lib\\site-packages\\sklearn\\linear_model\\_stochastic_gradient.py:574: ConvergenceWarning: Maximum number of iteration reached before convergence. Consider increasing max_iter to improve the fit.\n",
      "  warnings.warn(\"Maximum number of iteration reached before \"\n",
      "C:\\Users\\mouna\\anaconda3\\lib\\site-packages\\sklearn\\linear_model\\_stochastic_gradient.py:574: ConvergenceWarning: Maximum number of iteration reached before convergence. Consider increasing max_iter to improve the fit.\n",
      "  warnings.warn(\"Maximum number of iteration reached before \"\n",
      "C:\\Users\\mouna\\anaconda3\\lib\\site-packages\\sklearn\\linear_model\\_stochastic_gradient.py:574: ConvergenceWarning: Maximum number of iteration reached before convergence. Consider increasing max_iter to improve the fit.\n",
      "  warnings.warn(\"Maximum number of iteration reached before \"\n",
      "C:\\Users\\mouna\\anaconda3\\lib\\site-packages\\sklearn\\linear_model\\_stochastic_gradient.py:574: ConvergenceWarning: Maximum number of iteration reached before convergence. Consider increasing max_iter to improve the fit.\n",
      "  warnings.warn(\"Maximum number of iteration reached before \"\n",
      "C:\\Users\\mouna\\anaconda3\\lib\\site-packages\\sklearn\\linear_model\\_stochastic_gradient.py:574: ConvergenceWarning: Maximum number of iteration reached before convergence. Consider increasing max_iter to improve the fit.\n",
      "  warnings.warn(\"Maximum number of iteration reached before \"\n",
      "C:\\Users\\mouna\\anaconda3\\lib\\site-packages\\sklearn\\linear_model\\_stochastic_gradient.py:574: ConvergenceWarning: Maximum number of iteration reached before convergence. Consider increasing max_iter to improve the fit.\n",
      "  warnings.warn(\"Maximum number of iteration reached before \"\n",
      "C:\\Users\\mouna\\anaconda3\\lib\\site-packages\\sklearn\\linear_model\\_stochastic_gradient.py:574: ConvergenceWarning: Maximum number of iteration reached before convergence. Consider increasing max_iter to improve the fit.\n",
      "  warnings.warn(\"Maximum number of iteration reached before \"\n",
      "C:\\Users\\mouna\\anaconda3\\lib\\site-packages\\sklearn\\linear_model\\_stochastic_gradient.py:574: ConvergenceWarning: Maximum number of iteration reached before convergence. Consider increasing max_iter to improve the fit.\n",
      "  warnings.warn(\"Maximum number of iteration reached before \"\n",
      "C:\\Users\\mouna\\anaconda3\\lib\\site-packages\\sklearn\\linear_model\\_stochastic_gradient.py:574: ConvergenceWarning: Maximum number of iteration reached before convergence. Consider increasing max_iter to improve the fit.\n",
      "  warnings.warn(\"Maximum number of iteration reached before \"\n",
      "C:\\Users\\mouna\\anaconda3\\lib\\site-packages\\sklearn\\linear_model\\_stochastic_gradient.py:574: ConvergenceWarning: Maximum number of iteration reached before convergence. Consider increasing max_iter to improve the fit.\n",
      "  warnings.warn(\"Maximum number of iteration reached before \"\n"
     ]
    },
    {
     "ename": "AttributeError",
     "evalue": "'SGDClassifier' object has no attribute 'cv_results_'",
     "output_type": "error",
     "traceback": [
      "\u001b[1;31m---------------------------------------------------------------------------\u001b[0m",
      "\u001b[1;31mAttributeError\u001b[0m                            Traceback (most recent call last)",
      "\u001b[1;32m<ipython-input-248-8d657a66e759>\u001b[0m in \u001b[0;36m<module>\u001b[1;34m\u001b[0m\n\u001b[0;32m      7\u001b[0m \u001b[0mtune\u001b[0m\u001b[1;33m.\u001b[0m\u001b[0mfit\u001b[0m\u001b[1;33m(\u001b[0m\u001b[0mX_train_p\u001b[0m\u001b[1;33m,\u001b[0m \u001b[0my_train\u001b[0m\u001b[1;33m)\u001b[0m\u001b[1;33m\u001b[0m\u001b[1;33m\u001b[0m\u001b[0m\n\u001b[0;32m      8\u001b[0m \u001b[1;31m#GridSearchCV(estimator=SVC(), param_grid={'C': [1, 10], 'kernel': ('linear', 'rbf')})\u001b[0m\u001b[1;33m\u001b[0m\u001b[1;33m\u001b[0m\u001b[1;33m\u001b[0m\u001b[0m\n\u001b[1;32m----> 9\u001b[1;33m \u001b[0msorted\u001b[0m\u001b[1;33m(\u001b[0m\u001b[0mclf\u001b[0m\u001b[1;33m.\u001b[0m\u001b[0mcv_results_\u001b[0m\u001b[1;33m.\u001b[0m\u001b[0mkeys\u001b[0m\u001b[1;33m(\u001b[0m\u001b[1;33m)\u001b[0m\u001b[1;33m)\u001b[0m\u001b[1;33m\u001b[0m\u001b[1;33m\u001b[0m\u001b[0m\n\u001b[0m",
      "\u001b[1;31mAttributeError\u001b[0m: 'SGDClassifier' object has no attribute 'cv_results_'"
     ]
    }
   ],
   "source": [
    "from sklearn.model_selection import GridSearchCV\n",
    "clf = SGDClassifier(loss='hinge', penalty='l2', l1_ratio=0.15, fit_intercept=True, tol=0.001, shuffle=True, verbose=0, epsilon=0.1, n_jobs=None, random_state=None, learning_rate='optimal', eta0=0.0, power_t=0.5, early_stopping=False, validation_fraction=0.1, n_iter_no_change=5, class_weight={1: 60}, warm_start=False, average=False)\n",
    "pipe = make_pipeline(StandardScaler(), clf)\n",
    "parameters = {'alpha':10.0**-np.arange(1,7), 'max_iter':10**np.arange(1,7)}\n",
    "fthree_scorer = make_scorer(fbeta_score, beta=3)\n",
    "tune = GridSearchCV(clf, parameters, scoring=fthree_scorer)\n",
    "tune.fit(X_train_p, y_train)\n",
    "#GridSearchCV(estimator=SVC(), param_grid={'C': [1, 10], 'kernel': ('linear', 'rbf')})\n",
    "sorted(clf.cv_results_.keys())"
   ]
  },
  {
   "cell_type": "code",
   "execution_count": 254,
   "id": "3ddb04d5",
   "metadata": {},
   "outputs": [
    {
     "name": "stdout",
     "output_type": "stream",
     "text": [
      "['mean_fit_time', 'mean_score_time', 'mean_test_score', 'param_alpha', 'param_max_iter', 'params', 'rank_test_score', 'split0_test_score', 'split1_test_score', 'split2_test_score', 'split3_test_score', 'split4_test_score', 'std_fit_time', 'std_score_time', 'std_test_score']\n",
      "{'alpha': 0.0001, 'max_iter': 10000}\n",
      "0.605494210002486\n"
     ]
    }
   ],
   "source": [
    "print(sorted(tune.cv_results_.keys()))\n",
    "print(tune.best_params_)\n",
    "print(tune.best_score_)"
   ]
  },
  {
   "cell_type": "code",
   "execution_count": null,
   "id": "f812f965",
   "metadata": {},
   "outputs": [],
   "source": []
  },
  {
   "cell_type": "code",
   "execution_count": 52,
   "id": "6ca89d3e",
   "metadata": {},
   "outputs": [
    {
     "name": "stderr",
     "output_type": "stream",
     "text": [
      "C:\\Users\\mouna\\anaconda3\\lib\\site-packages\\sklearn\\svm\\_base.py:985: ConvergenceWarning: Liblinear failed to converge, increase the number of iterations.\n",
      "  warnings.warn(\"Liblinear failed to converge, increase \"\n"
     ]
    },
    {
     "data": {
      "text/plain": [
       "0.3659359190556492"
      ]
     },
     "execution_count": 52,
     "metadata": {},
     "output_type": "execute_result"
    }
   ],
   "source": [
    "clf = tree.DecisionTreeClassifier(criterion='gini', splitter='best', min_samples_split=20, max_depth=7, class_weight={1: 55})\n",
    "lsvc = LinearSVC(class_weight={1: 54}).fit(X_trainS,y_trainS)\n",
    "model = SelectFromModel(lsvc, prefit=True)\n",
    "X_trainS_new = model.transform(X_trainS)\n",
    "X_testS_new = model.transform(X_testS)\n",
    "y_predict = clf.fit(X_trainS_new,y_trainS).predict(X_testS_new)\n",
    "fbeta_score(y_predict, y_testS, beta = 3)\n"
   ]
  },
  {
   "cell_type": "code",
   "execution_count": 24,
   "id": "6990c381",
   "metadata": {},
   "outputs": [],
   "source": [
    "X_train_pp = X_train_p\n",
    "X_train_pp['c'] = y_train.values"
   ]
  },
  {
   "cell_type": "code",
   "execution_count": null,
   "id": "bbc6f53e",
   "metadata": {},
   "outputs": [],
   "source": []
  },
  {
   "cell_type": "code",
   "execution_count": null,
   "id": "a46f28cc",
   "metadata": {},
   "outputs": [],
   "source": []
  },
  {
   "cell_type": "code",
   "execution_count": 25,
   "id": "1b4393f8",
   "metadata": {},
   "outputs": [],
   "source": [
    "count_class_0, count_class_1 = X_train_pp.c.value_counts()\n",
    "\n",
    "# Divide by class\n",
    "class_0 = X_train_pp[X_train_pp['c'] == 0]\n",
    "class_1 = X_train_pp[X_train_pp['c'] == 1]"
   ]
  },
  {
   "cell_type": "code",
   "execution_count": null,
   "id": "7e7ed5cc",
   "metadata": {},
   "outputs": [],
   "source": []
  },
  {
   "cell_type": "code",
   "execution_count": 26,
   "id": "37ad577f",
   "metadata": {},
   "outputs": [
    {
     "name": "stdout",
     "output_type": "stream",
     "text": [
      "Random under-sampling:\n",
      "0    722\n",
      "1    722\n",
      "Name: c, dtype: int64\n"
     ]
    },
    {
     "data": {
      "image/png": "[encoded data removed]",
      "text/plain": [
       "<Figure size 432x288 with 1 Axes>"
      ]
     },
     "metadata": {
      "needs_background": "light"
     },
     "output_type": "display_data"
    }
   ],
   "source": [
    "class_0_under = class_0.sample(count_class_1)\n",
    "test_under = pd.concat([class_0_under, class_1], axis=0)\n",
    "\n",
    "print('Random under-sampling:')\n",
    "print(test_under.c.value_counts())\n",
    "\n",
    "test_under.c.value_counts().plot(kind='bar', title='Count (target)');\n",
    "\n",
    "X_train_u = test_under.drop(c)\n",
    "y_train_u = test_under.c.values"
   ]
  },
  {
   "cell_type": "code",
   "execution_count": null,
   "id": "921e7918",
   "metadata": {},
   "outputs": [],
   "source": []
  },
  {
   "cell_type": "code",
   "execution_count": 20,
   "id": "0d69b944",
   "metadata": {},
   "outputs": [
    {
     "data": {
      "text/plain": [
       "<AxesSubplot:title={'center':'Count (target)'}>"
      ]
     },
     "execution_count": 20,
     "metadata": {},
     "output_type": "execute_result"
    },
    {
     "data": {
      "image/png": "[encoded data removed]",
      "text/plain": [
       "<Figure size 432x288 with 1 Axes>"
      ]
     },
     "metadata": {
      "needs_background": "light"
     },
     "output_type": "display_data"
    }
   ],
   "source": [
    "from imblearn.under_sampling import RandomUnderSampler\n",
    "\n",
    "rus = RandomUnderSampler(random_state=42)\n",
    "X_rus, y_rus = rus.fit_resample(X_train_p, y_train)\n",
    "y_rus.value_counts().plot(kind='bar', title='Count (target)')"
   ]
  },
  {
   "cell_type": "code",
   "execution_count": 23,
   "id": "48f8838d",
   "metadata": {},
   "outputs": [
    {
     "data": {
      "text/plain": [
       "<AxesSubplot:title={'center':'Count (target)'}>"
      ]
     },
     "execution_count": 23,
     "metadata": {},
     "output_type": "execute_result"
    },
    {
     "data": {
      "image/png": "[encoded data removed]",
      "text/plain": [
       "<Figure size 432x288 with 1 Axes>"
      ]
     },
     "metadata": {
      "needs_background": "light"
     },
     "output_type": "display_data"
    }
   ],
   "source": [
    "from imblearn.over_sampling import RandomOverSampler\n",
    "\n",
    "ros = RandomOverSampler(random_state=42)\n",
    "X_ros, y_ros = ros.fit_resample(X_train_p, y_train)\n",
    "y_ros.value_counts().plot(kind='bar', title='Count (target)')"
   ]
  },
  {
   "cell_type": "code",
   "execution_count": null,
   "id": "dda6cd87",
   "metadata": {},
   "outputs": [],
   "source": []
  },
  {
   "cell_type": "code",
   "execution_count": 24,
   "id": "51c1733c",
   "metadata": {},
   "outputs": [],
   "source": [
    "X_trainS, X_testS, y_trainS, y_testS = train_test_split(X_ros, y_ros, test_size=0.33, random_state=42)"
   ]
  },
  {
   "cell_type": "code",
   "execution_count": null,
   "id": "f79df1e2",
   "metadata": {},
   "outputs": [],
   "source": []
  },
  {
   "cell_type": "code",
   "execution_count": 31,
   "id": "7458f0ef",
   "metadata": {},
   "outputs": [
    {
     "name": "stdout",
     "output_type": "stream",
     "text": [
      "[0.91352859 0.94875346 0.93857833 0.91160221 0.91736695]\n"
     ]
    }
   ],
   "source": [
    "clf = DTC(criterion='gini', splitter='best', min_samples_split=20, max_depth=7)\n",
    "pipe = make_pipeline(SelectKBest(chi2, k=100), MinMaxScaler(), clf)\n",
    "it = StratifiedKFold(n_splits=5, random_state=None, shuffle=False)\n",
    "fthree_scorer = make_scorer(fbeta_score, beta=3)\n",
    "cv_results = cv(pipe, X_rus, y_rus, cv=it, scoring = fthree_scorer)\n",
    "print(cv_results)"
   ]
  },
  {
   "cell_type": "code",
   "execution_count": null,
   "id": "a117617d",
   "metadata": {},
   "outputs": [],
   "source": []
  },
  {
   "cell_type": "code",
   "execution_count": null,
   "id": "ce2d49ec",
   "metadata": {},
   "outputs": [],
   "source": []
  },
  {
   "cell_type": "code",
   "execution_count": 38,
   "id": "0f1af821",
   "metadata": {},
   "outputs": [
    {
     "name": "stdout",
     "output_type": "stream",
     "text": [
      "[0.90952277 0.91352447 0.90635877 0.90530751 0.9158346 ]\n"
     ]
    }
   ],
   "source": [
    "clf = GaussianNB()\n",
    "pipe = make_pipeline(SelectKBest(chi2, k=100), MinMaxScaler(), clf)\n",
    "it = StratifiedKFold(n_splits=5, random_state=None, shuffle=False)\n",
    "fthree_scorer = make_scorer(fbeta_score, beta=3)\n",
    "cv_results = cv(pipe, X_ros, y_ros, cv=it, scoring = fthree_scorer)\n",
    "print(cv_results)"
   ]
  },
  {
   "cell_type": "code",
   "execution_count": null,
   "id": "0bb1ea09",
   "metadata": {},
   "outputs": [],
   "source": []
  },
  {
   "cell_type": "code",
   "execution_count": null,
   "id": "b9ae4773",
   "metadata": {},
   "outputs": [],
   "source": []
  },
  {
   "cell_type": "code",
   "execution_count": null,
   "id": "ee86be06",
   "metadata": {},
   "outputs": [],
   "source": []
  },
  {
   "cell_type": "code",
   "execution_count": null,
   "id": "3d21ab3e",
   "metadata": {},
   "outputs": [],
   "source": []
  },
  {
   "cell_type": "code",
   "execution_count": 35,
   "id": "471e5aac",
   "metadata": {},
   "outputs": [],
   "source": [
    "y_pred = pipe.fit(X_ros, y_ros).predict(X_test_p)\n",
    "y_pred_sol = {}\n",
    "y_pred_sol['Id']=list(range(17100))\n",
    "y_pred_sol['Predicted']=list((y_pred))\n",
    "df = pd.DataFrame(y_pred_sol, columns = ['Id', 'Predicted'])\n",
    "df.to_csv('momo112.csv', index=False)"
   ]
  },
  {
   "cell_type": "code",
   "execution_count": null,
   "id": "3e83ae7a",
   "metadata": {},
   "outputs": [],
   "source": []
  },
  {
   "cell_type": "code",
   "execution_count": null,
   "id": "b99eea27",
   "metadata": {},
   "outputs": [],
   "source": []
  },
  {
   "cell_type": "code",
   "execution_count": 32,
   "id": "27e0cfdd",
   "metadata": {},
   "outputs": [
    {
     "name": "stderr",
     "output_type": "stream",
     "text": [
      "C:\\Users\\mouna\\anaconda3\\lib\\site-packages\\sklearn\\linear_model\\_logistic.py:458: ConvergenceWarning: lbfgs failed to converge (status=1):\n",
      "STOP: TOTAL NO. of ITERATIONS REACHED LIMIT.\n",
      "\n",
      "Increase the number of iterations (max_iter) or scale the data as shown in:\n",
      "    https://scikit-learn.org/stable/modules/preprocessing.html\n",
      "Please also refer to the documentation for alternative solver options:\n",
      "    https://scikit-learn.org/stable/modules/linear_model.html#logistic-regression\n",
      "  n_iter_i = _check_optimize_result(\n",
      "C:\\Users\\mouna\\anaconda3\\lib\\site-packages\\sklearn\\linear_model\\_logistic.py:458: ConvergenceWarning: lbfgs failed to converge (status=1):\n",
      "STOP: TOTAL NO. of ITERATIONS REACHED LIMIT.\n",
      "\n",
      "Increase the number of iterations (max_iter) or scale the data as shown in:\n",
      "    https://scikit-learn.org/stable/modules/preprocessing.html\n",
      "Please also refer to the documentation for alternative solver options:\n",
      "    https://scikit-learn.org/stable/modules/linear_model.html#logistic-regression\n",
      "  n_iter_i = _check_optimize_result(\n",
      "C:\\Users\\mouna\\anaconda3\\lib\\site-packages\\sklearn\\linear_model\\_logistic.py:458: ConvergenceWarning: lbfgs failed to converge (status=1):\n",
      "STOP: TOTAL NO. of ITERATIONS REACHED LIMIT.\n",
      "\n",
      "Increase the number of iterations (max_iter) or scale the data as shown in:\n",
      "    https://scikit-learn.org/stable/modules/preprocessing.html\n",
      "Please also refer to the documentation for alternative solver options:\n",
      "    https://scikit-learn.org/stable/modules/linear_model.html#logistic-regression\n",
      "  n_iter_i = _check_optimize_result(\n",
      "C:\\Users\\mouna\\anaconda3\\lib\\site-packages\\sklearn\\linear_model\\_logistic.py:458: ConvergenceWarning: lbfgs failed to converge (status=1):\n",
      "STOP: TOTAL NO. of ITERATIONS REACHED LIMIT.\n",
      "\n",
      "Increase the number of iterations (max_iter) or scale the data as shown in:\n",
      "    https://scikit-learn.org/stable/modules/preprocessing.html\n",
      "Please also refer to the documentation for alternative solver options:\n",
      "    https://scikit-learn.org/stable/modules/linear_model.html#logistic-regression\n",
      "  n_iter_i = _check_optimize_result(\n",
      "C:\\Users\\mouna\\anaconda3\\lib\\site-packages\\sklearn\\linear_model\\_logistic.py:458: ConvergenceWarning: lbfgs failed to converge (status=1):\n",
      "STOP: TOTAL NO. of ITERATIONS REACHED LIMIT.\n",
      "\n",
      "Increase the number of iterations (max_iter) or scale the data as shown in:\n",
      "    https://scikit-learn.org/stable/modules/preprocessing.html\n",
      "Please also refer to the documentation for alternative solver options:\n",
      "    https://scikit-learn.org/stable/modules/linear_model.html#logistic-regression\n",
      "  n_iter_i = _check_optimize_result(\n"
     ]
    },
    {
     "name": "stdout",
     "output_type": "stream",
     "text": [
      "[0.94238425 0.94405057 0.94806076 0.94547363 0.94950477]\n"
     ]
    }
   ],
   "source": [
    "clf = LogisticRegression(penalty='l2', dual=False, tol=0.0001, C=1.0, fit_intercept=True, intercept_scaling=1, random_state=None, solver='lbfgs', max_iter=100, multi_class='auto', verbose=0, warm_start=False, n_jobs=None, l1_ratio=None)\n",
    "pipe = make_pipeline(SelectKBest(chi2, k=140), MinMaxScaler(), clf)\n",
    "it = StratifiedKFold(n_splits=5, random_state=None, shuffle=False)\n",
    "fthree_scorer = make_scorer(fbeta_score, beta=3)\n",
    "cv_results = cv(pipe, X_ros, y_ros, cv=it, scoring = fthree_scorer)\n",
    "print(cv_results)"
   ]
  },
  {
   "cell_type": "code",
   "execution_count": 33,
   "id": "37284a9f",
   "metadata": {},
   "outputs": [
    {
     "name": "stderr",
     "output_type": "stream",
     "text": [
      "C:\\Users\\mouna\\anaconda3\\lib\\site-packages\\sklearn\\linear_model\\_logistic.py:458: ConvergenceWarning: lbfgs failed to converge (status=1):\n",
      "STOP: TOTAL NO. of ITERATIONS REACHED LIMIT.\n",
      "\n",
      "Increase the number of iterations (max_iter) or scale the data as shown in:\n",
      "    https://scikit-learn.org/stable/modules/preprocessing.html\n",
      "Please also refer to the documentation for alternative solver options:\n",
      "    https://scikit-learn.org/stable/modules/linear_model.html#logistic-regression\n",
      "  n_iter_i = _check_optimize_result(\n"
     ]
    }
   ],
   "source": [
    "y_pred = pipe.fit(X_ros, y_ros).predict(X_test_p)\n",
    "y_pred_sol = {}\n",
    "y_pred_sol['Id']=list(range(17100))\n",
    "y_pred_sol['Predicted']=list((y_pred))\n",
    "df = pd.DataFrame(y_pred_sol, columns = ['Id', 'Predicted'])\n",
    "df.to_csv('momo111.csv', index=False)"
   ]
  },
  {
   "cell_type": "code",
   "execution_count": null,
   "id": "b0628926",
   "metadata": {},
   "outputs": [],
   "source": []
  },
  {
   "cell_type": "code",
   "execution_count": 45,
   "id": "edb17107",
   "metadata": {},
   "outputs": [
    {
     "name": "stdout",
     "output_type": "stream",
     "text": [
      "[0.76026637 0.74618736 0.77610274 0.77136515 0.78250863]\n"
     ]
    }
   ],
   "source": [
    "from sklearn.model_selection import cross_validate\n",
    "from imblearn.ensemble import BalancedBaggingClassifier\n",
    "\n",
    "clf = BalancedBaggingClassifier(sampler=RandomUnderSampler())\n",
    "pipe = make_pipeline( clf)\n",
    "it = StratifiedKFold(n_splits=5, random_state=None, shuffle=False)\n",
    "fthree_scorer = make_scorer(fbeta_score, beta=3)\n",
    "cv_results = cv(pipe, X_train_p, y_train, cv=it, scoring = fthree_scorer)\n",
    "print(cv_results)\n",
    "\n",
    "# Exactly Balanced Bagging\n",
    "#ebb = BalancedBaggingClassifier(sampler=RandomUnderSampler())\n",
    "#cv_results = cross_validate(ebb, X_train_p, y_train, scoring=\"balanced_accuracy\")\n",
    "\n",
    "#print(f\"{cv_results['test_score'].mean():.3f} +/- {cv_results['test_score'].std():.3f}\")"
   ]
  },
  {
   "cell_type": "code",
   "execution_count": null,
   "id": "34343900",
   "metadata": {},
   "outputs": [],
   "source": []
  },
  {
   "cell_type": "code",
   "execution_count": null,
   "id": "76ab4ae2",
   "metadata": {},
   "outputs": [],
   "source": [
    " Exactly Balanced Bagging\n",
    "ebb = BalancedBaggingClassifier(sampler=RandomUnderSampler())\n",
    "cv_results = cross_validate(ebb, X_train_p, y_train, scoring=\"balanced_accuracy\")\n",
    "\n",
    "print(f\"{cv_results['test_score'].mean():.3f} +/- {cv_results['test_score'].std():.3f}\")"
   ]
  },
  {
   "cell_type": "code",
   "execution_count": null,
   "id": "067cb796",
   "metadata": {},
   "outputs": [],
   "source": []
  },
  {
   "cell_type": "code",
   "execution_count": null,
   "id": "f0d087dc",
   "metadata": {},
   "outputs": [],
   "source": []
  },
  {
   "cell_type": "code",
   "execution_count": 46,
   "id": "b9f6eb55",
   "metadata": {},
   "outputs": [],
   "source": [
    "y_pred = pipe.fit(X_train_p, y_train).predict(X_test_p)\n",
    "y_pred_sol = {}\n",
    "y_pred_sol['Id']=list(range(17100))\n",
    "y_pred_sol['Predicted']=list((y_pred))\n",
    "df = pd.DataFrame(y_pred_sol, columns = ['Id', 'Predicted'])\n",
    "df.to_csv('momo113.csv', index=False)"
   ]
  },
  {
   "cell_type": "code",
   "execution_count": null,
   "id": "46618511",
   "metadata": {},
   "outputs": [],
   "source": []
  },
  {
   "cell_type": "code",
   "execution_count": 16,
   "id": "f04c6acb",
   "metadata": {},
   "outputs": [],
   "source": [
    "from sklearn.decomposition import PCA\n",
    "\n",
    "pca = PCA()\n",
    "X_train_pca = pca.fit_transform(X_train_p)"
   ]
  },
  {
   "cell_type": "code",
   "execution_count": 17,
   "id": "9f6a4907",
   "metadata": {},
   "outputs": [
    {
     "name": "stderr",
     "output_type": "stream",
     "text": [
      "C:\\Users\\mouna\\anaconda3\\lib\\site-packages\\sklearn\\linear_model\\_logistic.py:458: ConvergenceWarning: lbfgs failed to converge (status=1):\n",
      "STOP: TOTAL NO. of ITERATIONS REACHED LIMIT.\n",
      "\n",
      "Increase the number of iterations (max_iter) or scale the data as shown in:\n",
      "    https://scikit-learn.org/stable/modules/preprocessing.html\n",
      "Please also refer to the documentation for alternative solver options:\n",
      "    https://scikit-learn.org/stable/modules/linear_model.html#logistic-regression\n",
      "  n_iter_i = _check_optimize_result(\n",
      "C:\\Users\\mouna\\anaconda3\\lib\\site-packages\\sklearn\\linear_model\\_logistic.py:458: ConvergenceWarning: lbfgs failed to converge (status=1):\n",
      "STOP: TOTAL NO. of ITERATIONS REACHED LIMIT.\n",
      "\n",
      "Increase the number of iterations (max_iter) or scale the data as shown in:\n",
      "    https://scikit-learn.org/stable/modules/preprocessing.html\n",
      "Please also refer to the documentation for alternative solver options:\n",
      "    https://scikit-learn.org/stable/modules/linear_model.html#logistic-regression\n",
      "  n_iter_i = _check_optimize_result(\n",
      "C:\\Users\\mouna\\anaconda3\\lib\\site-packages\\sklearn\\linear_model\\_logistic.py:458: ConvergenceWarning: lbfgs failed to converge (status=1):\n",
      "STOP: TOTAL NO. of ITERATIONS REACHED LIMIT.\n",
      "\n",
      "Increase the number of iterations (max_iter) or scale the data as shown in:\n",
      "    https://scikit-learn.org/stable/modules/preprocessing.html\n",
      "Please also refer to the documentation for alternative solver options:\n",
      "    https://scikit-learn.org/stable/modules/linear_model.html#logistic-regression\n",
      "  n_iter_i = _check_optimize_result(\n",
      "C:\\Users\\mouna\\anaconda3\\lib\\site-packages\\sklearn\\linear_model\\_logistic.py:458: ConvergenceWarning: lbfgs failed to converge (status=1):\n",
      "STOP: TOTAL NO. of ITERATIONS REACHED LIMIT.\n",
      "\n",
      "Increase the number of iterations (max_iter) or scale the data as shown in:\n",
      "    https://scikit-learn.org/stable/modules/preprocessing.html\n",
      "Please also refer to the documentation for alternative solver options:\n",
      "    https://scikit-learn.org/stable/modules/linear_model.html#logistic-regression\n",
      "  n_iter_i = _check_optimize_result(\n"
     ]
    },
    {
     "name": "stdout",
     "output_type": "stream",
     "text": [
      "[0.55465805 0.51164567 0.52877138 0.54545455 0.47249908]\n"
     ]
    },
    {
     "name": "stderr",
     "output_type": "stream",
     "text": [
      "C:\\Users\\mouna\\anaconda3\\lib\\site-packages\\sklearn\\linear_model\\_logistic.py:458: ConvergenceWarning: lbfgs failed to converge (status=1):\n",
      "STOP: TOTAL NO. of ITERATIONS REACHED LIMIT.\n",
      "\n",
      "Increase the number of iterations (max_iter) or scale the data as shown in:\n",
      "    https://scikit-learn.org/stable/modules/preprocessing.html\n",
      "Please also refer to the documentation for alternative solver options:\n",
      "    https://scikit-learn.org/stable/modules/linear_model.html#logistic-regression\n",
      "  n_iter_i = _check_optimize_result(\n"
     ]
    }
   ],
   "source": [
    "clf = LogisticRegression(penalty='l2', dual=False, tol=0.0001, C=1.0, fit_intercept=True, intercept_scaling=1, random_state=None, solver='lbfgs', max_iter=100, multi_class='auto', verbose=0, warm_start=False, n_jobs=None, l1_ratio=None)\n",
    "pipe = make_pipeline( clf)\n",
    "it = StratifiedKFold(n_splits=5, random_state=None, shuffle=False)\n",
    "fthree_scorer = make_scorer(fbeta_score, beta=3)\n",
    "cv_results = cv(pipe, X_train_pca, y_train, cv=it, scoring = fthree_scorer)\n",
    "print(cv_results)"
   ]
  },
  {
   "cell_type": "code",
   "execution_count": 99,
   "id": "e1f43188",
   "metadata": {},
   "outputs": [
    {
     "name": "stderr",
     "output_type": "stream",
     "text": [
      "C:\\Users\\mouna\\anaconda3\\lib\\site-packages\\sklearn\\cluster\\_kmeans.py:870: FutureWarning: The default value of `n_init` will change from 3 to 'auto' in 1.4. Set the value of `n_init` explicitly to suppress the warning\n",
      "  warnings.warn(\n",
      "C:\\Users\\mouna\\anaconda3\\lib\\site-packages\\sklearn\\cluster\\_kmeans.py:1902: UserWarning: MiniBatchKMeans is known to have a memory leak on Windows with MKL, when there are less chunks than available threads. You can prevent it by setting batch_size >= 2048 or by setting the environment variable OMP_NUM_THREADS=4\n",
      "  warnings.warn(\n"
     ]
    }
   ],
   "source": [
    "from imblearn.under_sampling import ClusterCentroids\n",
    "from sklearn.cluster import MiniBatchKMeans\n",
    "\n",
    "cc = ClusterCentroids(estimator=MiniBatchKMeans(), random_state=42)\n",
    "X_cc, y_cc = cc.fit_resample(X_train_p, y_train)"
   ]
  },
  {
   "cell_type": "code",
   "execution_count": null,
   "id": "f5753617",
   "metadata": {},
   "outputs": [],
   "source": []
  },
  {
   "cell_type": "code",
   "execution_count": 102,
   "id": "1e57851c",
   "metadata": {},
   "outputs": [
    {
     "name": "stdout",
     "output_type": "stream",
     "text": [
      "[0.89965398 0.91352859 0.90277778 0.93555094 0.85915493]\n"
     ]
    }
   ],
   "source": [
    "clf = LogisticRegression(penalty='l2', dual=False, tol=0.0001, C=1.0, fit_intercept=True, intercept_scaling=1, random_state=None, solver='lbfgs', max_iter=100, multi_class='auto', verbose=0, warm_start=False, n_jobs=None, l1_ratio=None)\n",
    "pipe = make_pipeline(SelectKBest(chi2, k=140), MinMaxScaler(),clf)\n",
    "it = StratifiedKFold(n_splits=5, random_state=None, shuffle=False)\n",
    "fthree_scorer = make_scorer(fbeta_score, beta=3)\n",
    "cv_results = cv(pipe, X_cc, y_cc, cv=it, scoring = fthree_scorer)\n",
    "print(cv_results)"
   ]
  },
  {
   "cell_type": "code",
   "execution_count": null,
   "id": "3a52d81b",
   "metadata": {},
   "outputs": [],
   "source": []
  },
  {
   "cell_type": "code",
   "execution_count": 98,
   "id": "ad36b610",
   "metadata": {},
   "outputs": [],
   "source": [
    "y_pred = pipe.fit(X_cc, y_cc).predict(X_test_p_clustering)\n",
    "y_pred_sol = {}\n",
    "y_pred_sol['Id']=list(range(17100))\n",
    "y_pred_sol['Predicted']=list((y_pred))\n",
    "df = pd.DataFrame(y_pred_sol, columns = ['Id', 'Predicted'])\n",
    "df.to_csv('momo201.csv', index=False)"
   ]
  },
  {
   "cell_type": "code",
   "execution_count": null,
   "id": "cef5c2a7",
   "metadata": {},
   "outputs": [],
   "source": []
  },
  {
   "cell_type": "code",
   "execution_count": 34,
   "id": "28566d10",
   "metadata": {},
   "outputs": [],
   "source": [
    "from imblearn.over_sampling import SMOTE\n",
    "sm = SMOTE(random_state=42)\n",
    "X_res, y_res = sm.fit_resample(X_train_p, y_train)"
   ]
  },
  {
   "cell_type": "code",
   "execution_count": 35,
   "id": "f38e33e2",
   "metadata": {},
   "outputs": [],
   "source": [
    "X_res_S, y_res_S = sm.fit_resample(X_trainS, y_trainS)"
   ]
  },
  {
   "cell_type": "code",
   "execution_count": 48,
   "id": "8ec06e57",
   "metadata": {},
   "outputs": [
    {
     "name": "stdout",
     "output_type": "stream",
     "text": [
      "0.8422664624808575\n"
     ]
    }
   ],
   "source": [
    "clf = LinearSVC()\n",
    "pipe = make_pipeline(SelectKBest(chi2, k=105), MinMaxScaler(), clf)\n",
    "#pipe.fit(X_res_S, y_res_S)\n",
    "y_predS = pipe.fit(X_res_S, y_res_S).predict(X_testS)\n",
    "f_score = fbeta_score(y_testS, y_predS, beta = 3)\n",
    "print(f_score)"
   ]
  },
  {
   "cell_type": "code",
   "execution_count": null,
   "id": "ce5aa70e",
   "metadata": {},
   "outputs": [],
   "source": []
  },
  {
   "cell_type": "code",
   "execution_count": null,
   "id": "065f666a",
   "metadata": {},
   "outputs": [],
   "source": []
  },
  {
   "cell_type": "code",
   "execution_count": null,
   "id": "8475236a",
   "metadata": {},
   "outputs": [],
   "source": []
  },
  {
   "cell_type": "code",
   "execution_count": null,
   "id": "a27988f8",
   "metadata": {},
   "outputs": [],
   "source": []
  },
  {
   "cell_type": "code",
   "execution_count": null,
   "id": "d12cc690",
   "metadata": {},
   "outputs": [],
   "source": []
  },
  {
   "cell_type": "code",
   "execution_count": null,
   "id": "060be1ea",
   "metadata": {},
   "outputs": [],
   "source": []
  },
  {
   "cell_type": "code",
   "execution_count": null,
   "id": "49e02b58",
   "metadata": {},
   "outputs": [],
   "source": []
  },
  {
   "cell_type": "code",
   "execution_count": null,
   "id": "d91623eb",
   "metadata": {},
   "outputs": [],
   "source": []
  },
  {
   "cell_type": "code",
   "execution_count": 31,
   "id": "4481e986",
   "metadata": {},
   "outputs": [
    {
     "name": "stdout",
     "output_type": "stream",
     "text": [
      "[0.95227735 0.95373984 0.95117985 0.94941734 0.95163707]\n"
     ]
    }
   ],
   "source": [
    "clf = LinearSVC()\n",
    "pipe = make_pipeline(SelectKBest(chi2, k=105), MinMaxScaler(), clf)\n",
    "it = StratifiedKFold(n_splits=5, random_state=None, shuffle=False)\n",
    "fthree_scorer = make_scorer(fbeta_score, beta=3)\n",
    "cv_results = cv(pipe, X_res, y_res, cv=it, scoring = fthree_scorer)\n",
    "print(cv_results)\n"
   ]
  },
  {
   "cell_type": "code",
   "execution_count": 32,
   "id": "00fed7fb",
   "metadata": {},
   "outputs": [],
   "source": [
    "y_pred = pipe.fit(X_res, y_res).predict(X_test_p)\n",
    "y_pred_sol = {}\n",
    "y_pred_sol['Id']=list(range(17100))\n",
    "y_pred_sol['Predicted']=list((y_pred))\n",
    "df = pd.DataFrame(y_pred_sol, columns = ['Id', 'Predicted'])\n",
    "df.to_csv('momo206.csv', index=False)"
   ]
  },
  {
   "cell_type": "code",
   "execution_count": null,
   "id": "23e1dcab",
   "metadata": {},
   "outputs": [],
   "source": []
  },
  {
   "cell_type": "code",
   "execution_count": null,
   "id": "7e51a4b9",
   "metadata": {},
   "outputs": [],
   "source": []
  },
  {
   "cell_type": "code",
   "execution_count": 26,
   "id": "ccb3dc73",
   "metadata": {},
   "outputs": [
    {
     "name": "stdout",
     "output_type": "stream",
     "text": [
      "[0.89448568 0.90007971 0.89825365 0.89887496 0.89684541]\n"
     ]
    }
   ],
   "source": [
    "clf = GaussianNB()\n",
    "pipe = make_pipeline(SelectKBest(chi2, k=100), MinMaxScaler(), clf)\n",
    "it = StratifiedKFold(n_splits=5, random_state=None, shuffle=False)\n",
    "fthree_scorer = make_scorer(fbeta_score, beta=3)\n",
    "cv_results = cv(pipe, X_res, y_res, cv=it, scoring = fthree_scorer)\n",
    "print(cv_results)"
   ]
  },
  {
   "cell_type": "code",
   "execution_count": 27,
   "id": "dca52ec0",
   "metadata": {},
   "outputs": [],
   "source": [
    "y_pred = pipe.fit(X_res, y_res).predict(X_test_p)\n",
    "y_pred_sol = {}\n",
    "y_pred_sol['Id']=list(range(17100))\n",
    "y_pred_sol['Predicted']=list((y_pred))\n",
    "df = pd.DataFrame(y_pred_sol, columns = ['Id', 'Predicted'])\n",
    "df.to_csv('momo204.csv', index=False)"
   ]
  },
  {
   "cell_type": "code",
   "execution_count": null,
   "id": "4cdbe80b",
   "metadata": {},
   "outputs": [],
   "source": []
  },
  {
   "cell_type": "code",
   "execution_count": 108,
   "id": "e1f03894",
   "metadata": {},
   "outputs": [
    {
     "name": "stderr",
     "output_type": "stream",
     "text": [
      "C:\\Users\\mouna\\anaconda3\\lib\\site-packages\\sklearn\\linear_model\\_logistic.py:458: ConvergenceWarning: lbfgs failed to converge (status=1):\n",
      "STOP: TOTAL NO. of ITERATIONS REACHED LIMIT.\n",
      "\n",
      "Increase the number of iterations (max_iter) or scale the data as shown in:\n",
      "    https://scikit-learn.org/stable/modules/preprocessing.html\n",
      "Please also refer to the documentation for alternative solver options:\n",
      "    https://scikit-learn.org/stable/modules/linear_model.html#logistic-regression\n",
      "  n_iter_i = _check_optimize_result(\n",
      "C:\\Users\\mouna\\anaconda3\\lib\\site-packages\\sklearn\\linear_model\\_logistic.py:458: ConvergenceWarning: lbfgs failed to converge (status=1):\n",
      "STOP: TOTAL NO. of ITERATIONS REACHED LIMIT.\n",
      "\n",
      "Increase the number of iterations (max_iter) or scale the data as shown in:\n",
      "    https://scikit-learn.org/stable/modules/preprocessing.html\n",
      "Please also refer to the documentation for alternative solver options:\n",
      "    https://scikit-learn.org/stable/modules/linear_model.html#logistic-regression\n",
      "  n_iter_i = _check_optimize_result(\n",
      "C:\\Users\\mouna\\anaconda3\\lib\\site-packages\\sklearn\\linear_model\\_logistic.py:458: ConvergenceWarning: lbfgs failed to converge (status=1):\n",
      "STOP: TOTAL NO. of ITERATIONS REACHED LIMIT.\n",
      "\n",
      "Increase the number of iterations (max_iter) or scale the data as shown in:\n",
      "    https://scikit-learn.org/stable/modules/preprocessing.html\n",
      "Please also refer to the documentation for alternative solver options:\n",
      "    https://scikit-learn.org/stable/modules/linear_model.html#logistic-regression\n",
      "  n_iter_i = _check_optimize_result(\n",
      "C:\\Users\\mouna\\anaconda3\\lib\\site-packages\\sklearn\\linear_model\\_logistic.py:458: ConvergenceWarning: lbfgs failed to converge (status=1):\n",
      "STOP: TOTAL NO. of ITERATIONS REACHED LIMIT.\n",
      "\n",
      "Increase the number of iterations (max_iter) or scale the data as shown in:\n",
      "    https://scikit-learn.org/stable/modules/preprocessing.html\n",
      "Please also refer to the documentation for alternative solver options:\n",
      "    https://scikit-learn.org/stable/modules/linear_model.html#logistic-regression\n",
      "  n_iter_i = _check_optimize_result(\n",
      "C:\\Users\\mouna\\anaconda3\\lib\\site-packages\\sklearn\\linear_model\\_logistic.py:458: ConvergenceWarning: lbfgs failed to converge (status=1):\n",
      "STOP: TOTAL NO. of ITERATIONS REACHED LIMIT.\n",
      "\n",
      "Increase the number of iterations (max_iter) or scale the data as shown in:\n",
      "    https://scikit-learn.org/stable/modules/preprocessing.html\n",
      "Please also refer to the documentation for alternative solver options:\n",
      "    https://scikit-learn.org/stable/modules/linear_model.html#logistic-regression\n",
      "  n_iter_i = _check_optimize_result(\n"
     ]
    },
    {
     "name": "stdout",
     "output_type": "stream",
     "text": [
      "[0.9791463  0.97892471 0.97888531 0.98010225 0.98014407]\n"
     ]
    }
   ],
   "source": [
    "clf = LogisticRegression(penalty='l2', dual=False, tol=0.0001, C=1.0, fit_intercept=True, intercept_scaling=1, random_state=None, solver='lbfgs', max_iter=100, multi_class='auto', verbose=0, warm_start=False, n_jobs=None, l1_ratio=None, class_weight={1: 55})\n",
    "pipe = make_pipeline(SelectKBest(chi2, k=140), MinMaxScaler(),clf)\n",
    "it = StratifiedKFold(n_splits=5, random_state=None, shuffle=False)\n",
    "fthree_scorer = make_scorer(fbeta_score, beta=3)\n",
    "cv_results = cv(pipe, X_res, y_res, cv=it, scoring = fthree_scorer)\n",
    "print(cv_results)"
   ]
  },
  {
   "cell_type": "code",
   "execution_count": null,
   "id": "4eb584d8",
   "metadata": {},
   "outputs": [],
   "source": []
  },
  {
   "cell_type": "code",
   "execution_count": null,
   "id": "4a304b83",
   "metadata": {},
   "outputs": [],
   "source": []
  },
  {
   "cell_type": "code",
   "execution_count": 110,
   "id": "c4fb42bb",
   "metadata": {},
   "outputs": [
    {
     "name": "stderr",
     "output_type": "stream",
     "text": [
      "C:\\Users\\mouna\\anaconda3\\lib\\site-packages\\sklearn\\linear_model\\_logistic.py:458: ConvergenceWarning: lbfgs failed to converge (status=1):\n",
      "STOP: TOTAL NO. of ITERATIONS REACHED LIMIT.\n",
      "\n",
      "Increase the number of iterations (max_iter) or scale the data as shown in:\n",
      "    https://scikit-learn.org/stable/modules/preprocessing.html\n",
      "Please also refer to the documentation for alternative solver options:\n",
      "    https://scikit-learn.org/stable/modules/linear_model.html#logistic-regression\n",
      "  n_iter_i = _check_optimize_result(\n"
     ]
    }
   ],
   "source": [
    "y_pred = pipe.fit(X_res, y_res).predict(X_test_p)\n",
    "y_pred_sol = {}\n",
    "y_pred_sol['Id']=list(range(17100))\n",
    "y_pred_sol['Predicted']=list((y_pred))\n",
    "df = pd.DataFrame(y_pred_sol, columns = ['Id', 'Predicted'])\n",
    "df.to_csv('momo203.csv', index=False)"
   ]
  },
  {
   "cell_type": "code",
   "execution_count": null,
   "id": "343f4bf4",
   "metadata": {},
   "outputs": [],
   "source": []
  },
  {
   "cell_type": "code",
   "execution_count": null,
   "id": "7eaf5213",
   "metadata": {},
   "outputs": [],
   "source": []
  },
  {
   "cell_type": "code",
   "execution_count": null,
   "id": "d3452107",
   "metadata": {},
   "outputs": [],
   "source": []
  },
  {
   "cell_type": "code",
   "execution_count": null,
   "id": "3958d06d",
   "metadata": {},
   "outputs": [],
   "source": []
  },
  {
   "cell_type": "code",
   "execution_count": null,
   "id": "700a6f0b",
   "metadata": {},
   "outputs": [],
   "source": []
  },
  {
   "cell_type": "code",
   "execution_count": null,
   "id": "c8193434",
   "metadata": {},
   "outputs": [],
   "source": []
  },
  {
   "cell_type": "code",
   "execution_count": null,
   "id": "01a35fd4",
   "metadata": {},
   "outputs": [],
   "source": []
  },
  {
   "cell_type": "code",
   "execution_count": null,
   "id": "d68c48e9",
   "metadata": {},
   "outputs": [],
   "source": []
  },
  {
   "cell_type": "code",
   "execution_count": 95,
   "id": "34581ee5",
   "metadata": {},
   "outputs": [],
   "source": [
    "X_test_p_clustering = X_test_p.assign(clust = test_clustering)"
   ]
  },
  {
   "cell_type": "code",
   "execution_count": 96,
   "id": "d7a5e906",
   "metadata": {},
   "outputs": [
    {
     "data": {
      "text/html": [
       "<div>\n",
       "<style scoped>\n",
       "    .dataframe tbody tr th:only-of-type {\n",
       "        vertical-align: middle;\n",
       "    }\n",
       "\n",
       "    .dataframe tbody tr th {\n",
       "        vertical-align: top;\n",
       "    }\n",
       "\n",
       "    .dataframe thead th {\n",
       "        text-align: right;\n",
       "    }\n",
       "</style>\n",
       "<table border=\"1\" class=\"dataframe\">\n",
       "  <thead>\n",
       "    <tr style=\"text-align: right;\">\n",
       "      <th></th>\n",
       "      <th>aa_000</th>\n",
       "      <th>ac_000</th>\n",
       "      <th>ad_000</th>\n",
       "      <th>ae_000</th>\n",
       "      <th>af_000</th>\n",
       "      <th>ag_000</th>\n",
       "      <th>ag_001</th>\n",
       "      <th>ag_002</th>\n",
       "      <th>ag_003</th>\n",
       "      <th>ag_004</th>\n",
       "      <th>...</th>\n",
       "      <th>ef_000</th>\n",
       "      <th>eg_000</th>\n",
       "      <th>histo_ag_mode</th>\n",
       "      <th>histo_ay_mode</th>\n",
       "      <th>histo_az_mode</th>\n",
       "      <th>histo_ba_mode</th>\n",
       "      <th>histo_cn_mode</th>\n",
       "      <th>histo_cs_mode</th>\n",
       "      <th>histo_ee_mode</th>\n",
       "      <th>clust</th>\n",
       "    </tr>\n",
       "  </thead>\n",
       "  <tbody>\n",
       "    <tr>\n",
       "      <th>0</th>\n",
       "      <td>240</td>\n",
       "      <td>4.200000e+01</td>\n",
       "      <td>26.000000</td>\n",
       "      <td>0.000000</td>\n",
       "      <td>0.000000</td>\n",
       "      <td>0.0</td>\n",
       "      <td>0.0</td>\n",
       "      <td>0.0</td>\n",
       "      <td>0.0</td>\n",
       "      <td>9758.0</td>\n",
       "      <td>...</td>\n",
       "      <td>0.0</td>\n",
       "      <td>0.0</td>\n",
       "      <td>5</td>\n",
       "      <td>8</td>\n",
       "      <td>6</td>\n",
       "      <td>0</td>\n",
       "      <td>3</td>\n",
       "      <td>5</td>\n",
       "      <td>0</td>\n",
       "      <td>8</td>\n",
       "    </tr>\n",
       "    <tr>\n",
       "      <th>1</th>\n",
       "      <td>82082</td>\n",
       "      <td>2.320000e+02</td>\n",
       "      <td>230.000000</td>\n",
       "      <td>0.000000</td>\n",
       "      <td>0.000000</td>\n",
       "      <td>0.0</td>\n",
       "      <td>0.0</td>\n",
       "      <td>0.0</td>\n",
       "      <td>0.0</td>\n",
       "      <td>1096.0</td>\n",
       "      <td>...</td>\n",
       "      <td>0.0</td>\n",
       "      <td>0.0</td>\n",
       "      <td>6</td>\n",
       "      <td>7</td>\n",
       "      <td>4</td>\n",
       "      <td>0</td>\n",
       "      <td>5</td>\n",
       "      <td>5</td>\n",
       "      <td>1</td>\n",
       "      <td>0</td>\n",
       "    </tr>\n",
       "    <tr>\n",
       "      <th>2</th>\n",
       "      <td>39670</td>\n",
       "      <td>2.130706e+09</td>\n",
       "      <td>210.000000</td>\n",
       "      <td>0.000000</td>\n",
       "      <td>0.000000</td>\n",
       "      <td>0.0</td>\n",
       "      <td>0.0</td>\n",
       "      <td>0.0</td>\n",
       "      <td>0.0</td>\n",
       "      <td>11162.0</td>\n",
       "      <td>...</td>\n",
       "      <td>0.0</td>\n",
       "      <td>0.0</td>\n",
       "      <td>6</td>\n",
       "      <td>6</td>\n",
       "      <td>5</td>\n",
       "      <td>1</td>\n",
       "      <td>4</td>\n",
       "      <td>5</td>\n",
       "      <td>0</td>\n",
       "      <td>1</td>\n",
       "    </tr>\n",
       "    <tr>\n",
       "      <th>3</th>\n",
       "      <td>39398</td>\n",
       "      <td>6.400000e+01</td>\n",
       "      <td>432.348214</td>\n",
       "      <td>0.000000</td>\n",
       "      <td>0.000000</td>\n",
       "      <td>0.0</td>\n",
       "      <td>0.0</td>\n",
       "      <td>0.0</td>\n",
       "      <td>94756.0</td>\n",
       "      <td>1637846.0</td>\n",
       "      <td>...</td>\n",
       "      <td>0.0</td>\n",
       "      <td>0.0</td>\n",
       "      <td>5</td>\n",
       "      <td>7</td>\n",
       "      <td>5</td>\n",
       "      <td>0</td>\n",
       "      <td>4</td>\n",
       "      <td>5</td>\n",
       "      <td>0</td>\n",
       "      <td>8</td>\n",
       "    </tr>\n",
       "    <tr>\n",
       "      <th>4</th>\n",
       "      <td>263566</td>\n",
       "      <td>3.553824e+08</td>\n",
       "      <td>432.348214</td>\n",
       "      <td>7.068117</td>\n",
       "      <td>11.098418</td>\n",
       "      <td>0.0</td>\n",
       "      <td>0.0</td>\n",
       "      <td>19700.0</td>\n",
       "      <td>608636.0</td>\n",
       "      <td>5100340.0</td>\n",
       "      <td>...</td>\n",
       "      <td>0.0</td>\n",
       "      <td>0.0</td>\n",
       "      <td>5</td>\n",
       "      <td>8</td>\n",
       "      <td>5</td>\n",
       "      <td>0</td>\n",
       "      <td>4</td>\n",
       "      <td>5</td>\n",
       "      <td>7</td>\n",
       "      <td>3</td>\n",
       "    </tr>\n",
       "    <tr>\n",
       "      <th>...</th>\n",
       "      <td>...</td>\n",
       "      <td>...</td>\n",
       "      <td>...</td>\n",
       "      <td>...</td>\n",
       "      <td>...</td>\n",
       "      <td>...</td>\n",
       "      <td>...</td>\n",
       "      <td>...</td>\n",
       "      <td>...</td>\n",
       "      <td>...</td>\n",
       "      <td>...</td>\n",
       "      <td>...</td>\n",
       "      <td>...</td>\n",
       "      <td>...</td>\n",
       "      <td>...</td>\n",
       "      <td>...</td>\n",
       "      <td>...</td>\n",
       "      <td>...</td>\n",
       "      <td>...</td>\n",
       "      <td>...</td>\n",
       "      <td>...</td>\n",
       "    </tr>\n",
       "    <tr>\n",
       "      <th>17095</th>\n",
       "      <td>2</td>\n",
       "      <td>8.000000e+00</td>\n",
       "      <td>6.000000</td>\n",
       "      <td>0.000000</td>\n",
       "      <td>0.000000</td>\n",
       "      <td>0.0</td>\n",
       "      <td>0.0</td>\n",
       "      <td>0.0</td>\n",
       "      <td>0.0</td>\n",
       "      <td>8.0</td>\n",
       "      <td>...</td>\n",
       "      <td>0.0</td>\n",
       "      <td>0.0</td>\n",
       "      <td>6</td>\n",
       "      <td>8</td>\n",
       "      <td>5</td>\n",
       "      <td>0</td>\n",
       "      <td>4</td>\n",
       "      <td>5</td>\n",
       "      <td>0</td>\n",
       "      <td>8</td>\n",
       "    </tr>\n",
       "    <tr>\n",
       "      <th>17096</th>\n",
       "      <td>28</td>\n",
       "      <td>2.130706e+09</td>\n",
       "      <td>20.000000</td>\n",
       "      <td>0.000000</td>\n",
       "      <td>0.000000</td>\n",
       "      <td>0.0</td>\n",
       "      <td>0.0</td>\n",
       "      <td>0.0</td>\n",
       "      <td>0.0</td>\n",
       "      <td>128.0</td>\n",
       "      <td>...</td>\n",
       "      <td>0.0</td>\n",
       "      <td>0.0</td>\n",
       "      <td>6</td>\n",
       "      <td>6</td>\n",
       "      <td>5</td>\n",
       "      <td>0</td>\n",
       "      <td>4</td>\n",
       "      <td>6</td>\n",
       "      <td>0</td>\n",
       "      <td>1</td>\n",
       "    </tr>\n",
       "    <tr>\n",
       "      <th>17097</th>\n",
       "      <td>14</td>\n",
       "      <td>1.000000e+01</td>\n",
       "      <td>10.000000</td>\n",
       "      <td>0.000000</td>\n",
       "      <td>0.000000</td>\n",
       "      <td>0.0</td>\n",
       "      <td>0.0</td>\n",
       "      <td>0.0</td>\n",
       "      <td>0.0</td>\n",
       "      <td>126.0</td>\n",
       "      <td>...</td>\n",
       "      <td>0.0</td>\n",
       "      <td>0.0</td>\n",
       "      <td>6</td>\n",
       "      <td>8</td>\n",
       "      <td>5</td>\n",
       "      <td>0</td>\n",
       "      <td>4</td>\n",
       "      <td>6</td>\n",
       "      <td>0</td>\n",
       "      <td>8</td>\n",
       "    </tr>\n",
       "    <tr>\n",
       "      <th>17098</th>\n",
       "      <td>38164</td>\n",
       "      <td>3.200000e+02</td>\n",
       "      <td>248.000000</td>\n",
       "      <td>0.000000</td>\n",
       "      <td>0.000000</td>\n",
       "      <td>0.0</td>\n",
       "      <td>0.0</td>\n",
       "      <td>0.0</td>\n",
       "      <td>0.0</td>\n",
       "      <td>10600.0</td>\n",
       "      <td>...</td>\n",
       "      <td>0.0</td>\n",
       "      <td>0.0</td>\n",
       "      <td>6</td>\n",
       "      <td>7</td>\n",
       "      <td>5</td>\n",
       "      <td>0</td>\n",
       "      <td>5</td>\n",
       "      <td>5</td>\n",
       "      <td>0</td>\n",
       "      <td>8</td>\n",
       "    </tr>\n",
       "    <tr>\n",
       "      <th>17099</th>\n",
       "      <td>31104</td>\n",
       "      <td>2.130706e+09</td>\n",
       "      <td>654.000000</td>\n",
       "      <td>0.000000</td>\n",
       "      <td>0.000000</td>\n",
       "      <td>0.0</td>\n",
       "      <td>0.0</td>\n",
       "      <td>0.0</td>\n",
       "      <td>0.0</td>\n",
       "      <td>1504.0</td>\n",
       "      <td>...</td>\n",
       "      <td>0.0</td>\n",
       "      <td>0.0</td>\n",
       "      <td>6</td>\n",
       "      <td>8</td>\n",
       "      <td>5</td>\n",
       "      <td>0</td>\n",
       "      <td>5</td>\n",
       "      <td>5</td>\n",
       "      <td>1</td>\n",
       "      <td>1</td>\n",
       "    </tr>\n",
       "  </tbody>\n",
       "</table>\n",
       "<p>17100 rows × 170 columns</p>\n",
       "</div>"
      ],
      "text/plain": [
       "       aa_000        ac_000      ad_000    ae_000     af_000  ag_000  ag_001  \\\n",
       "0         240  4.200000e+01   26.000000  0.000000   0.000000     0.0     0.0   \n",
       "1       82082  2.320000e+02  230.000000  0.000000   0.000000     0.0     0.0   \n",
       "2       39670  2.130706e+09  210.000000  0.000000   0.000000     0.0     0.0   \n",
       "3       39398  6.400000e+01  432.348214  0.000000   0.000000     0.0     0.0   \n",
       "4      263566  3.553824e+08  432.348214  7.068117  11.098418     0.0     0.0   \n",
       "...       ...           ...         ...       ...        ...     ...     ...   \n",
       "17095       2  8.000000e+00    6.000000  0.000000   0.000000     0.0     0.0   \n",
       "17096      28  2.130706e+09   20.000000  0.000000   0.000000     0.0     0.0   \n",
       "17097      14  1.000000e+01   10.000000  0.000000   0.000000     0.0     0.0   \n",
       "17098   38164  3.200000e+02  248.000000  0.000000   0.000000     0.0     0.0   \n",
       "17099   31104  2.130706e+09  654.000000  0.000000   0.000000     0.0     0.0   \n",
       "\n",
       "        ag_002    ag_003     ag_004  ...  ef_000  eg_000  histo_ag_mode  \\\n",
       "0          0.0       0.0     9758.0  ...     0.0     0.0              5   \n",
       "1          0.0       0.0     1096.0  ...     0.0     0.0              6   \n",
       "2          0.0       0.0    11162.0  ...     0.0     0.0              6   \n",
       "3          0.0   94756.0  1637846.0  ...     0.0     0.0              5   \n",
       "4      19700.0  608636.0  5100340.0  ...     0.0     0.0              5   \n",
       "...        ...       ...        ...  ...     ...     ...            ...   \n",
       "17095      0.0       0.0        8.0  ...     0.0     0.0              6   \n",
       "17096      0.0       0.0      128.0  ...     0.0     0.0              6   \n",
       "17097      0.0       0.0      126.0  ...     0.0     0.0              6   \n",
       "17098      0.0       0.0    10600.0  ...     0.0     0.0              6   \n",
       "17099      0.0       0.0     1504.0  ...     0.0     0.0              6   \n",
       "\n",
       "       histo_ay_mode  histo_az_mode  histo_ba_mode  histo_cn_mode  \\\n",
       "0                  8              6              0              3   \n",
       "1                  7              4              0              5   \n",
       "2                  6              5              1              4   \n",
       "3                  7              5              0              4   \n",
       "4                  8              5              0              4   \n",
       "...              ...            ...            ...            ...   \n",
       "17095              8              5              0              4   \n",
       "17096              6              5              0              4   \n",
       "17097              8              5              0              4   \n",
       "17098              7              5              0              5   \n",
       "17099              8              5              0              5   \n",
       "\n",
       "       histo_cs_mode  histo_ee_mode  clust  \n",
       "0                  5              0      8  \n",
       "1                  5              1      0  \n",
       "2                  5              0      1  \n",
       "3                  5              0      8  \n",
       "4                  5              7      3  \n",
       "...              ...            ...    ...  \n",
       "17095              5              0      8  \n",
       "17096              6              0      1  \n",
       "17097              6              0      8  \n",
       "17098              5              0      8  \n",
       "17099              5              1      1  \n",
       "\n",
       "[17100 rows x 170 columns]"
      ]
     },
     "execution_count": 96,
     "metadata": {},
     "output_type": "execute_result"
    }
   ],
   "source": [
    "X_test_p_clustering"
   ]
  },
  {
   "cell_type": "code",
   "execution_count": null,
   "id": "c8c51e3c",
   "metadata": {},
   "outputs": [],
   "source": []
  },
  {
   "cell_type": "code",
   "execution_count": 89,
   "id": "f47714bf",
   "metadata": {},
   "outputs": [
    {
     "name": "stderr",
     "output_type": "stream",
     "text": [
      "C:\\Users\\mouna\\anaconda3\\lib\\site-packages\\sklearn\\cluster\\_kmeans.py:870: FutureWarning: The default value of `n_init` will change from 10 to 'auto' in 1.4. Set the value of `n_init` explicitly to suppress the warning\n",
      "  warnings.warn(\n"
     ]
    }
   ],
   "source": [
    "from sklearn.cluster import KMeans\n",
    "clustering = KMeans(n_clusters=16).fit(X_train_p)"
   ]
  },
  {
   "cell_type": "code",
   "execution_count": 90,
   "id": "87c3b271",
   "metadata": {},
   "outputs": [
    {
     "name": "stderr",
     "output_type": "stream",
     "text": [
      "C:\\Users\\mouna\\anaconda3\\lib\\site-packages\\sklearn\\cluster\\_kmeans.py:870: FutureWarning: The default value of `n_init` will change from 10 to 'auto' in 1.4. Set the value of `n_init` explicitly to suppress the warning\n",
      "  warnings.warn(\n"
     ]
    }
   ],
   "source": [
    "test_clustering = KMeans(n_clusters=16).fit(X_train_p).predict(X_test_p)"
   ]
  },
  {
   "cell_type": "code",
   "execution_count": 69,
   "id": "e8375f6b",
   "metadata": {},
   "outputs": [],
   "source": [
    "X_train_p_clustering = X_train_p.assign(clust = clustering.labels_)\n",
    "X_test_p_clustering = X_test_p.assign(clust = test_clustering)"
   ]
  },
  {
   "cell_type": "code",
   "execution_count": 87,
   "id": "cb02c32e",
   "metadata": {},
   "outputs": [
    {
     "data": {
      "text/html": [
       "<div>\n",
       "<style scoped>\n",
       "    .dataframe tbody tr th:only-of-type {\n",
       "        vertical-align: middle;\n",
       "    }\n",
       "\n",
       "    .dataframe tbody tr th {\n",
       "        vertical-align: top;\n",
       "    }\n",
       "\n",
       "    .dataframe thead th {\n",
       "        text-align: right;\n",
       "    }\n",
       "</style>\n",
       "<table border=\"1\" class=\"dataframe\">\n",
       "  <thead>\n",
       "    <tr style=\"text-align: right;\">\n",
       "      <th></th>\n",
       "      <th>aa_000</th>\n",
       "      <th>ac_000</th>\n",
       "      <th>ad_000</th>\n",
       "      <th>ae_000</th>\n",
       "      <th>af_000</th>\n",
       "      <th>ag_000</th>\n",
       "      <th>ag_001</th>\n",
       "      <th>ag_002</th>\n",
       "      <th>ag_003</th>\n",
       "      <th>ag_004</th>\n",
       "      <th>...</th>\n",
       "      <th>ef_000</th>\n",
       "      <th>eg_000</th>\n",
       "      <th>histo_ag_mode</th>\n",
       "      <th>histo_ay_mode</th>\n",
       "      <th>histo_az_mode</th>\n",
       "      <th>histo_ba_mode</th>\n",
       "      <th>histo_cn_mode</th>\n",
       "      <th>histo_cs_mode</th>\n",
       "      <th>histo_ee_mode</th>\n",
       "      <th>clust</th>\n",
       "    </tr>\n",
       "  </thead>\n",
       "  <tbody>\n",
       "    <tr>\n",
       "      <th>0</th>\n",
       "      <td>21470</td>\n",
       "      <td>2.130706e+09</td>\n",
       "      <td>168.000000</td>\n",
       "      <td>0.0</td>\n",
       "      <td>0.0</td>\n",
       "      <td>0.0</td>\n",
       "      <td>0.0</td>\n",
       "      <td>0.0</td>\n",
       "      <td>11968.0</td>\n",
       "      <td>723426.0</td>\n",
       "      <td>...</td>\n",
       "      <td>0.0</td>\n",
       "      <td>0.0</td>\n",
       "      <td>4</td>\n",
       "      <td>8</td>\n",
       "      <td>6</td>\n",
       "      <td>0</td>\n",
       "      <td>3</td>\n",
       "      <td>5</td>\n",
       "      <td>6</td>\n",
       "      <td>0</td>\n",
       "    </tr>\n",
       "    <tr>\n",
       "      <th>1</th>\n",
       "      <td>40856</td>\n",
       "      <td>5.540000e+02</td>\n",
       "      <td>0.000000</td>\n",
       "      <td>0.0</td>\n",
       "      <td>0.0</td>\n",
       "      <td>0.0</td>\n",
       "      <td>0.0</td>\n",
       "      <td>0.0</td>\n",
       "      <td>0.0</td>\n",
       "      <td>3310.0</td>\n",
       "      <td>...</td>\n",
       "      <td>0.0</td>\n",
       "      <td>0.0</td>\n",
       "      <td>6</td>\n",
       "      <td>6</td>\n",
       "      <td>4</td>\n",
       "      <td>0</td>\n",
       "      <td>5</td>\n",
       "      <td>5</td>\n",
       "      <td>1</td>\n",
       "      <td>1</td>\n",
       "    </tr>\n",
       "    <tr>\n",
       "      <th>2</th>\n",
       "      <td>28</td>\n",
       "      <td>2.130706e+09</td>\n",
       "      <td>20.000000</td>\n",
       "      <td>0.0</td>\n",
       "      <td>0.0</td>\n",
       "      <td>0.0</td>\n",
       "      <td>0.0</td>\n",
       "      <td>0.0</td>\n",
       "      <td>0.0</td>\n",
       "      <td>80.0</td>\n",
       "      <td>...</td>\n",
       "      <td>0.0</td>\n",
       "      <td>0.0</td>\n",
       "      <td>6</td>\n",
       "      <td>6</td>\n",
       "      <td>5</td>\n",
       "      <td>0</td>\n",
       "      <td>5</td>\n",
       "      <td>6</td>\n",
       "      <td>0</td>\n",
       "      <td>0</td>\n",
       "    </tr>\n",
       "    <tr>\n",
       "      <th>3</th>\n",
       "      <td>38682</td>\n",
       "      <td>3.440000e+02</td>\n",
       "      <td>326.000000</td>\n",
       "      <td>0.0</td>\n",
       "      <td>0.0</td>\n",
       "      <td>0.0</td>\n",
       "      <td>0.0</td>\n",
       "      <td>0.0</td>\n",
       "      <td>0.0</td>\n",
       "      <td>418.0</td>\n",
       "      <td>...</td>\n",
       "      <td>0.0</td>\n",
       "      <td>0.0</td>\n",
       "      <td>6</td>\n",
       "      <td>8</td>\n",
       "      <td>4</td>\n",
       "      <td>1</td>\n",
       "      <td>5</td>\n",
       "      <td>5</td>\n",
       "      <td>0</td>\n",
       "      <td>1</td>\n",
       "    </tr>\n",
       "    <tr>\n",
       "      <th>4</th>\n",
       "      <td>62218</td>\n",
       "      <td>0.000000e+00</td>\n",
       "      <td>287230.886216</td>\n",
       "      <td>0.0</td>\n",
       "      <td>0.0</td>\n",
       "      <td>0.0</td>\n",
       "      <td>0.0</td>\n",
       "      <td>0.0</td>\n",
       "      <td>0.0</td>\n",
       "      <td>153220.0</td>\n",
       "      <td>...</td>\n",
       "      <td>0.0</td>\n",
       "      <td>0.0</td>\n",
       "      <td>6</td>\n",
       "      <td>7</td>\n",
       "      <td>4</td>\n",
       "      <td>1</td>\n",
       "      <td>4</td>\n",
       "      <td>5</td>\n",
       "      <td>1</td>\n",
       "      <td>1</td>\n",
       "    </tr>\n",
       "    <tr>\n",
       "      <th>...</th>\n",
       "      <td>...</td>\n",
       "      <td>...</td>\n",
       "      <td>...</td>\n",
       "      <td>...</td>\n",
       "      <td>...</td>\n",
       "      <td>...</td>\n",
       "      <td>...</td>\n",
       "      <td>...</td>\n",
       "      <td>...</td>\n",
       "      <td>...</td>\n",
       "      <td>...</td>\n",
       "      <td>...</td>\n",
       "      <td>...</td>\n",
       "      <td>...</td>\n",
       "      <td>...</td>\n",
       "      <td>...</td>\n",
       "      <td>...</td>\n",
       "      <td>...</td>\n",
       "      <td>...</td>\n",
       "      <td>...</td>\n",
       "      <td>...</td>\n",
       "    </tr>\n",
       "    <tr>\n",
       "      <th>39895</th>\n",
       "      <td>27012</td>\n",
       "      <td>6.840000e+02</td>\n",
       "      <td>524.000000</td>\n",
       "      <td>0.0</td>\n",
       "      <td>0.0</td>\n",
       "      <td>0.0</td>\n",
       "      <td>0.0</td>\n",
       "      <td>0.0</td>\n",
       "      <td>2864.0</td>\n",
       "      <td>1384726.0</td>\n",
       "      <td>...</td>\n",
       "      <td>0.0</td>\n",
       "      <td>0.0</td>\n",
       "      <td>4</td>\n",
       "      <td>8</td>\n",
       "      <td>5</td>\n",
       "      <td>0</td>\n",
       "      <td>3</td>\n",
       "      <td>5</td>\n",
       "      <td>7</td>\n",
       "      <td>1</td>\n",
       "    </tr>\n",
       "    <tr>\n",
       "      <th>39896</th>\n",
       "      <td>1926</td>\n",
       "      <td>2.130706e+09</td>\n",
       "      <td>10.000000</td>\n",
       "      <td>0.0</td>\n",
       "      <td>0.0</td>\n",
       "      <td>0.0</td>\n",
       "      <td>0.0</td>\n",
       "      <td>0.0</td>\n",
       "      <td>0.0</td>\n",
       "      <td>38.0</td>\n",
       "      <td>...</td>\n",
       "      <td>0.0</td>\n",
       "      <td>0.0</td>\n",
       "      <td>7</td>\n",
       "      <td>7</td>\n",
       "      <td>5</td>\n",
       "      <td>1</td>\n",
       "      <td>5</td>\n",
       "      <td>5</td>\n",
       "      <td>5</td>\n",
       "      <td>0</td>\n",
       "    </tr>\n",
       "    <tr>\n",
       "      <th>39897</th>\n",
       "      <td>712</td>\n",
       "      <td>9.800000e+01</td>\n",
       "      <td>62.000000</td>\n",
       "      <td>0.0</td>\n",
       "      <td>0.0</td>\n",
       "      <td>0.0</td>\n",
       "      <td>0.0</td>\n",
       "      <td>0.0</td>\n",
       "      <td>802.0</td>\n",
       "      <td>37042.0</td>\n",
       "      <td>...</td>\n",
       "      <td>0.0</td>\n",
       "      <td>0.0</td>\n",
       "      <td>4</td>\n",
       "      <td>7</td>\n",
       "      <td>5</td>\n",
       "      <td>0</td>\n",
       "      <td>4</td>\n",
       "      <td>6</td>\n",
       "      <td>0</td>\n",
       "      <td>1</td>\n",
       "    </tr>\n",
       "    <tr>\n",
       "      <th>39898</th>\n",
       "      <td>61980</td>\n",
       "      <td>3.060000e+02</td>\n",
       "      <td>226.000000</td>\n",
       "      <td>0.0</td>\n",
       "      <td>0.0</td>\n",
       "      <td>0.0</td>\n",
       "      <td>0.0</td>\n",
       "      <td>0.0</td>\n",
       "      <td>0.0</td>\n",
       "      <td>244.0</td>\n",
       "      <td>...</td>\n",
       "      <td>0.0</td>\n",
       "      <td>0.0</td>\n",
       "      <td>6</td>\n",
       "      <td>6</td>\n",
       "      <td>4</td>\n",
       "      <td>0</td>\n",
       "      <td>4</td>\n",
       "      <td>5</td>\n",
       "      <td>8</td>\n",
       "      <td>1</td>\n",
       "    </tr>\n",
       "    <tr>\n",
       "      <th>39899</th>\n",
       "      <td>14</td>\n",
       "      <td>2.000000e+00</td>\n",
       "      <td>2.000000</td>\n",
       "      <td>0.0</td>\n",
       "      <td>0.0</td>\n",
       "      <td>0.0</td>\n",
       "      <td>0.0</td>\n",
       "      <td>0.0</td>\n",
       "      <td>0.0</td>\n",
       "      <td>2.0</td>\n",
       "      <td>...</td>\n",
       "      <td>0.0</td>\n",
       "      <td>0.0</td>\n",
       "      <td>6</td>\n",
       "      <td>8</td>\n",
       "      <td>5</td>\n",
       "      <td>0</td>\n",
       "      <td>4</td>\n",
       "      <td>5</td>\n",
       "      <td>0</td>\n",
       "      <td>1</td>\n",
       "    </tr>\n",
       "  </tbody>\n",
       "</table>\n",
       "<p>39900 rows × 170 columns</p>\n",
       "</div>"
      ],
      "text/plain": [
       "       aa_000        ac_000         ad_000  ae_000  af_000  ag_000  ag_001  \\\n",
       "0       21470  2.130706e+09     168.000000     0.0     0.0     0.0     0.0   \n",
       "1       40856  5.540000e+02       0.000000     0.0     0.0     0.0     0.0   \n",
       "2          28  2.130706e+09      20.000000     0.0     0.0     0.0     0.0   \n",
       "3       38682  3.440000e+02     326.000000     0.0     0.0     0.0     0.0   \n",
       "4       62218  0.000000e+00  287230.886216     0.0     0.0     0.0     0.0   \n",
       "...       ...           ...            ...     ...     ...     ...     ...   \n",
       "39895   27012  6.840000e+02     524.000000     0.0     0.0     0.0     0.0   \n",
       "39896    1926  2.130706e+09      10.000000     0.0     0.0     0.0     0.0   \n",
       "39897     712  9.800000e+01      62.000000     0.0     0.0     0.0     0.0   \n",
       "39898   61980  3.060000e+02     226.000000     0.0     0.0     0.0     0.0   \n",
       "39899      14  2.000000e+00       2.000000     0.0     0.0     0.0     0.0   \n",
       "\n",
       "       ag_002   ag_003     ag_004  ...  ef_000  eg_000  histo_ag_mode  \\\n",
       "0         0.0  11968.0   723426.0  ...     0.0     0.0              4   \n",
       "1         0.0      0.0     3310.0  ...     0.0     0.0              6   \n",
       "2         0.0      0.0       80.0  ...     0.0     0.0              6   \n",
       "3         0.0      0.0      418.0  ...     0.0     0.0              6   \n",
       "4         0.0      0.0   153220.0  ...     0.0     0.0              6   \n",
       "...       ...      ...        ...  ...     ...     ...            ...   \n",
       "39895     0.0   2864.0  1384726.0  ...     0.0     0.0              4   \n",
       "39896     0.0      0.0       38.0  ...     0.0     0.0              7   \n",
       "39897     0.0    802.0    37042.0  ...     0.0     0.0              4   \n",
       "39898     0.0      0.0      244.0  ...     0.0     0.0              6   \n",
       "39899     0.0      0.0        2.0  ...     0.0     0.0              6   \n",
       "\n",
       "       histo_ay_mode  histo_az_mode  histo_ba_mode  histo_cn_mode  \\\n",
       "0                  8              6              0              3   \n",
       "1                  6              4              0              5   \n",
       "2                  6              5              0              5   \n",
       "3                  8              4              1              5   \n",
       "4                  7              4              1              4   \n",
       "...              ...            ...            ...            ...   \n",
       "39895              8              5              0              3   \n",
       "39896              7              5              1              5   \n",
       "39897              7              5              0              4   \n",
       "39898              6              4              0              4   \n",
       "39899              8              5              0              4   \n",
       "\n",
       "       histo_cs_mode  histo_ee_mode  clust  \n",
       "0                  5              6      0  \n",
       "1                  5              1      1  \n",
       "2                  6              0      0  \n",
       "3                  5              0      1  \n",
       "4                  5              1      1  \n",
       "...              ...            ...    ...  \n",
       "39895              5              7      1  \n",
       "39896              5              5      0  \n",
       "39897              6              0      1  \n",
       "39898              5              8      1  \n",
       "39899              5              0      1  \n",
       "\n",
       "[39900 rows x 170 columns]"
      ]
     },
     "execution_count": 87,
     "metadata": {},
     "output_type": "execute_result"
    }
   ],
   "source": [
    "X_train_p"
   ]
  },
  {
   "cell_type": "code",
   "execution_count": null,
   "id": "cd0112d5",
   "metadata": {},
   "outputs": [],
   "source": []
  },
  {
   "cell_type": "code",
   "execution_count": null,
   "id": "25191c25",
   "metadata": {},
   "outputs": [],
   "source": []
  },
  {
   "cell_type": "code",
   "execution_count": 91,
   "id": "a84d38d2",
   "metadata": {},
   "outputs": [
    {
     "data": {
      "text/plain": [
       "<AxesSubplot:title={'center':'Count (target)'}>"
      ]
     },
     "execution_count": 91,
     "metadata": {},
     "output_type": "execute_result"
    },
    {
     "data": {
      "image/png": "[encoded data removed]",
      "text/plain": [
       "<Figure size 432x288 with 1 Axes>"
      ]
     },
     "metadata": {
      "needs_background": "light"
     },
     "output_type": "display_data"
    }
   ],
   "source": [
    "X_train_p_clustering['clust'][y_train == 0].value_counts().plot(kind='bar', title='Count (target)')"
   ]
  },
  {
   "cell_type": "code",
   "execution_count": null,
   "id": "fcff0a25",
   "metadata": {},
   "outputs": [],
   "source": []
  },
  {
   "cell_type": "code",
   "execution_count": null,
   "id": "bbd7a634",
   "metadata": {},
   "outputs": [],
   "source": []
  },
  {
   "cell_type": "code",
   "execution_count": 92,
   "id": "15ea76d7",
   "metadata": {},
   "outputs": [
    {
     "data": {
      "text/plain": [
       "<AxesSubplot:title={'center':'Count (target)'}>"
      ]
     },
     "execution_count": 92,
     "metadata": {},
     "output_type": "execute_result"
    },
    {
     "data": {
      "image/png": "[encoded data removed]",
      "text/plain": [
       "<Figure size 432x288 with 1 Axes>"
      ]
     },
     "metadata": {
      "needs_background": "light"
     },
     "output_type": "display_data"
    }
   ],
   "source": [
    "X_train_p_clustering['clust'][y_train == 1].value_counts().plot(kind='bar', title='Count (target)')"
   ]
  },
  {
   "cell_type": "code",
   "execution_count": null,
   "id": "7bb857d7",
   "metadata": {},
   "outputs": [],
   "source": []
  },
  {
   "cell_type": "code",
   "execution_count": null,
   "id": "d1f4827e",
   "metadata": {},
   "outputs": [],
   "source": []
  },
  {
   "cell_type": "code",
   "execution_count": 72,
   "id": "95a16d97",
   "metadata": {},
   "outputs": [
    {
     "name": "stderr",
     "output_type": "stream",
     "text": [
      "C:\\Users\\mouna\\anaconda3\\lib\\site-packages\\sklearn\\linear_model\\_logistic.py:458: ConvergenceWarning: lbfgs failed to converge (status=1):\n",
      "STOP: TOTAL NO. of ITERATIONS REACHED LIMIT.\n",
      "\n",
      "Increase the number of iterations (max_iter) or scale the data as shown in:\n",
      "    https://scikit-learn.org/stable/modules/preprocessing.html\n",
      "Please also refer to the documentation for alternative solver options:\n",
      "    https://scikit-learn.org/stable/modules/linear_model.html#logistic-regression\n",
      "  n_iter_i = _check_optimize_result(\n",
      "C:\\Users\\mouna\\anaconda3\\lib\\site-packages\\sklearn\\linear_model\\_logistic.py:458: ConvergenceWarning: lbfgs failed to converge (status=1):\n",
      "STOP: TOTAL NO. of ITERATIONS REACHED LIMIT.\n",
      "\n",
      "Increase the number of iterations (max_iter) or scale the data as shown in:\n",
      "    https://scikit-learn.org/stable/modules/preprocessing.html\n",
      "Please also refer to the documentation for alternative solver options:\n",
      "    https://scikit-learn.org/stable/modules/linear_model.html#logistic-regression\n",
      "  n_iter_i = _check_optimize_result(\n",
      "C:\\Users\\mouna\\anaconda3\\lib\\site-packages\\sklearn\\linear_model\\_logistic.py:458: ConvergenceWarning: lbfgs failed to converge (status=1):\n",
      "STOP: TOTAL NO. of ITERATIONS REACHED LIMIT.\n",
      "\n",
      "Increase the number of iterations (max_iter) or scale the data as shown in:\n",
      "    https://scikit-learn.org/stable/modules/preprocessing.html\n",
      "Please also refer to the documentation for alternative solver options:\n",
      "    https://scikit-learn.org/stable/modules/linear_model.html#logistic-regression\n",
      "  n_iter_i = _check_optimize_result(\n",
      "C:\\Users\\mouna\\anaconda3\\lib\\site-packages\\sklearn\\linear_model\\_logistic.py:458: ConvergenceWarning: lbfgs failed to converge (status=1):\n",
      "STOP: TOTAL NO. of ITERATIONS REACHED LIMIT.\n",
      "\n",
      "Increase the number of iterations (max_iter) or scale the data as shown in:\n",
      "    https://scikit-learn.org/stable/modules/preprocessing.html\n",
      "Please also refer to the documentation for alternative solver options:\n",
      "    https://scikit-learn.org/stable/modules/linear_model.html#logistic-regression\n",
      "  n_iter_i = _check_optimize_result(\n"
     ]
    },
    {
     "name": "stdout",
     "output_type": "stream",
     "text": [
      "[0.8086904  0.81097197 0.81113801 0.83333333 0.7749535 ]\n"
     ]
    },
    {
     "name": "stderr",
     "output_type": "stream",
     "text": [
      "C:\\Users\\mouna\\anaconda3\\lib\\site-packages\\sklearn\\linear_model\\_logistic.py:458: ConvergenceWarning: lbfgs failed to converge (status=1):\n",
      "STOP: TOTAL NO. of ITERATIONS REACHED LIMIT.\n",
      "\n",
      "Increase the number of iterations (max_iter) or scale the data as shown in:\n",
      "    https://scikit-learn.org/stable/modules/preprocessing.html\n",
      "Please also refer to the documentation for alternative solver options:\n",
      "    https://scikit-learn.org/stable/modules/linear_model.html#logistic-regression\n",
      "  n_iter_i = _check_optimize_result(\n"
     ]
    }
   ],
   "source": [
    "clf = LogisticRegression(penalty='l2', dual=False, tol=0.0001, C=1.0, fit_intercept=True, intercept_scaling=1, random_state=None, solver='lbfgs', max_iter=100, multi_class='auto', verbose=0, warm_start=False, n_jobs=None, l1_ratio=None, class_weight={1: 55})\n",
    "pipe = make_pipeline( SelectKBest(chi2, k=140), MinMaxScaler(), clf)\n",
    "it = StratifiedKFold(n_splits=5, random_state=None, shuffle=False)\n",
    "fthree_scorer = make_scorer(fbeta_score, beta=3)\n",
    "cv_results = cv(pipe, X_train_p_clustering, y_train, cv=it, scoring = fthree_scorer)\n",
    "print(cv_results)"
   ]
  },
  {
   "cell_type": "code",
   "execution_count": null,
   "id": "f6bf47d5",
   "metadata": {},
   "outputs": [],
   "source": []
  },
  {
   "cell_type": "code",
   "execution_count": 74,
   "id": "9376021e",
   "metadata": {},
   "outputs": [
    {
     "name": "stdout",
     "output_type": "stream",
     "text": [
      "[0.74418605 0.74054054 0.73157316 0.79722704 0.7150655 ]\n"
     ]
    }
   ],
   "source": [
    "clf = DTC(criterion='gini', splitter='best', min_samples_split=15, max_depth=5, class_weight={1: 55})\n",
    "pipe = make_pipeline(MinMaxScaler(), clf)\n",
    "it = StratifiedKFold(n_splits=5, random_state=None, shuffle=False)\n",
    "fthree_scorer = make_scorer(fbeta_score, beta=3)\n",
    "cv_results = cv(pipe, X_train_p_clustering, y_train, cv=it, scoring = fthree_scorer)\n",
    "print(cv_results)"
   ]
  },
  {
   "cell_type": "code",
   "execution_count": null,
   "id": "9f2f05cd",
   "metadata": {},
   "outputs": [],
   "source": []
  },
  {
   "cell_type": "code",
   "execution_count": 75,
   "id": "bfb3b41f",
   "metadata": {},
   "outputs": [
    {
     "name": "stdout",
     "output_type": "stream",
     "text": [
      "|--- ck_000 <= 1459341.62\n",
      "|   |--- aa_000 <= 183106.00\n",
      "|   |   |--- az_001 <= 17240.00\n",
      "|   |   |   |--- ay_001 <= 92387.00\n",
      "|   |   |   |   |--- cn_009 <= 13147.00\n",
      "|   |   |   |   |   |--- class: 0\n",
      "|   |   |   |   |--- cn_009 >  13147.00\n",
      "|   |   |   |   |   |--- class: 0\n",
      "|   |   |   |--- ay_001 >  92387.00\n",
      "|   |   |   |   |--- ba_009 <= 85.00\n",
      "|   |   |   |   |   |--- class: 0\n",
      "|   |   |   |   |--- ba_009 >  85.00\n",
      "|   |   |   |   |   |--- class: 1\n",
      "|   |   |--- az_001 >  17240.00\n",
      "|   |   |   |--- cn_002 <= 30107.00\n",
      "|   |   |   |   |--- class: 0\n",
      "|   |   |   |--- cn_002 >  30107.00\n",
      "|   |   |   |   |--- cm_000 <= 1615.00\n",
      "|   |   |   |   |   |--- class: 1\n",
      "|   |   |   |   |--- cm_000 >  1615.00\n",
      "|   |   |   |   |   |--- class: 0\n",
      "|   |--- aa_000 >  183106.00\n",
      "|   |   |--- ck_000 <= 1171435.19\n",
      "|   |   |   |--- az_000 <= 9451.00\n",
      "|   |   |   |   |--- bt_000 <= 122195.49\n",
      "|   |   |   |   |   |--- class: 1\n",
      "|   |   |   |   |--- bt_000 >  122195.49\n",
      "|   |   |   |   |   |--- class: 0\n",
      "|   |   |   |--- az_000 >  9451.00\n",
      "|   |   |   |   |--- ag_005 <= 2812302.00\n",
      "|   |   |   |   |   |--- class: 0\n",
      "|   |   |   |   |--- ag_005 >  2812302.00\n",
      "|   |   |   |   |   |--- class: 1\n",
      "|   |   |--- ck_000 >  1171435.19\n",
      "|   |   |   |--- class: 0\n",
      "|--- ck_000 >  1459341.62\n",
      "|   |--- ci_000 <= 6158834.50\n",
      "|   |   |--- ag_002 <= 2167.00\n",
      "|   |   |   |--- class: 0\n",
      "|   |   |--- ag_002 >  2167.00\n",
      "|   |   |   |--- av_000 <= 951.00\n",
      "|   |   |   |   |--- class: 1\n",
      "|   |   |   |--- av_000 >  951.00\n",
      "|   |   |   |   |--- class: 0\n",
      "|   |--- ci_000 >  6158834.50\n",
      "|   |   |--- ck_000 <= 2559389.75\n",
      "|   |   |   |--- ee_005 <= 1349545.00\n",
      "|   |   |   |   |--- ag_002 <= 26713.00\n",
      "|   |   |   |   |   |--- class: 0\n",
      "|   |   |   |   |--- ag_002 >  26713.00\n",
      "|   |   |   |   |   |--- class: 1\n",
      "|   |   |   |--- ee_005 >  1349545.00\n",
      "|   |   |   |   |--- ay_007 <= 12867786.00\n",
      "|   |   |   |   |   |--- class: 1\n",
      "|   |   |   |   |--- ay_007 >  12867786.00\n",
      "|   |   |   |   |   |--- class: 0\n",
      "|   |   |--- ck_000 >  2559389.75\n",
      "|   |   |   |--- bj_000 <= 4039465.00\n",
      "|   |   |   |   |--- bc_000 <= 28.00\n",
      "|   |   |   |   |   |--- class: 0\n",
      "|   |   |   |   |--- bc_000 >  28.00\n",
      "|   |   |   |   |   |--- class: 1\n",
      "|   |   |   |--- bj_000 >  4039465.00\n",
      "|   |   |   |   |--- cn_006 <= 19947373.00\n",
      "|   |   |   |   |   |--- class: 1\n",
      "|   |   |   |   |--- cn_006 >  19947373.00\n",
      "|   |   |   |   |   |--- class: 0\n",
      "\n"
     ]
    }
   ],
   "source": [
    "from sklearn.tree import export_text\n",
    "tree_rules = export_text(clf.fit(X_train_p_clustering, y_train), feature_names=list(X_train_p_clustering.columns))\n",
    "print(tree_rules)"
   ]
  },
  {
   "cell_type": "code",
   "execution_count": 76,
   "id": "8e7ad1dc",
   "metadata": {},
   "outputs": [
    {
     "name": "stdout",
     "output_type": "stream",
     "text": [
      "[0.75073314 0.77057793 0.74810053 0.79976649 0.74272133]\n"
     ]
    }
   ],
   "source": [
    "clf = GaussianNB()\n",
    "pipe = make_pipeline(MinMaxScaler(), clf)\n",
    "it = StratifiedKFold(n_splits=5, random_state=None, shuffle=False)\n",
    "fthree_scorer = make_scorer(fbeta_score, beta=3)\n",
    "cv_results = cv(pipe, X_train_p_clustering, y_train, cv=it, scoring = fthree_scorer)\n",
    "print(cv_results)"
   ]
  },
  {
   "cell_type": "code",
   "execution_count": null,
   "id": "d4550dfa",
   "metadata": {},
   "outputs": [],
   "source": []
  },
  {
   "cell_type": "code",
   "execution_count": null,
   "id": "49b01b94",
   "metadata": {},
   "outputs": [],
   "source": []
  },
  {
   "cell_type": "code",
   "execution_count": null,
   "id": "fc1cd459",
   "metadata": {},
   "outputs": [],
   "source": []
  },
  {
   "cell_type": "code",
   "execution_count": null,
   "id": "4870b2fa",
   "metadata": {},
   "outputs": [],
   "source": []
  },
  {
   "cell_type": "code",
   "execution_count": null,
   "id": "d9f5b24b",
   "metadata": {},
   "outputs": [],
   "source": []
  },
  {
   "cell_type": "code",
   "execution_count": null,
   "id": "5720cb96",
   "metadata": {},
   "outputs": [],
   "source": []
  },
  {
   "cell_type": "code",
   "execution_count": null,
   "id": "6aaef3f8",
   "metadata": {},
   "outputs": [],
   "source": []
  },
  {
   "cell_type": "code",
   "execution_count": null,
   "id": "ece18a18",
   "metadata": {},
   "outputs": [],
   "source": []
  },
  {
   "cell_type": "code",
   "execution_count": null,
   "id": "7c9071c7",
   "metadata": {},
   "outputs": [],
   "source": []
  },
  {
   "cell_type": "code",
   "execution_count": null,
   "id": "ce816401",
   "metadata": {},
   "outputs": [],
   "source": []
  },
  {
   "cell_type": "code",
   "execution_count": null,
   "id": "31ed5d10",
   "metadata": {},
   "outputs": [],
   "source": []
  },
  {
   "cell_type": "code",
   "execution_count": null,
   "id": "866998b0",
   "metadata": {},
   "outputs": [],
   "source": []
  },
  {
   "cell_type": "code",
   "execution_count": null,
   "id": "e220bbfd",
   "metadata": {},
   "outputs": [],
   "source": []
  },
  {
   "cell_type": "code",
   "execution_count": null,
   "id": "2006dd12",
   "metadata": {},
   "outputs": [],
   "source": []
  },
  {
   "cell_type": "code",
   "execution_count": null,
   "id": "92f5c6ab",
   "metadata": {},
   "outputs": [],
   "source": []
  },
  {
   "cell_type": "code",
   "execution_count": null,
   "id": "f09d12d2",
   "metadata": {},
   "outputs": [],
   "source": []
  },
  {
   "cell_type": "code",
   "execution_count": null,
   "id": "f3642817",
   "metadata": {},
   "outputs": [],
   "source": []
  },
  {
   "cell_type": "code",
   "execution_count": null,
   "id": "4d63d438",
   "metadata": {},
   "outputs": [],
   "source": []
  }
 ],
 "metadata": {
  "kernelspec": {
   "display_name": "Python 3",
   "language": "python",
   "name": "python3"
  },
  "language_info": {
   "codemirror_mode": {
    "name": "ipython",
    "version": 3
   },
   "file_extension": ".py",
   "mimetype": "text/x-python",
   "name": "python",
   "nbconvert_exporter": "python",
   "pygments_lexer": "ipython3",
   "version": "3.8.8"
  }
 },
 "nbformat": 4,
 "nbformat_minor": 5
}
