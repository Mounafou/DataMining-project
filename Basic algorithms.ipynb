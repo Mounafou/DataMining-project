{
 "cells": [
  {
   "cell_type": "code",
   "execution_count": 1,
   "id": "42caabec",
   "metadata": {},
   "outputs": [],
   "source": [
    "from sklearn.naive_bayes import GaussianNB\n",
    "from sklearn.metrics import accuracy_score as acc\n",
    "from sklearn.metrics import roc_auc_score as auc\n",
    "#from sklearn.metrics import plot_confusion_matrix as pcm\n",
    "#from sklearn.metrics import plot_precision_recall_curve as ppc\n",
    "#from sklearn.metrics import plot_roc_curve as prc\n",
    "from sklearn.tree import DecisionTreeClassifier as DTC\n",
    "from sklearn.neighbors import KNeighborsClassifier as KNC\n",
    "from sklearn.model_selection import cross_val_score as cv\n",
    "from sklearn.svm import LinearSVC as linSVC\n",
    "from sklearn.model_selection import train_test_split\n",
    "from sklearn.metrics import accuracy_score\n",
    "from sklearn.metrics import f1_score, make_scorer\n",
    "from sklearn.metrics import fbeta_score\n",
    "from sklearn.model_selection import StratifiedKFold\n",
    "import pandas as pd\n",
    "from matplotlib import pyplot as plt  \n",
    "import numpy as np\n",
    "from sklearn.preprocessing import Normalizer as norm\n",
    "from sklearn.datasets import make_classification\n",
    "from sklearn.linear_model import LogisticRegression\n",
    "from sklearn.model_selection import train_test_split\n",
    "from sklearn.pipeline import make_pipeline\n",
    "from sklearn.preprocessing import StandardScaler\n",
    "from sklearn import svm\n",
    "from sklearn.utils.class_weight import compute_class_weight\n",
    "from sklearn.cluster import KMeans\n",
    "from sklearn.preprocessing import RobustScaler\n",
    "from sklearn.pipeline import make_pipeline\n",
    "from sklearn.preprocessing import MinMaxScaler\n",
    "from sklearn.svm import LinearSVC\n",
    "from sklearn.feature_selection import SelectKBest, f_classif, chi2\n",
    "from sklearn.cluster import MeanShift\n",
    "from sklearn.neural_network import MLPClassifier"
   ]
  },
  {
   "cell_type": "code",
   "execution_count": 2,
   "id": "fffc34e6",
   "metadata": {},
   "outputs": [],
   "source": [
    "#loading data\n",
    "X_train = pd.read_csv('X_train.csv')\n",
    "y_train = pd.read_csv('y_train.csv')\n",
    "y_train = y_train['Expected']\n",
    "y_test = pd.read_csv('y_test_pred_dectree_md2.csv')\n",
    "X_test = pd.read_csv('X_test.csv')\n",
    "y_test = y_test['Predicted']\n",
    "df = X_train"
   ]
  },
  {
   "cell_type": "code",
   "execution_count": 3,
   "id": "449500c9",
   "metadata": {},
   "outputs": [],
   "source": [
    "def prep_func(df):\n",
    "    df_noId = df.drop(['Id'], axis=1)\n",
    "    sparse_attributes = ['ab_000', 'bm_000', 'bn_000', 'bo_000', 'bp_000', 'bq_000', 'br_000', 'cr_000']\n",
    "    histo_features = ['ag_000', 'ag_001', 'ag_002', 'ag_003', 'ag_004', 'ag_005', 'ag_006', 'ag_007', 'ag_008', 'ag_009', 'ay_000', 'ay_001', 'ay_002', 'ay_003', 'ay_004', 'ay_005', 'ay_006', 'ay_007', 'ay_008', 'ay_009', 'az_000', 'az_001', 'az_002', 'az_003', 'az_004', 'az_005', 'az_006', 'az_007', 'az_008', 'az_009', 'ba_000', 'ba_001', 'ba_002', 'ba_003', 'ba_004', 'ba_005', 'ba_006', 'ba_007', 'ba_008', 'ba_009', 'cn_000', 'cn_001', 'cn_002', 'cn_003', 'cn_004', 'cn_005', 'cn_006', 'cn_007', 'cn_008', 'cn_009', 'cs_000', 'cs_001', 'cs_002', 'cs_003', 'cs_004', 'cs_005', 'cs_006', 'cs_007', 'cs_008', 'cs_009', 'ee_000', 'ee_001', 'ee_002', 'ee_003', 'ee_004', 'ee_005', 'ee_006', 'ee_007', 'ee_008', 'ee_009']\n",
    "    histo_dic = {'histo_ag':['ag_000','ag_001', 'ag_002', 'ag_003', 'ag_004', 'ag_005', 'ag_006', 'ag_007', 'ag_008', 'ag_009'], 'histo_ay':['ay_000', 'ay_001', 'ay_002', 'ay_003', 'ay_004', 'ay_005', 'ay_006', 'ay_007', 'ay_008', 'ay_009'], 'histo_az':['az_000','az_001', 'az_002', 'az_003', 'az_004', 'az_005', 'az_006', 'az_007', 'az_008', 'az_009'],'histo_ba':['ba_000','ba_001', 'ba_002', 'ba_003', 'ba_004', 'ba_005', 'ba_006', 'ba_007', 'ba_008', 'ba_009'],'histo_cn':['cn_000','cn_001', 'cn_002', 'cn_003', 'cn_004', 'cn_005', 'cn_006', 'cn_007', 'cn_008', 'cn_009'],'histo_cs' :['cs_000','cs_001', 'cs_002', 'cs_003', 'cs_004', 'cs_005', 'cs_006', 'cs_007', 'cs_008', 'cs_009'],'histo_ee': ['ee_000','ee_001', 'ee_002', 'ee_003', 'ee_004', 'ee_005', 'ee_006', 'ee_007', 'ee_008', 'ee_009']}\n",
    "    \n",
    "    df_lessAtt = df_noId.drop(sparse_attributes, axis=1)\n",
    "    new_atts_ordinal=[]\n",
    "    \n",
    "    for i in histo_dic:  \n",
    "        #att1=df[histo_dic[i]].max(axis=1)\n",
    "        att2=df[histo_dic[i]].idxmax(axis=\"columns\")\n",
    "\n",
    "        #name1 = i + '_val'\n",
    "        name2 = i + '_mode'\n",
    "        #se1 = pd.Series(att1)\n",
    "        se2 = pd.Series(att2)\n",
    "        #df_lessAtt[name1] = se1.values\n",
    "        df_lessAtt[name2] = se2.values\n",
    "        new_atts_ordinal.append(name2)\n",
    "    \n",
    "    df_lessAtt[new_atts_ordinal] = df_lessAtt[new_atts_ordinal].fillna('000')\n",
    "    \n",
    "    for i in new_atts_ordinal:\n",
    "        ss=[]\n",
    "        for j in range(len(df_lessAtt)):\n",
    "            s=df_lessAtt[i].loc[j][-1]\n",
    "            ss.append(s)\n",
    "        df_lessAtt[i]=ss\n",
    "    \n",
    "    #df_noHisto = df_lessAtt.drop(histo_features, axis=1)\n",
    "    \n",
    "    df_imp1=df_lessAtt.fillna(df_lessAtt.iloc[:,0:92].mean())\n",
    "    df_imp2 = df_imp1.fillna(0)\n",
    "    df_f = df_imp2\n",
    "    return df_f"
   ]
  },
  {
   "cell_type": "code",
   "execution_count": 4,
   "id": "4ee2b17f",
   "metadata": {},
   "outputs": [],
   "source": [
    "X_train_p = prep_func(X_train)"
   ]
  },
  {
   "cell_type": "code",
   "execution_count": 5,
   "id": "67a1e4eb",
   "metadata": {},
   "outputs": [],
   "source": [
    "X_test_p = prep_func(X_test)"
   ]
  },
  {
   "cell_type": "code",
   "execution_count": 24,
   "id": "aadddea6",
   "metadata": {},
   "outputs": [],
   "source": [
    "X_trainS, X_testS, y_trainS, y_testS = train_test_split(X_train_p, y_train, test_size=0.33, random_state=42)"
   ]
  },
  {
   "cell_type": "code",
   "execution_count": 25,
   "id": "1dd7da6d",
   "metadata": {},
   "outputs": [],
   "source": [
    "scores_NoScaler = []\n",
    "scores_StandardScaler = []\n",
    "scores_MinMaxScaler = []"
   ]
  },
  {
   "cell_type": "code",
   "execution_count": null,
   "id": "a180f47e",
   "metadata": {},
   "outputs": [],
   "source": []
  },
  {
   "cell_type": "code",
   "execution_count": 11,
   "id": "8d4090d5",
   "metadata": {},
   "outputs": [
    {
     "name": "stdout",
     "output_type": "stream",
     "text": [
      "[0.76380729 0.77818627 0.76470588 0.75044669 0.75030012]\n"
     ]
    }
   ],
   "source": [
    "#GNB (not much difference with or without scaler)\n",
    "clf = GaussianNB()\n",
    "pipe = make_pipeline( clf)\n",
    "it = StratifiedKFold(n_splits=5, random_state=100, shuffle=True)\n",
    "fthree_scorer = make_scorer(fbeta_score, beta=3)\n",
    "cv_results = cv(clf, X_train_p, y_train, cv=it, scoring = fthree_scorer)\n",
    "print(cv_results)"
   ]
  },
  {
   "cell_type": "code",
   "execution_count": null,
   "id": "d00d1416",
   "metadata": {},
   "outputs": [],
   "source": []
  },
  {
   "cell_type": "code",
   "execution_count": 12,
   "id": "4a77d705",
   "metadata": {},
   "outputs": [
    {
     "name": "stdout",
     "output_type": "stream",
     "text": [
      "[0.69230769 0.69252078 0.60308555 0.70103093 0.70441989]\n"
     ]
    }
   ],
   "source": [
    "clf = DTC()\n",
    "pipe = make_pipeline( clf)\n",
    "it = StratifiedKFold(n_splits=5, random_state=100, shuffle=True)\n",
    "fthree_scorer = make_scorer(fbeta_score, beta=3)\n",
    "cv_results = cv(clf, X_train_p, y_train, cv=it, scoring = fthree_scorer)\n",
    "print(cv_results)"
   ]
  },
  {
   "cell_type": "code",
   "execution_count": 31,
   "id": "a3b1c6de",
   "metadata": {},
   "outputs": [],
   "source": [
    "scores_NoScaler.append(np.mean( [0.69230769, 0.69252078, 0.60308555, 0.70103093, 0.70441989] ))"
   ]
  },
  {
   "cell_type": "code",
   "execution_count": null,
   "id": "5b273145",
   "metadata": {},
   "outputs": [],
   "source": []
  },
  {
   "cell_type": "code",
   "execution_count": 13,
   "id": "a88ca704",
   "metadata": {},
   "outputs": [
    {
     "name": "stderr",
     "output_type": "stream",
     "text": [
      "C:\\Users\\mouna\\anaconda3\\lib\\site-packages\\sklearn\\linear_model\\_logistic.py:458: ConvergenceWarning: lbfgs failed to converge (status=1):\n",
      "STOP: TOTAL NO. of ITERATIONS REACHED LIMIT.\n",
      "\n",
      "Increase the number of iterations (max_iter) or scale the data as shown in:\n",
      "    https://scikit-learn.org/stable/modules/preprocessing.html\n",
      "Please also refer to the documentation for alternative solver options:\n",
      "    https://scikit-learn.org/stable/modules/linear_model.html#logistic-regression\n",
      "  n_iter_i = _check_optimize_result(\n",
      "C:\\Users\\mouna\\anaconda3\\lib\\site-packages\\sklearn\\linear_model\\_logistic.py:458: ConvergenceWarning: lbfgs failed to converge (status=1):\n",
      "STOP: TOTAL NO. of ITERATIONS REACHED LIMIT.\n",
      "\n",
      "Increase the number of iterations (max_iter) or scale the data as shown in:\n",
      "    https://scikit-learn.org/stable/modules/preprocessing.html\n",
      "Please also refer to the documentation for alternative solver options:\n",
      "    https://scikit-learn.org/stable/modules/linear_model.html#logistic-regression\n",
      "  n_iter_i = _check_optimize_result(\n",
      "C:\\Users\\mouna\\anaconda3\\lib\\site-packages\\sklearn\\linear_model\\_logistic.py:458: ConvergenceWarning: lbfgs failed to converge (status=1):\n",
      "STOP: TOTAL NO. of ITERATIONS REACHED LIMIT.\n",
      "\n",
      "Increase the number of iterations (max_iter) or scale the data as shown in:\n",
      "    https://scikit-learn.org/stable/modules/preprocessing.html\n",
      "Please also refer to the documentation for alternative solver options:\n",
      "    https://scikit-learn.org/stable/modules/linear_model.html#logistic-regression\n",
      "  n_iter_i = _check_optimize_result(\n",
      "C:\\Users\\mouna\\anaconda3\\lib\\site-packages\\sklearn\\linear_model\\_logistic.py:458: ConvergenceWarning: lbfgs failed to converge (status=1):\n",
      "STOP: TOTAL NO. of ITERATIONS REACHED LIMIT.\n",
      "\n",
      "Increase the number of iterations (max_iter) or scale the data as shown in:\n",
      "    https://scikit-learn.org/stable/modules/preprocessing.html\n",
      "Please also refer to the documentation for alternative solver options:\n",
      "    https://scikit-learn.org/stable/modules/linear_model.html#logistic-regression\n",
      "  n_iter_i = _check_optimize_result(\n"
     ]
    },
    {
     "name": "stdout",
     "output_type": "stream",
     "text": [
      "[0.64401982 0.55       0.64129669 0.58947368 0.58533145]\n"
     ]
    },
    {
     "name": "stderr",
     "output_type": "stream",
     "text": [
      "C:\\Users\\mouna\\anaconda3\\lib\\site-packages\\sklearn\\linear_model\\_logistic.py:458: ConvergenceWarning: lbfgs failed to converge (status=1):\n",
      "STOP: TOTAL NO. of ITERATIONS REACHED LIMIT.\n",
      "\n",
      "Increase the number of iterations (max_iter) or scale the data as shown in:\n",
      "    https://scikit-learn.org/stable/modules/preprocessing.html\n",
      "Please also refer to the documentation for alternative solver options:\n",
      "    https://scikit-learn.org/stable/modules/linear_model.html#logistic-regression\n",
      "  n_iter_i = _check_optimize_result(\n"
     ]
    }
   ],
   "source": [
    "clf = LogisticRegression()\n",
    "pipe = make_pipeline( clf)\n",
    "it = StratifiedKFold(n_splits=5, random_state=100, shuffle=True)\n",
    "fthree_scorer = make_scorer(fbeta_score, beta=3)\n",
    "cv_results = cv(clf, X_train_p, y_train, cv=it, scoring = fthree_scorer)\n",
    "print(cv_results)"
   ]
  },
  {
   "cell_type": "code",
   "execution_count": 32,
   "id": "fcf04378",
   "metadata": {},
   "outputs": [],
   "source": [
    "scores_NoScaler.append(np.mean([0.64401982, 0.55,       0.64129669, 0.58947368, 0.58533145]))"
   ]
  },
  {
   "cell_type": "code",
   "execution_count": null,
   "id": "3e3fe5df",
   "metadata": {},
   "outputs": [],
   "source": []
  },
  {
   "cell_type": "code",
   "execution_count": 15,
   "id": "99b382c7",
   "metadata": {},
   "outputs": [
    {
     "name": "stderr",
     "output_type": "stream",
     "text": [
      "C:\\Users\\mouna\\anaconda3\\lib\\site-packages\\sklearn\\svm\\_base.py:1244: ConvergenceWarning: Liblinear failed to converge, increase the number of iterations.\n",
      "  warnings.warn(\n",
      "C:\\Users\\mouna\\anaconda3\\lib\\site-packages\\sklearn\\svm\\_base.py:1244: ConvergenceWarning: Liblinear failed to converge, increase the number of iterations.\n",
      "  warnings.warn(\n",
      "C:\\Users\\mouna\\anaconda3\\lib\\site-packages\\sklearn\\svm\\_base.py:1244: ConvergenceWarning: Liblinear failed to converge, increase the number of iterations.\n",
      "  warnings.warn(\n",
      "C:\\Users\\mouna\\anaconda3\\lib\\site-packages\\sklearn\\svm\\_base.py:1244: ConvergenceWarning: Liblinear failed to converge, increase the number of iterations.\n",
      "  warnings.warn(\n"
     ]
    },
    {
     "name": "stdout",
     "output_type": "stream",
     "text": [
      "[0.73070124 0.52377671 0.32400589 0.59023066 0.15418502]\n"
     ]
    },
    {
     "name": "stderr",
     "output_type": "stream",
     "text": [
      "C:\\Users\\mouna\\anaconda3\\lib\\site-packages\\sklearn\\svm\\_base.py:1244: ConvergenceWarning: Liblinear failed to converge, increase the number of iterations.\n",
      "  warnings.warn(\n"
     ]
    }
   ],
   "source": [
    "clf = linSVC()\n",
    "pipe = make_pipeline( clf)\n",
    "it = StratifiedKFold(n_splits=5, random_state=100, shuffle=True)\n",
    "fthree_scorer = make_scorer(fbeta_score, beta=3)\n",
    "cv_results = cv(clf, X_train_p, y_train, cv=it, scoring = fthree_scorer)\n",
    "print(cv_results)"
   ]
  },
  {
   "cell_type": "code",
   "execution_count": 33,
   "id": "85a0d15d",
   "metadata": {},
   "outputs": [],
   "source": [
    "scores_NoScaler.append(np.mean([0.73070124, 0.52377671, 0.32400589, 0.59023066, 0.15418502]))"
   ]
  },
  {
   "cell_type": "code",
   "execution_count": null,
   "id": "c05e0eb0",
   "metadata": {},
   "outputs": [],
   "source": []
  },
  {
   "cell_type": "code",
   "execution_count": 34,
   "id": "9022e550",
   "metadata": {},
   "outputs": [
    {
     "name": "stdout",
     "output_type": "stream",
     "text": [
      "[0.76380729 0.77818627 0.76470588 0.75044669 0.75030012]\n"
     ]
    }
   ],
   "source": [
    "clf = GaussianNB()\n",
    "pipe = make_pipeline(StandardScaler(), clf)\n",
    "it = StratifiedKFold(n_splits=5, random_state=100, shuffle=True)\n",
    "fthree_scorer = make_scorer(fbeta_score, beta=3)\n",
    "cv_results = cv(clf, X_train_p, y_train, cv=it, scoring = fthree_scorer)\n",
    "print(cv_results)"
   ]
  },
  {
   "cell_type": "code",
   "execution_count": 35,
   "id": "c6142338",
   "metadata": {},
   "outputs": [],
   "source": [
    "scores_StandardScaler.append(np.mean([0.76380729, 0.77818627, 0.76470588, 0.75044669, 0.75030012]))"
   ]
  },
  {
   "cell_type": "code",
   "execution_count": null,
   "id": "c52df823",
   "metadata": {},
   "outputs": [],
   "source": []
  },
  {
   "cell_type": "code",
   "execution_count": 36,
   "id": "83a01d82",
   "metadata": {},
   "outputs": [
    {
     "name": "stdout",
     "output_type": "stream",
     "text": [
      "[0.66573231 0.70882557 0.59565522 0.72016461 0.69060773]\n"
     ]
    }
   ],
   "source": [
    "clf = DTC()\n",
    "pipe = make_pipeline(StandardScaler(), clf)\n",
    "it = StratifiedKFold(n_splits=5, random_state=100, shuffle=True)\n",
    "fthree_scorer = make_scorer(fbeta_score, beta=3)\n",
    "cv_results = cv(clf, X_train_p, y_train, cv=it, scoring = fthree_scorer)\n",
    "print(cv_results)"
   ]
  },
  {
   "cell_type": "code",
   "execution_count": 44,
   "id": "c3a73888",
   "metadata": {},
   "outputs": [],
   "source": [
    "scores_StandardScaler.append(np.mean([0.66573231, 0.70882557, 0.59565522, 0.72016461, 0.69060773]))"
   ]
  },
  {
   "cell_type": "code",
   "execution_count": null,
   "id": "728cbc0f",
   "metadata": {},
   "outputs": [],
   "source": []
  },
  {
   "cell_type": "code",
   "execution_count": 37,
   "id": "b5308737",
   "metadata": {},
   "outputs": [
    {
     "name": "stderr",
     "output_type": "stream",
     "text": [
      "C:\\Users\\mouna\\anaconda3\\lib\\site-packages\\sklearn\\linear_model\\_logistic.py:458: ConvergenceWarning: lbfgs failed to converge (status=1):\n",
      "STOP: TOTAL NO. of ITERATIONS REACHED LIMIT.\n",
      "\n",
      "Increase the number of iterations (max_iter) or scale the data as shown in:\n",
      "    https://scikit-learn.org/stable/modules/preprocessing.html\n",
      "Please also refer to the documentation for alternative solver options:\n",
      "    https://scikit-learn.org/stable/modules/linear_model.html#logistic-regression\n",
      "  n_iter_i = _check_optimize_result(\n",
      "C:\\Users\\mouna\\anaconda3\\lib\\site-packages\\sklearn\\linear_model\\_logistic.py:458: ConvergenceWarning: lbfgs failed to converge (status=1):\n",
      "STOP: TOTAL NO. of ITERATIONS REACHED LIMIT.\n",
      "\n",
      "Increase the number of iterations (max_iter) or scale the data as shown in:\n",
      "    https://scikit-learn.org/stable/modules/preprocessing.html\n",
      "Please also refer to the documentation for alternative solver options:\n",
      "    https://scikit-learn.org/stable/modules/linear_model.html#logistic-regression\n",
      "  n_iter_i = _check_optimize_result(\n",
      "C:\\Users\\mouna\\anaconda3\\lib\\site-packages\\sklearn\\linear_model\\_logistic.py:458: ConvergenceWarning: lbfgs failed to converge (status=1):\n",
      "STOP: TOTAL NO. of ITERATIONS REACHED LIMIT.\n",
      "\n",
      "Increase the number of iterations (max_iter) or scale the data as shown in:\n",
      "    https://scikit-learn.org/stable/modules/preprocessing.html\n",
      "Please also refer to the documentation for alternative solver options:\n",
      "    https://scikit-learn.org/stable/modules/linear_model.html#logistic-regression\n",
      "  n_iter_i = _check_optimize_result(\n",
      "C:\\Users\\mouna\\anaconda3\\lib\\site-packages\\sklearn\\linear_model\\_logistic.py:458: ConvergenceWarning: lbfgs failed to converge (status=1):\n",
      "STOP: TOTAL NO. of ITERATIONS REACHED LIMIT.\n",
      "\n",
      "Increase the number of iterations (max_iter) or scale the data as shown in:\n",
      "    https://scikit-learn.org/stable/modules/preprocessing.html\n",
      "Please also refer to the documentation for alternative solver options:\n",
      "    https://scikit-learn.org/stable/modules/linear_model.html#logistic-regression\n",
      "  n_iter_i = _check_optimize_result(\n"
     ]
    },
    {
     "name": "stdout",
     "output_type": "stream",
     "text": [
      "[0.64401982 0.55       0.64129669 0.58947368 0.58533145]\n"
     ]
    },
    {
     "name": "stderr",
     "output_type": "stream",
     "text": [
      "C:\\Users\\mouna\\anaconda3\\lib\\site-packages\\sklearn\\linear_model\\_logistic.py:458: ConvergenceWarning: lbfgs failed to converge (status=1):\n",
      "STOP: TOTAL NO. of ITERATIONS REACHED LIMIT.\n",
      "\n",
      "Increase the number of iterations (max_iter) or scale the data as shown in:\n",
      "    https://scikit-learn.org/stable/modules/preprocessing.html\n",
      "Please also refer to the documentation for alternative solver options:\n",
      "    https://scikit-learn.org/stable/modules/linear_model.html#logistic-regression\n",
      "  n_iter_i = _check_optimize_result(\n"
     ]
    }
   ],
   "source": [
    "clf = LogisticRegression()\n",
    "pipe = make_pipeline(StandardScaler(), clf)\n",
    "it = StratifiedKFold(n_splits=5, random_state=100, shuffle=True)\n",
    "fthree_scorer = make_scorer(fbeta_score, beta=3)\n",
    "cv_results = cv(clf, X_train_p, y_train, cv=it, scoring = fthree_scorer)\n",
    "print(cv_results)"
   ]
  },
  {
   "cell_type": "code",
   "execution_count": 45,
   "id": "b06bf986",
   "metadata": {},
   "outputs": [],
   "source": [
    "scores_StandardScaler.append(np.mean([0.64401982, 0.55,       0.64129669, 0.58947368, 0.58533145]))"
   ]
  },
  {
   "cell_type": "code",
   "execution_count": null,
   "id": "642be0d0",
   "metadata": {},
   "outputs": [],
   "source": []
  },
  {
   "cell_type": "code",
   "execution_count": 38,
   "id": "9069f349",
   "metadata": {},
   "outputs": [
    {
     "name": "stderr",
     "output_type": "stream",
     "text": [
      "C:\\Users\\mouna\\anaconda3\\lib\\site-packages\\sklearn\\svm\\_base.py:1244: ConvergenceWarning: Liblinear failed to converge, increase the number of iterations.\n",
      "  warnings.warn(\n",
      "C:\\Users\\mouna\\anaconda3\\lib\\site-packages\\sklearn\\svm\\_base.py:1244: ConvergenceWarning: Liblinear failed to converge, increase the number of iterations.\n",
      "  warnings.warn(\n",
      "C:\\Users\\mouna\\anaconda3\\lib\\site-packages\\sklearn\\svm\\_base.py:1244: ConvergenceWarning: Liblinear failed to converge, increase the number of iterations.\n",
      "  warnings.warn(\n",
      "C:\\Users\\mouna\\anaconda3\\lib\\site-packages\\sklearn\\svm\\_base.py:1244: ConvergenceWarning: Liblinear failed to converge, increase the number of iterations.\n",
      "  warnings.warn(\n"
     ]
    },
    {
     "name": "stdout",
     "output_type": "stream",
     "text": [
      "[0.3330866  0.46560111 0.60899654 0.54295533 0.4738331 ]\n"
     ]
    },
    {
     "name": "stderr",
     "output_type": "stream",
     "text": [
      "C:\\Users\\mouna\\anaconda3\\lib\\site-packages\\sklearn\\svm\\_base.py:1244: ConvergenceWarning: Liblinear failed to converge, increase the number of iterations.\n",
      "  warnings.warn(\n"
     ]
    }
   ],
   "source": [
    "clf = linSVC()\n",
    "pipe = make_pipeline(StandardScaler(), clf)\n",
    "it = StratifiedKFold(n_splits=5, random_state=100, shuffle=True)\n",
    "fthree_scorer = make_scorer(fbeta_score, beta=3)\n",
    "cv_results = cv(clf, X_train_p, y_train, cv=it, scoring = fthree_scorer)\n",
    "print(cv_results)"
   ]
  },
  {
   "cell_type": "code",
   "execution_count": 46,
   "id": "d7bb8524",
   "metadata": {},
   "outputs": [],
   "source": [
    "scores_StandardScaler.append(np.mean([0.3330866,  0.46560111, 0.60899654, 0.54295533, 0.4738331 ]))"
   ]
  },
  {
   "cell_type": "code",
   "execution_count": null,
   "id": "a3ee05de",
   "metadata": {},
   "outputs": [],
   "source": []
  },
  {
   "cell_type": "code",
   "execution_count": null,
   "id": "5bde7476",
   "metadata": {},
   "outputs": [],
   "source": []
  },
  {
   "cell_type": "code",
   "execution_count": 39,
   "id": "872cd9aa",
   "metadata": {},
   "outputs": [
    {
     "name": "stdout",
     "output_type": "stream",
     "text": [
      "[0.76380729 0.77818627 0.76470588 0.75044669 0.75030012]\n"
     ]
    }
   ],
   "source": [
    "clf = GaussianNB()\n",
    "pipe = make_pipeline(MinMaxScaler(), clf)\n",
    "it = StratifiedKFold(n_splits=5, random_state=100, shuffle=True)\n",
    "fthree_scorer = make_scorer(fbeta_score, beta=3)\n",
    "cv_results = cv(clf, X_train_p, y_train, cv=it, scoring = fthree_scorer)\n",
    "print(cv_results)"
   ]
  },
  {
   "cell_type": "code",
   "execution_count": 48,
   "id": "89f9f403",
   "metadata": {},
   "outputs": [],
   "source": [
    "scores_MinMaxScaler.append(np.mean([0.76380729, 0.77818627, 0.76470588, 0.75044669, 0.75030012]))"
   ]
  },
  {
   "cell_type": "code",
   "execution_count": null,
   "id": "7b97869e",
   "metadata": {},
   "outputs": [],
   "source": []
  },
  {
   "cell_type": "code",
   "execution_count": 40,
   "id": "82739909",
   "metadata": {},
   "outputs": [
    {
     "name": "stdout",
     "output_type": "stream",
     "text": [
      "[0.69637883 0.70334262 0.59274756 0.72952512 0.68870523]\n"
     ]
    }
   ],
   "source": [
    "clf = DTC()\n",
    "pipe = make_pipeline(MinMaxScaler(), clf)\n",
    "it = StratifiedKFold(n_splits=5, random_state=100, shuffle=True)\n",
    "fthree_scorer = make_scorer(fbeta_score, beta=3)\n",
    "cv_results = cv(clf, X_train_p, y_train, cv=it, scoring = fthree_scorer)\n",
    "print(cv_results)"
   ]
  },
  {
   "cell_type": "code",
   "execution_count": 49,
   "id": "406f1f6b",
   "metadata": {},
   "outputs": [],
   "source": [
    "scores_MinMaxScaler.append(np.mean([0.69637883, 0.70334262, 0.59274756, 0.72952512, 0.68870523]))"
   ]
  },
  {
   "cell_type": "code",
   "execution_count": null,
   "id": "0c1fea88",
   "metadata": {},
   "outputs": [],
   "source": []
  },
  {
   "cell_type": "code",
   "execution_count": 42,
   "id": "7d2e97ac",
   "metadata": {},
   "outputs": [
    {
     "name": "stderr",
     "output_type": "stream",
     "text": [
      "C:\\Users\\mouna\\anaconda3\\lib\\site-packages\\sklearn\\linear_model\\_logistic.py:458: ConvergenceWarning: lbfgs failed to converge (status=1):\n",
      "STOP: TOTAL NO. of ITERATIONS REACHED LIMIT.\n",
      "\n",
      "Increase the number of iterations (max_iter) or scale the data as shown in:\n",
      "    https://scikit-learn.org/stable/modules/preprocessing.html\n",
      "Please also refer to the documentation for alternative solver options:\n",
      "    https://scikit-learn.org/stable/modules/linear_model.html#logistic-regression\n",
      "  n_iter_i = _check_optimize_result(\n",
      "C:\\Users\\mouna\\anaconda3\\lib\\site-packages\\sklearn\\linear_model\\_logistic.py:458: ConvergenceWarning: lbfgs failed to converge (status=1):\n",
      "STOP: TOTAL NO. of ITERATIONS REACHED LIMIT.\n",
      "\n",
      "Increase the number of iterations (max_iter) or scale the data as shown in:\n",
      "    https://scikit-learn.org/stable/modules/preprocessing.html\n",
      "Please also refer to the documentation for alternative solver options:\n",
      "    https://scikit-learn.org/stable/modules/linear_model.html#logistic-regression\n",
      "  n_iter_i = _check_optimize_result(\n",
      "C:\\Users\\mouna\\anaconda3\\lib\\site-packages\\sklearn\\linear_model\\_logistic.py:458: ConvergenceWarning: lbfgs failed to converge (status=1):\n",
      "STOP: TOTAL NO. of ITERATIONS REACHED LIMIT.\n",
      "\n",
      "Increase the number of iterations (max_iter) or scale the data as shown in:\n",
      "    https://scikit-learn.org/stable/modules/preprocessing.html\n",
      "Please also refer to the documentation for alternative solver options:\n",
      "    https://scikit-learn.org/stable/modules/linear_model.html#logistic-regression\n",
      "  n_iter_i = _check_optimize_result(\n",
      "C:\\Users\\mouna\\anaconda3\\lib\\site-packages\\sklearn\\linear_model\\_logistic.py:458: ConvergenceWarning: lbfgs failed to converge (status=1):\n",
      "STOP: TOTAL NO. of ITERATIONS REACHED LIMIT.\n",
      "\n",
      "Increase the number of iterations (max_iter) or scale the data as shown in:\n",
      "    https://scikit-learn.org/stable/modules/preprocessing.html\n",
      "Please also refer to the documentation for alternative solver options:\n",
      "    https://scikit-learn.org/stable/modules/linear_model.html#logistic-regression\n",
      "  n_iter_i = _check_optimize_result(\n"
     ]
    },
    {
     "name": "stdout",
     "output_type": "stream",
     "text": [
      "[0.64401982 0.55       0.64129669 0.58947368 0.58533145]\n"
     ]
    },
    {
     "name": "stderr",
     "output_type": "stream",
     "text": [
      "C:\\Users\\mouna\\anaconda3\\lib\\site-packages\\sklearn\\linear_model\\_logistic.py:458: ConvergenceWarning: lbfgs failed to converge (status=1):\n",
      "STOP: TOTAL NO. of ITERATIONS REACHED LIMIT.\n",
      "\n",
      "Increase the number of iterations (max_iter) or scale the data as shown in:\n",
      "    https://scikit-learn.org/stable/modules/preprocessing.html\n",
      "Please also refer to the documentation for alternative solver options:\n",
      "    https://scikit-learn.org/stable/modules/linear_model.html#logistic-regression\n",
      "  n_iter_i = _check_optimize_result(\n"
     ]
    }
   ],
   "source": [
    "clf = LogisticRegression()\n",
    "pipe = make_pipeline(MinMaxScaler(), clf)\n",
    "it = StratifiedKFold(n_splits=5, random_state=100, shuffle=True)\n",
    "fthree_scorer = make_scorer(fbeta_score, beta=3)\n",
    "cv_results = cv(clf, X_train_p, y_train, cv=it, scoring = fthree_scorer)\n",
    "print(cv_results)"
   ]
  },
  {
   "cell_type": "code",
   "execution_count": 50,
   "id": "4d5113df",
   "metadata": {},
   "outputs": [],
   "source": [
    "scores_MinMaxScaler.append(np.mean([0.64401982, 0.55,       0.64129669, 0.58947368, 0.58533145]))"
   ]
  },
  {
   "cell_type": "code",
   "execution_count": null,
   "id": "2690a273",
   "metadata": {},
   "outputs": [],
   "source": []
  },
  {
   "cell_type": "code",
   "execution_count": null,
   "id": "9c5bfbfe",
   "metadata": {},
   "outputs": [],
   "source": []
  },
  {
   "cell_type": "code",
   "execution_count": 43,
   "id": "64e2510b",
   "metadata": {},
   "outputs": [
    {
     "name": "stderr",
     "output_type": "stream",
     "text": [
      "C:\\Users\\mouna\\anaconda3\\lib\\site-packages\\sklearn\\svm\\_base.py:1244: ConvergenceWarning: Liblinear failed to converge, increase the number of iterations.\n",
      "  warnings.warn(\n",
      "C:\\Users\\mouna\\anaconda3\\lib\\site-packages\\sklearn\\svm\\_base.py:1244: ConvergenceWarning: Liblinear failed to converge, increase the number of iterations.\n",
      "  warnings.warn(\n",
      "C:\\Users\\mouna\\anaconda3\\lib\\site-packages\\sklearn\\svm\\_base.py:1244: ConvergenceWarning: Liblinear failed to converge, increase the number of iterations.\n",
      "  warnings.warn(\n",
      "C:\\Users\\mouna\\anaconda3\\lib\\site-packages\\sklearn\\svm\\_base.py:1244: ConvergenceWarning: Liblinear failed to converge, increase the number of iterations.\n",
      "  warnings.warn(\n"
     ]
    },
    {
     "name": "stdout",
     "output_type": "stream",
     "text": [
      "[0.28715561 0.42172981 0.26765799 0.5444521  0.41578576]\n"
     ]
    },
    {
     "name": "stderr",
     "output_type": "stream",
     "text": [
      "C:\\Users\\mouna\\anaconda3\\lib\\site-packages\\sklearn\\svm\\_base.py:1244: ConvergenceWarning: Liblinear failed to converge, increase the number of iterations.\n",
      "  warnings.warn(\n"
     ]
    }
   ],
   "source": [
    "clf = linSVC()\n",
    "pipe = make_pipeline(MinMaxScaler(), clf)\n",
    "it = StratifiedKFold(n_splits=5, random_state=100, shuffle=True)\n",
    "fthree_scorer = make_scorer(fbeta_score, beta=3)\n",
    "cv_results = cv(clf, X_train_p, y_train, cv=it, scoring = fthree_scorer)\n",
    "print(cv_results)"
   ]
  },
  {
   "cell_type": "code",
   "execution_count": 51,
   "id": "32b2b7d2",
   "metadata": {},
   "outputs": [],
   "source": [
    "scores_MinMaxScaler.append(np.mean([0.28715561, 0.42172981, 0.26765799, 0.5444521,  0.41578576]))"
   ]
  },
  {
   "cell_type": "code",
   "execution_count": 56,
   "id": "5e2d3d90",
   "metadata": {},
   "outputs": [
    {
     "name": "stdout",
     "output_type": "stream",
     "text": [
      "[0.76148925, 0.678672968, 0.602024328, 0.464579904]\n",
      "[0.76148925, 0.676197088, 0.602024328, 0.484894536]\n",
      "[0.76148925, 0.6821398719999999, 0.602024328, 0.387356254]\n"
     ]
    }
   ],
   "source": [
    "print(scores_NoScaler)\n",
    "print(scores_StandardScaler)\n",
    "print(scores_MinMaxScaler)"
   ]
  },
  {
   "cell_type": "code",
   "execution_count": null,
   "id": "44c3ee3b",
   "metadata": {},
   "outputs": [],
   "source": []
  },
  {
   "cell_type": "code",
   "execution_count": null,
   "id": "366fdb0e",
   "metadata": {},
   "outputs": [],
   "source": []
  },
  {
   "cell_type": "code",
   "execution_count": null,
   "id": "d5ae45b2",
   "metadata": {},
   "outputs": [],
   "source": []
  },
  {
   "cell_type": "code",
   "execution_count": 54,
   "id": "95253b2e",
   "metadata": {},
   "outputs": [
    {
     "data": {
      "image/png": "[encoded data removed]",
      "text/plain": [
       "<Figure size 432x288 with 1 Axes>"
      ]
     },
     "metadata": {
      "needs_background": "light"
     },
     "output_type": "display_data"
    }
   ],
   "source": [
    "df = pd.DataFrame({'No Scaling': scores_NoScaler,\n",
    "                   'StandardScaler': scores_StandardScaler,\n",
    "                     'MinMaxScaler': scores_MinMaxScaler}, index = ['GNB', 'DTC', 'logreg', 'linSVC'])\n",
    "ax = df.plot.bar(rot=0)"
   ]
  },
  {
   "cell_type": "code",
   "execution_count": null,
   "id": "65c8b934",
   "metadata": {},
   "outputs": [],
   "source": []
  }
 ],
 "metadata": {
  "kernelspec": {
   "display_name": "Python 3",
   "language": "python",
   "name": "python3"
  },
  "language_info": {
   "codemirror_mode": {
    "name": "ipython",
    "version": 3
   },
   "file_extension": ".py",
   "mimetype": "text/x-python",
   "name": "python",
   "nbconvert_exporter": "python",
   "pygments_lexer": "ipython3",
   "version": "3.8.8"
  }
 },
 "nbformat": 4,
 "nbformat_minor": 5
}
