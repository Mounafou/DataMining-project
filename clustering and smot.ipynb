{
 "cells": [
  {
   "cell_type": "code",
   "execution_count": 1,
   "id": "29a2c0b0",
   "metadata": {},
   "outputs": [],
   "source": [
    "from sklearn.naive_bayes import GaussianNB\n",
    "from sklearn.metrics import accuracy_score as acc\n",
    "from sklearn.metrics import roc_auc_score as auc\n",
    "#from sklearn.metrics import plot_confusion_matrix as pcm\n",
    "#from sklearn.metrics import plot_precision_recall_curve as ppc\n",
    "#from sklearn.metrics import plot_roc_curve as prc\n",
    "from sklearn.tree import DecisionTreeClassifier as DTC\n",
    "from sklearn.neighbors import KNeighborsClassifier as KNC\n",
    "from sklearn.model_selection import cross_val_score as cv\n",
    "from sklearn.svm import LinearSVC as linSVC\n",
    "from sklearn.model_selection import train_test_split\n",
    "from sklearn.metrics import accuracy_score\n",
    "from sklearn.metrics import f1_score, make_scorer\n",
    "from sklearn.metrics import fbeta_score\n",
    "from sklearn.model_selection import StratifiedKFold\n",
    "import pandas as pd\n",
    "from matplotlib import pyplot as plt  \n",
    "import numpy as np\n",
    "from sklearn.preprocessing import Normalizer as norm\n",
    "from sklearn.datasets import make_classification\n",
    "from sklearn.linear_model import LogisticRegression\n",
    "from sklearn.model_selection import train_test_split\n",
    "from sklearn.pipeline import make_pipeline\n",
    "from sklearn.preprocessing import StandardScaler\n",
    "from sklearn import svm\n",
    "from sklearn.utils.class_weight import compute_class_weight\n",
    "from sklearn.cluster import KMeans\n",
    "from sklearn.preprocessing import RobustScaler\n",
    "from sklearn.pipeline import make_pipeline\n",
    "from sklearn.preprocessing import MinMaxScaler\n",
    "from sklearn.svm import LinearSVC\n",
    "from sklearn.feature_selection import SelectKBest, f_classif, chi2\n",
    "from sklearn.cluster import MeanShift\n",
    "from sklearn.neural_network import MLPClassifier"
   ]
  },
  {
   "cell_type": "code",
   "execution_count": null,
   "id": "38d6d204",
   "metadata": {},
   "outputs": [],
   "source": []
  },
  {
   "cell_type": "code",
   "execution_count": 2,
   "id": "d9ad6ad5",
   "metadata": {},
   "outputs": [],
   "source": [
    "#loading data\n",
    "X_train = pd.read_csv('X_train.csv')\n",
    "y_train = pd.read_csv('y_train.csv')\n",
    "y_train = y_train['Expected']\n",
    "y_test = pd.read_csv('y_test_pred_dectree_md2.csv')\n",
    "X_test = pd.read_csv('X_test.csv')\n",
    "y_test = y_test['Predicted']\n",
    "df = X_train"
   ]
  },
  {
   "cell_type": "code",
   "execution_count": null,
   "id": "cc1313cd",
   "metadata": {},
   "outputs": [],
   "source": []
  },
  {
   "cell_type": "code",
   "execution_count": 3,
   "id": "42149b91",
   "metadata": {},
   "outputs": [],
   "source": [
    "def prep_func(df):\n",
    "    df_noId = df.drop(['Id'], axis=1)\n",
    "    sparse_attributes = ['ab_000', 'bm_000', 'bn_000', 'bo_000', 'bp_000', 'bq_000', 'br_000', 'cr_000']\n",
    "    histo_features = ['ag_000', 'ag_001', 'ag_002', 'ag_003', 'ag_004', 'ag_005', 'ag_006', 'ag_007', 'ag_008', 'ag_009', 'ay_000', 'ay_001', 'ay_002', 'ay_003', 'ay_004', 'ay_005', 'ay_006', 'ay_007', 'ay_008', 'ay_009', 'az_000', 'az_001', 'az_002', 'az_003', 'az_004', 'az_005', 'az_006', 'az_007', 'az_008', 'az_009', 'ba_000', 'ba_001', 'ba_002', 'ba_003', 'ba_004', 'ba_005', 'ba_006', 'ba_007', 'ba_008', 'ba_009', 'cn_000', 'cn_001', 'cn_002', 'cn_003', 'cn_004', 'cn_005', 'cn_006', 'cn_007', 'cn_008', 'cn_009', 'cs_000', 'cs_001', 'cs_002', 'cs_003', 'cs_004', 'cs_005', 'cs_006', 'cs_007', 'cs_008', 'cs_009', 'ee_000', 'ee_001', 'ee_002', 'ee_003', 'ee_004', 'ee_005', 'ee_006', 'ee_007', 'ee_008', 'ee_009']\n",
    "    histo_dic = {'histo_ag':['ag_000','ag_001', 'ag_002', 'ag_003', 'ag_004', 'ag_005', 'ag_006', 'ag_007', 'ag_008', 'ag_009'], 'histo_ay':['ay_000', 'ay_001', 'ay_002', 'ay_003', 'ay_004', 'ay_005', 'ay_006', 'ay_007', 'ay_008', 'ay_009'], 'histo_az':['az_000','az_001', 'az_002', 'az_003', 'az_004', 'az_005', 'az_006', 'az_007', 'az_008', 'az_009'],'histo_ba':['ba_000','ba_001', 'ba_002', 'ba_003', 'ba_004', 'ba_005', 'ba_006', 'ba_007', 'ba_008', 'ba_009'],'histo_cn':['cn_000','cn_001', 'cn_002', 'cn_003', 'cn_004', 'cn_005', 'cn_006', 'cn_007', 'cn_008', 'cn_009'],'histo_cs' :['cs_000','cs_001', 'cs_002', 'cs_003', 'cs_004', 'cs_005', 'cs_006', 'cs_007', 'cs_008', 'cs_009'],'histo_ee': ['ee_000','ee_001', 'ee_002', 'ee_003', 'ee_004', 'ee_005', 'ee_006', 'ee_007', 'ee_008', 'ee_009']}\n",
    "    \n",
    "    df_lessAtt = df_noId.drop(sparse_attributes, axis=1)\n",
    "    new_atts_ordinal=[]\n",
    "    \n",
    "    for i in histo_dic:  \n",
    "        #att1=df[histo_dic[i]].max(axis=1)\n",
    "        att2=df[histo_dic[i]].idxmax(axis=\"columns\")\n",
    "\n",
    "        #name1 = i + '_val'\n",
    "        name2 = i + '_mode'\n",
    "        #se1 = pd.Series(att1)\n",
    "        se2 = pd.Series(att2)\n",
    "        #df_lessAtt[name1] = se1.values\n",
    "        df_lessAtt[name2] = se2.values\n",
    "        new_atts_ordinal.append(name2)\n",
    "    \n",
    "    df_lessAtt[new_atts_ordinal] = df_lessAtt[new_atts_ordinal].fillna('000')\n",
    "    \n",
    "    for i in new_atts_ordinal:\n",
    "        ss=[]\n",
    "        for j in range(len(df_lessAtt)):\n",
    "            s=df_lessAtt[i].loc[j][-1]\n",
    "            ss.append(s)\n",
    "        df_lessAtt[i]=ss\n",
    "    \n",
    "    #df_noHisto = df_lessAtt.drop(histo_features, axis=1)\n",
    "    \n",
    "    df_imp1=df_lessAtt.fillna(df_lessAtt.iloc[:,0:92].mean())\n",
    "    df_imp2 = df_imp1.fillna(0)\n",
    "    df_f = df_imp2\n",
    "    return df_f"
   ]
  },
  {
   "cell_type": "code",
   "execution_count": null,
   "id": "17b73a2f",
   "metadata": {},
   "outputs": [],
   "source": []
  },
  {
   "cell_type": "code",
   "execution_count": 4,
   "id": "0dbac5f8",
   "metadata": {},
   "outputs": [],
   "source": [
    "X_train_p = prep_func(X_train)\n",
    "X_test_p = prep_func(X_test)\n",
    "X_trainS, X_testS, y_trainS, y_testS = train_test_split(X_train_p, y_train, test_size=0.33, random_state=42)"
   ]
  },
  {
   "cell_type": "code",
   "execution_count": null,
   "id": "6056cc68",
   "metadata": {},
   "outputs": [],
   "source": []
  },
  {
   "cell_type": "code",
   "execution_count": 6,
   "id": "c18fdf67",
   "metadata": {
    "scrolled": true
   },
   "outputs": [
    {
     "name": "stderr",
     "output_type": "stream",
     "text": [
      "C:\\Users\\mouna\\anaconda3\\lib\\site-packages\\sklearn\\cluster\\_kmeans.py:870: FutureWarning: The default value of `n_init` will change from 10 to 'auto' in 1.4. Set the value of `n_init` explicitly to suppress the warning\n",
      "  warnings.warn(\n",
      "C:\\Users\\mouna\\anaconda3\\lib\\site-packages\\sklearn\\cluster\\_kmeans.py:870: FutureWarning: The default value of `n_init` will change from 10 to 'auto' in 1.4. Set the value of `n_init` explicitly to suppress the warning\n",
      "  warnings.warn(\n"
     ]
    }
   ],
   "source": [
    "# clustering the data\n",
    "from sklearn.cluster import KMeans\n",
    "clustering = KMeans().fit(X_train_p)\n",
    "test_clustering = KMeans().fit(X_train_p).predict(X_test_p)"
   ]
  },
  {
   "cell_type": "code",
   "execution_count": null,
   "id": "a82884bc",
   "metadata": {},
   "outputs": [],
   "source": []
  },
  {
   "cell_type": "code",
   "execution_count": 7,
   "id": "9062bc58",
   "metadata": {},
   "outputs": [],
   "source": [
    "X_train_p_clustering = X_train_p.assign(clust = clustering.labels_)\n",
    "X_test_p_clustering = X_test_p.assign(clust = test_clustering)\n",
    "X_trainCS, X_testCS, y_trainCS, y_testCS = train_test_split(X_train_p_clustering, y_train, test_size=0.33, random_state=42)"
   ]
  },
  {
   "cell_type": "code",
   "execution_count": null,
   "id": "dddc8b26",
   "metadata": {},
   "outputs": [],
   "source": []
  },
  {
   "cell_type": "code",
   "execution_count": 8,
   "id": "f32e0745",
   "metadata": {},
   "outputs": [
    {
     "data": {
      "text/plain": [
       "<AxesSubplot:title={'center':'Count (target)'}>"
      ]
     },
     "execution_count": 8,
     "metadata": {},
     "output_type": "execute_result"
    },
    {
     "data": {
      "image/png": "[encoded data removed]",
      "text/plain": [
       "<Figure size 432x288 with 1 Axes>"
      ]
     },
     "metadata": {
      "needs_background": "light"
     },
     "output_type": "display_data"
    }
   ],
   "source": [
    "#clusters of class 0\n",
    "X_train_p_clustering['clust'][y_train == 0].value_counts().plot(kind='bar', title='clusters of class 0')"
   ]
  },
  {
   "cell_type": "code",
   "execution_count": null,
   "id": "5b991279",
   "metadata": {},
   "outputs": [],
   "source": []
  },
  {
   "cell_type": "code",
   "execution_count": 9,
   "id": "6eed8a4a",
   "metadata": {},
   "outputs": [
    {
     "data": {
      "text/plain": [
       "<AxesSubplot:title={'center':'Count (target)'}>"
      ]
     },
     "execution_count": 9,
     "metadata": {},
     "output_type": "execute_result"
    },
    {
     "data": {
      "image/png": "[encoded data removed]",
      "text/plain": [
       "<Figure size 432x288 with 1 Axes>"
      ]
     },
     "metadata": {
      "needs_background": "light"
     },
     "output_type": "display_data"
    }
   ],
   "source": [
    "#clusters of class 1\n",
    "X_train_p_clustering['clust'][y_train == 1].value_counts().plot(kind='bar', title='clusters of class 1')"
   ]
  },
  {
   "cell_type": "code",
   "execution_count": null,
   "id": "32b5521f",
   "metadata": {},
   "outputs": [],
   "source": []
  },
  {
   "cell_type": "code",
   "execution_count": 10,
   "id": "c12aca46",
   "metadata": {},
   "outputs": [
    {
     "data": {
      "image/png": "[encoded data removed]",
      "text/plain": [
       "<Figure size 432x288 with 1 Axes>"
      ]
     },
     "metadata": {
      "needs_background": "light"
     },
     "output_type": "display_data"
    }
   ],
   "source": [
    "#distribution of classes in clusters\n",
    "df = pd.DataFrame({'class 0': np.log(X_train_p_clustering['clust'][y_train == 0].value_counts()),\n",
    "                   'class 1': np.log(X_train_p_clustering['clust'][y_train == 1].value_counts())})\n",
    "ax = df.plot.bar(rot=0)"
   ]
  },
  {
   "cell_type": "code",
   "execution_count": null,
   "id": "44b3d7fb",
   "metadata": {},
   "outputs": [],
   "source": []
  },
  {
   "cell_type": "code",
   "execution_count": 41,
   "id": "95155ab2",
   "metadata": {},
   "outputs": [
    {
     "data": {
      "image/png": "[encoded data removed]",
      "text/plain": [
       "<Figure size 4320x2160 with 1 Axes>"
      ]
     },
     "metadata": {
      "needs_background": "light"
     },
     "output_type": "display_data"
    }
   ],
   "source": [
    "# importance of the cluster feature according to chi2 (not important)\n",
    "from sklearn.feature_selection import SelectKBest, f_classif, chi2\n",
    "#Feature Selection\n",
    "scores = chi2(X_train_p_clustering, y_train)[0]\n",
    "#X_indices = np.arange(X.shape[-1])\n",
    "fig= plt.figure(figsize=(60,30))\n",
    "#plt.figure(1)\n",
    "plt.clf()\n",
    "plt.bar(X_train_p_clustering.columns, scores, width=0.5)\n",
    "plt.title(\"Feature univariate score\")\n",
    "plt.xlabel(\"Feature number\")\n",
    "plt.ylabel(\"Chi2 value\")\n",
    "plt.show()"
   ]
  },
  {
   "cell_type": "code",
   "execution_count": null,
   "id": "9fa5b76d",
   "metadata": {},
   "outputs": [],
   "source": []
  },
  {
   "cell_type": "code",
   "execution_count": null,
   "id": "c1ebdc3e",
   "metadata": {},
   "outputs": [],
   "source": []
  },
  {
   "cell_type": "code",
   "execution_count": 42,
   "id": "0ac2af2a",
   "metadata": {},
   "outputs": [
    {
     "name": "stderr",
     "output_type": "stream",
     "text": [
      "C:\\Users\\mouna\\anaconda3\\lib\\site-packages\\sklearn\\feature_selection\\_univariate_selection.py:112: UserWarning: Features [82] are constant.\n",
      "  warnings.warn(\"Features %s are constant.\" % constant_features_idx, UserWarning)\n",
      "C:\\Users\\mouna\\anaconda3\\lib\\site-packages\\sklearn\\feature_selection\\_univariate_selection.py:113: RuntimeWarning: invalid value encountered in true_divide\n",
      "  f = msb / msw\n"
     ]
    },
    {
     "data": {
      "image/png": "[encoded data removed]",
      "text/plain": [
       "<Figure size 4320x2160 with 1 Axes>"
      ]
     },
     "metadata": {
      "needs_background": "light"
     },
     "output_type": "display_data"
    }
   ],
   "source": [
    "# importance of the cluster feature according to f_classif (a bit)\n",
    "from sklearn.feature_selection import SelectKBest, f_classif, chi2\n",
    "#Feature Selection\n",
    "scores = f_classif(X_train_p_clustering, y_train)[0]\n",
    "#X_indices = np.arange(X.shape[-1])\n",
    "fig= plt.figure(figsize=(60,30))\n",
    "#plt.figure(1)\n",
    "plt.clf()\n",
    "plt.bar(X_train_p_clustering.columns, scores, width=0.5)\n",
    "plt.title(\"Feature univariate score\")\n",
    "plt.xlabel(\"Feature number\")\n",
    "plt.ylabel(\"Chi2 value\")\n",
    "plt.show()"
   ]
  },
  {
   "cell_type": "code",
   "execution_count": null,
   "id": "6764a0dc",
   "metadata": {},
   "outputs": [],
   "source": []
  },
  {
   "cell_type": "code",
   "execution_count": null,
   "id": "65bedf87",
   "metadata": {},
   "outputs": [],
   "source": []
  },
  {
   "cell_type": "code",
   "execution_count": 17,
   "id": "57f96732",
   "metadata": {},
   "outputs": [
    {
     "name": "stderr",
     "output_type": "stream",
     "text": [
      "C:\\Users\\mouna\\anaconda3\\lib\\site-packages\\sklearn\\cluster\\_kmeans.py:870: FutureWarning: The default value of `n_init` will change from 3 to 'auto' in 1.4. Set the value of `n_init` explicitly to suppress the warning\n",
      "  warnings.warn(\n",
      "C:\\Users\\mouna\\anaconda3\\lib\\site-packages\\sklearn\\cluster\\_kmeans.py:1902: UserWarning: MiniBatchKMeans is known to have a memory leak on Windows with MKL, when there are less chunks than available threads. You can prevent it by setting batch_size >= 2048 or by setting the environment variable OMP_NUM_THREADS=4\n",
      "  warnings.warn(\n"
     ]
    }
   ],
   "source": [
    "#clusterCentroid transformation of datasets\n",
    "\n",
    "from imblearn.under_sampling import ClusterCentroids\n",
    "from sklearn.cluster import MiniBatchKMeans\n",
    "\n",
    "cc = ClusterCentroids(estimator=MiniBatchKMeans(), random_state=42)\n",
    "X_cc, y_cc = cc.fit_resample(X_train_p, y_train)"
   ]
  },
  {
   "cell_type": "code",
   "execution_count": null,
   "id": "03c9e8c0",
   "metadata": {},
   "outputs": [],
   "source": []
  },
  {
   "cell_type": "code",
   "execution_count": 18,
   "id": "8dde9967",
   "metadata": {},
   "outputs": [
    {
     "name": "stderr",
     "output_type": "stream",
     "text": [
      "C:\\Users\\mouna\\anaconda3\\lib\\site-packages\\sklearn\\cluster\\_kmeans.py:870: FutureWarning: The default value of `n_init` will change from 3 to 'auto' in 1.4. Set the value of `n_init` explicitly to suppress the warning\n",
      "  warnings.warn(\n",
      "C:\\Users\\mouna\\anaconda3\\lib\\site-packages\\sklearn\\cluster\\_kmeans.py:1902: UserWarning: MiniBatchKMeans is known to have a memory leak on Windows with MKL, when there are less chunks than available threads. You can prevent it by setting batch_size >= 2048 or by setting the environment variable OMP_NUM_THREADS=4\n",
      "  warnings.warn(\n"
     ]
    }
   ],
   "source": [
    "# transformed dataset split\n",
    "X_cc_S, y_cc_S = cc.fit_resample(X_trainS, y_trainS)"
   ]
  },
  {
   "cell_type": "code",
   "execution_count": null,
   "id": "16031ea8",
   "metadata": {},
   "outputs": [],
   "source": []
  },
  {
   "cell_type": "code",
   "execution_count": 19,
   "id": "33264abe",
   "metadata": {},
   "outputs": [
    {
     "name": "stdout",
     "output_type": "stream",
     "text": [
      "[0.86531752 0.89198606 0.87290503 0.91666667 0.85794655]\n"
     ]
    }
   ],
   "source": [
    "# test logreg, ClustersCentroids: CV -> over estimation\n",
    "clf = LogisticRegression(C= 0.01)\n",
    "pipe = make_pipeline(SelectKBest(chi2, k=100), StandardScaler(), clf)\n",
    "it = StratifiedKFold(n_splits=5, random_state=None, shuffle=False)\n",
    "fthree_scorer = make_scorer(fbeta_score, beta=3)\n",
    "cv_results = cv(pipe, X_cc, y_cc, cv=it, scoring = fthree_scorer)\n",
    "print(cv_results)"
   ]
  },
  {
   "cell_type": "code",
   "execution_count": 21,
   "id": "e63dde92",
   "metadata": {},
   "outputs": [
    {
     "name": "stdout",
     "output_type": "stream",
     "text": [
      "0.7673001075654357\n"
     ]
    }
   ],
   "source": [
    "# test logreg, ClustersCentroids: TTSplit -> good estimation\n",
    "clf = LogisticRegression(C= 0.01)\n",
    "pipe = make_pipeline(SelectKBest(chi2, k=100), StandardScaler(), clf)\n",
    "#pipe.fit(X_res_S, y_res_S)\n",
    "y_predS = pipe.fit(X_cc_S, y_cc_S).predict(X_testS)\n",
    "f_score = fbeta_score(y_testS, y_predS, beta = 3)\n",
    "print(f_score)"
   ]
  },
  {
   "cell_type": "code",
   "execution_count": 22,
   "id": "bc2c02f0",
   "metadata": {},
   "outputs": [
    {
     "name": "stdout",
     "output_type": "stream",
     "text": [
      "0.7275483137552103\n"
     ]
    }
   ],
   "source": [
    "# test linSVC, ClustersCentroids: TTSplit -> good estimation\n",
    "clf = linSVC(C=0.0001)\n",
    "pipe = make_pipeline(SelectKBest(chi2, k=100), StandardScaler(), clf)\n",
    "#pipe.fit(X_res_S, y_res_S)\n",
    "y_predS = pipe.fit(X_cc_S, y_cc_S).predict(X_testS)\n",
    "f_score = fbeta_score(y_testS, y_predS, beta = 3)\n",
    "print(f_score)"
   ]
  },
  {
   "cell_type": "code",
   "execution_count": null,
   "id": "b514092e",
   "metadata": {},
   "outputs": [],
   "source": []
  },
  {
   "cell_type": "code",
   "execution_count": 23,
   "id": "a87f6c78",
   "metadata": {},
   "outputs": [],
   "source": [
    "#applying SMOTE\n",
    "from imblearn.over_sampling import SMOTE\n",
    "sm = SMOTE(random_state=42)\n",
    "X_res, y_res = sm.fit_resample(X_train_p, y_train)"
   ]
  },
  {
   "cell_type": "code",
   "execution_count": null,
   "id": "c597c0f8",
   "metadata": {},
   "outputs": [],
   "source": []
  },
  {
   "cell_type": "code",
   "execution_count": 24,
   "id": "c1a8aa84",
   "metadata": {},
   "outputs": [
    {
     "name": "stdout",
     "output_type": "stream",
     "text": [
      "[0.90289389 0.9115912  0.90808559 0.90849471 0.9050321 ]\n"
     ]
    }
   ],
   "source": [
    "#test linSVC, SMOTE: CV -> over estimation\n",
    "clf = linSVC(C=0.0001)\n",
    "pipe = make_pipeline(SelectKBest(chi2, k=100), StandardScaler(), clf)\n",
    "it = StratifiedKFold(n_splits=5, random_state=None, shuffle=False)\n",
    "fthree_scorer = make_scorer(fbeta_score, beta=3)\n",
    "cv_results = cv(pipe, X_res, y_res, cv=it, scoring = fthree_scorer)\n",
    "print(cv_results)"
   ]
  },
  {
   "cell_type": "code",
   "execution_count": null,
   "id": "dc00ed09",
   "metadata": {},
   "outputs": [],
   "source": []
  },
  {
   "cell_type": "code",
   "execution_count": 26,
   "id": "798745e4",
   "metadata": {},
   "outputs": [],
   "source": [
    "#transformed DataSet splitting\n",
    "X_res_S, y_res_S = sm.fit_resample(X_trainS, y_trainS)"
   ]
  },
  {
   "cell_type": "code",
   "execution_count": null,
   "id": "f7aa6564",
   "metadata": {},
   "outputs": [],
   "source": []
  },
  {
   "cell_type": "code",
   "execution_count": 37,
   "id": "c7be34ec",
   "metadata": {},
   "outputs": [
    {
     "name": "stdout",
     "output_type": "stream",
     "text": [
      "0.8171641791044776\n"
     ]
    }
   ],
   "source": [
    "#test linSVC, SMOTE: CV -> good estimation\n",
    "clf = linSVC(C=0.0001)\n",
    "pipe = make_pipeline(SelectKBest(chi2, k=105), StandardScaler(), clf)\n",
    "y_predS = pipe.fit(X_res_S, y_res_S).predict(X_testS)\n",
    "f_score = fbeta_score(y_testS, y_predS, beta = 3)\n",
    "print(f_score)"
   ]
  },
  {
   "cell_type": "code",
   "execution_count": null,
   "id": "268c8855",
   "metadata": {},
   "outputs": [],
   "source": []
  },
  {
   "cell_type": "code",
   "execution_count": 38,
   "id": "efec7966",
   "metadata": {},
   "outputs": [
    {
     "name": "stdout",
     "output_type": "stream",
     "text": [
      "0.8289768483943243\n"
     ]
    }
   ],
   "source": [
    "#test Logreg, SMOTE: CV -> good estimation\n",
    "clf = LogisticRegression(C= 0.01)\n",
    "pipe = make_pipeline(SelectKBest(chi2, k=105), StandardScaler(), clf)\n",
    "y_predS = pipe.fit(X_res_S, y_res_S).predict(X_testS)\n",
    "f_score = fbeta_score(y_testS, y_predS, beta = 3)\n",
    "print(f_score)"
   ]
  },
  {
   "cell_type": "code",
   "execution_count": null,
   "id": "91e0d7a6",
   "metadata": {},
   "outputs": [],
   "source": []
  },
  {
   "cell_type": "code",
   "execution_count": null,
   "id": "2f66aff9",
   "metadata": {},
   "outputs": [],
   "source": [
    "#testing other classifiers"
   ]
  },
  {
   "cell_type": "code",
   "execution_count": null,
   "id": "d27039ad",
   "metadata": {},
   "outputs": [],
   "source": []
  },
  {
   "cell_type": "code",
   "execution_count": 34,
   "id": "66d051ce",
   "metadata": {},
   "outputs": [
    {
     "name": "stdout",
     "output_type": "stream",
     "text": [
      "0.8260704812428948\n"
     ]
    }
   ],
   "source": [
    "# good datasplit\n",
    "clf = linSVC(C= 0.001)\n",
    "pipe = make_pipeline(SelectKBest(chi2, k=105), StandardScaler(), clf)\n",
    "#pipe.fit(X_res_S, y_res_S)\n",
    "y_predS = pipe.fit(X_res_S, y_res_S).predict(X_testS)\n",
    "f_score = fbeta_score(y_testS, y_predS, beta = 3)\n",
    "print(f_score)"
   ]
  },
  {
   "cell_type": "code",
   "execution_count": null,
   "id": "804473c7",
   "metadata": {},
   "outputs": [],
   "source": []
  },
  {
   "cell_type": "code",
   "execution_count": null,
   "id": "9b665d4f",
   "metadata": {},
   "outputs": [],
   "source": []
  },
  {
   "cell_type": "code",
   "execution_count": null,
   "id": "906d234d",
   "metadata": {},
   "outputs": [],
   "source": []
  },
  {
   "cell_type": "code",
   "execution_count": 36,
   "id": "a25017ee",
   "metadata": {},
   "outputs": [],
   "source": [
    "y_pred = pipe.fit(X_res, y_res).predict(X_test_p)\n",
    "y_pred_sol = {}\n",
    "y_pred_sol['Id']=list(range(17100))\n",
    "y_pred_sol['Predicted']=list((y_pred))\n",
    "df = pd.DataFrame(y_pred_sol, columns = ['Id', 'Predicted'])\n",
    "df.to_csv('momo540.csv', index=False)"
   ]
  },
  {
   "cell_type": "code",
   "execution_count": null,
   "id": "2d1f39c7",
   "metadata": {},
   "outputs": [],
   "source": []
  },
  {
   "cell_type": "code",
   "execution_count": null,
   "id": "56a90eaf",
   "metadata": {},
   "outputs": [],
   "source": []
  },
  {
   "cell_type": "code",
   "execution_count": 19,
   "id": "86fad9c0",
   "metadata": {},
   "outputs": [
    {
     "name": "stdout",
     "output_type": "stream",
     "text": [
      "0.7716814159292035\n"
     ]
    }
   ],
   "source": [
    "clf = LogisticRegression(penalty='l2', dual=False, C=0.01, fit_intercept=True, intercept_scaling=1, random_state=None, solver='lbfgs', max_iter=100, multi_class='auto', verbose=0, warm_start=False, n_jobs=None, l1_ratio=None)\n",
    "pipe = make_pipeline(SelectKBest(chi2, k=105), MinMaxScaler(), clf)\n",
    "#pipe.fit(X_res_S, y_res_S)\n",
    "y_predS = pipe.fit(X_res_S, y_res_S).predict(X_testCS)\n",
    "f_score = fbeta_score(y_testCS, y_predS, beta = 3)\n",
    "print(f_score)"
   ]
  },
  {
   "cell_type": "code",
   "execution_count": null,
   "id": "b344b224",
   "metadata": {},
   "outputs": [],
   "source": []
  },
  {
   "cell_type": "code",
   "execution_count": 29,
   "id": "0a79a282",
   "metadata": {},
   "outputs": [
    {
     "name": "stdout",
     "output_type": "stream",
     "text": [
      "0.8302169035153328\n"
     ]
    }
   ],
   "source": [
    "# good datasplit\n",
    "clf = LogisticRegression(C= 0.01)\n",
    "pipe = make_pipeline(SelectKBest(chi2, k=109), StandardScaler(), clf)\n",
    "#pipe.fit(X_res_S, y_res_S)\n",
    "y_predS = pipe.fit(X_res_S, y_res_S).predict(X_testCS)\n",
    "f_score = fbeta_score(y_testCS, y_predS, beta = 3)\n",
    "print(f_score)"
   ]
  },
  {
   "cell_type": "code",
   "execution_count": null,
   "id": "aa76e5b8",
   "metadata": {},
   "outputs": [],
   "source": []
  },
  {
   "cell_type": "code",
   "execution_count": null,
   "id": "3bc104f4",
   "metadata": {},
   "outputs": [],
   "source": []
  },
  {
   "cell_type": "code",
   "execution_count": 35,
   "id": "29afe206",
   "metadata": {},
   "outputs": [
    {
     "name": "stderr",
     "output_type": "stream",
     "text": [
      "C:\\Users\\mouna\\anaconda3\\lib\\site-packages\\sklearn\\feature_selection\\_univariate_selection.py:112: UserWarning: Features [82] are constant.\n",
      "  warnings.warn(\"Features %s are constant.\" % constant_features_idx, UserWarning)\n",
      "C:\\Users\\mouna\\anaconda3\\lib\\site-packages\\sklearn\\feature_selection\\_univariate_selection.py:113: RuntimeWarning: invalid value encountered in true_divide\n",
      "  f = msb / msw\n"
     ]
    },
    {
     "name": "stdout",
     "output_type": "stream",
     "text": [
      "0.8205689277899344\n"
     ]
    }
   ],
   "source": [
    "clf= LogisticRegression(C= 0.01)\n",
    "pipe = make_pipeline(SelectKBest(f_classif, k=70), StandardScaler(), clf)\n",
    "y_predS = pipe.fit(X_res_S, y_res_S).predict(X_testCS)\n",
    "f_score = fbeta_score(y_testCS, y_predS, beta = 3)\n",
    "print(f_score)"
   ]
  },
  {
   "cell_type": "code",
   "execution_count": 36,
   "id": "c51a6397",
   "metadata": {},
   "outputs": [
    {
     "name": "stderr",
     "output_type": "stream",
     "text": [
      "C:\\Users\\mouna\\anaconda3\\lib\\site-packages\\sklearn\\feature_selection\\_univariate_selection.py:112: UserWarning: Features [82] are constant.\n",
      "  warnings.warn(\"Features %s are constant.\" % constant_features_idx, UserWarning)\n",
      "C:\\Users\\mouna\\anaconda3\\lib\\site-packages\\sklearn\\feature_selection\\_univariate_selection.py:113: RuntimeWarning: invalid value encountered in true_divide\n",
      "  f = msb / msw\n"
     ]
    }
   ],
   "source": [
    "y_pred = pipe.fit(X_res, y_res).predict(X_test_p)\n",
    "y_pred_sol = {}\n",
    "y_pred_sol['Id']=list(range(17100))\n",
    "y_pred_sol['Predicted']=list((y_pred))\n",
    "df = pd.DataFrame(y_pred_sol, columns = ['Id', 'Predicted'])\n",
    "df.to_csv('momo510.csv', index=False)"
   ]
  },
  {
   "cell_type": "code",
   "execution_count": null,
   "id": "2ac06650",
   "metadata": {},
   "outputs": [],
   "source": []
  },
  {
   "cell_type": "code",
   "execution_count": null,
   "id": "9a134342",
   "metadata": {},
   "outputs": [],
   "source": []
  },
  {
   "cell_type": "code",
   "execution_count": null,
   "id": "9a4ce09a",
   "metadata": {},
   "outputs": [],
   "source": []
  },
  {
   "cell_type": "code",
   "execution_count": null,
   "id": "31a316c2",
   "metadata": {},
   "outputs": [],
   "source": []
  },
  {
   "cell_type": "code",
   "execution_count": null,
   "id": "0ade35b4",
   "metadata": {},
   "outputs": [],
   "source": []
  },
  {
   "cell_type": "code",
   "execution_count": null,
   "id": "dee82d81",
   "metadata": {},
   "outputs": [],
   "source": []
  },
  {
   "cell_type": "code",
   "execution_count": 18,
   "id": "98764f5a",
   "metadata": {},
   "outputs": [
    {
     "name": "stderr",
     "output_type": "stream",
     "text": [
      "C:\\Users\\mouna\\anaconda3\\lib\\site-packages\\sklearn\\feature_selection\\_univariate_selection.py:112: UserWarning: Features [82] are constant.\n",
      "  warnings.warn(\"Features %s are constant.\" % constant_features_idx, UserWarning)\n",
      "C:\\Users\\mouna\\anaconda3\\lib\\site-packages\\sklearn\\feature_selection\\_univariate_selection.py:113: RuntimeWarning: invalid value encountered in true_divide\n",
      "  f = msb / msw\n"
     ]
    },
    {
     "name": "stdout",
     "output_type": "stream",
     "text": [
      "0.8144796380090498\n"
     ]
    },
    {
     "name": "stderr",
     "output_type": "stream",
     "text": [
      "C:\\Users\\mouna\\anaconda3\\lib\\site-packages\\sklearn\\svm\\_base.py:1244: ConvergenceWarning: Liblinear failed to converge, increase the number of iterations.\n",
      "  warnings.warn(\n"
     ]
    }
   ],
   "source": [
    "clf = linSVC(C= 0.01, tol = 0.000001)\n",
    "pipe = make_pipeline(SelectKBest(f_classif, k=80), StandardScaler(), clf)\n",
    "y_predS = pipe.fit(X_res_S, y_res_S).predict(X_testCS)\n",
    "f_score = fbeta_score(y_testCS, y_predS, beta = 3)\n",
    "print(f_score)"
   ]
  },
  {
   "cell_type": "code",
   "execution_count": null,
   "id": "c265d2cb",
   "metadata": {},
   "outputs": [],
   "source": []
  },
  {
   "cell_type": "code",
   "execution_count": 15,
   "id": "f89c81c7",
   "metadata": {},
   "outputs": [
    {
     "name": "stdout",
     "output_type": "stream",
     "text": [
      "0.7979120059656973\n"
     ]
    }
   ],
   "source": [
    "clf = linSVC(C= 0.0001)\n",
    "pipe = make_pipeline(SelectKBest(chi2, k=90), StandardScaler(), clf)\n",
    "y_predS = pipe.fit(X_res_S, y_res_S).predict(X_testCS)\n",
    "f_score = fbeta_score(y_testCS, y_predS, beta = 3)\n",
    "print(f_score)"
   ]
  },
  {
   "cell_type": "code",
   "execution_count": null,
   "id": "489c25b8",
   "metadata": {},
   "outputs": [],
   "source": []
  },
  {
   "cell_type": "code",
   "execution_count": 16,
   "id": "425d256a",
   "metadata": {},
   "outputs": [
    {
     "name": "stderr",
     "output_type": "stream",
     "text": [
      "C:\\Users\\mouna\\anaconda3\\lib\\site-packages\\sklearn\\svm\\_base.py:1244: ConvergenceWarning: Liblinear failed to converge, increase the number of iterations.\n",
      "  warnings.warn(\n"
     ]
    },
    {
     "name": "stdout",
     "output_type": "stream",
     "text": [
      "0.8197343453510438\n"
     ]
    }
   ],
   "source": [
    "clf = linSVC(C= 0.01, tol = 0.000001)\n",
    "pipe = make_pipeline( StandardScaler(), clf)\n",
    "y_predS = pipe.fit(X_res_S, y_res_S).predict(X_testCS)\n",
    "f_score = fbeta_score(y_testCS, y_predS, beta = 3)\n",
    "print(f_score)"
   ]
  },
  {
   "cell_type": "code",
   "execution_count": null,
   "id": "741865f1",
   "metadata": {},
   "outputs": [],
   "source": []
  },
  {
   "cell_type": "code",
   "execution_count": null,
   "id": "21f5d9cc",
   "metadata": {},
   "outputs": [],
   "source": []
  },
  {
   "cell_type": "code",
   "execution_count": 14,
   "id": "d1894c53",
   "metadata": {},
   "outputs": [
    {
     "name": "stdout",
     "output_type": "stream",
     "text": [
      "0.7109593294008073\n"
     ]
    }
   ],
   "source": [
    "from sklearn.ensemble import RandomForestClassifier\n",
    "#min_samples_split= 5,\n",
    "clf = RandomForestClassifier(random_state=0, max_depth= 10,  class_weight = {1:55})\n",
    "pipe = make_pipeline(StandardScaler(), clf)\n",
    "#pipe.fit(X_res_S, y_res_S)\n",
    "y_predS = pipe.fit(X_res_S, y_res_S).predict(X_testCS)\n",
    "f_score = fbeta_score(y_testCS, y_predS, beta = 3)\n",
    "print(f_score)"
   ]
  },
  {
   "cell_type": "code",
   "execution_count": null,
   "id": "37a3f30b",
   "metadata": {},
   "outputs": [],
   "source": []
  }
 ],
 "metadata": {
  "kernelspec": {
   "display_name": "Python 3",
   "language": "python",
   "name": "python3"
  },
  "language_info": {
   "codemirror_mode": {
    "name": "ipython",
    "version": 3
   },
   "file_extension": ".py",
   "mimetype": "text/x-python",
   "name": "python",
   "nbconvert_exporter": "python",
   "pygments_lexer": "ipython3",
   "version": "3.8.8"
  }
 },
 "nbformat": 4,
 "nbformat_minor": 5
}
