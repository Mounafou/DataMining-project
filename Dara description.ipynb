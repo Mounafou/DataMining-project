{
 "cells": [
  {
   "cell_type": "code",
   "execution_count": 1,
   "id": "fcf30ea0",
   "metadata": {},
   "outputs": [],
   "source": [
    "import pandas as pd\n",
    "from matplotlib import pyplot as plt  \n",
    "import numpy as np\n",
    "from sklearn.preprocessing import Normalizer as norm"
   ]
  },
  {
   "cell_type": "code",
   "execution_count": null,
   "id": "7f7cce2c",
   "metadata": {},
   "outputs": [],
   "source": []
  },
  {
   "cell_type": "code",
   "execution_count": null,
   "id": "18ebe416",
   "metadata": {},
   "outputs": [],
   "source": []
  },
  {
   "cell_type": "code",
   "execution_count": 72,
   "id": "973cb8e0",
   "metadata": {},
   "outputs": [],
   "source": [
    "df = pd.read_csv('X_train.csv')"
   ]
  },
  {
   "cell_type": "code",
   "execution_count": 74,
   "id": "7d156443",
   "metadata": {},
   "outputs": [
    {
     "data": {
      "text/html": [
       "<div>\n",
       "<style scoped>\n",
       "    .dataframe tbody tr th:only-of-type {\n",
       "        vertical-align: middle;\n",
       "    }\n",
       "\n",
       "    .dataframe tbody tr th {\n",
       "        vertical-align: top;\n",
       "    }\n",
       "\n",
       "    .dataframe thead th {\n",
       "        text-align: right;\n",
       "    }\n",
       "</style>\n",
       "<table border=\"1\" class=\"dataframe\">\n",
       "  <thead>\n",
       "    <tr style=\"text-align: right;\">\n",
       "      <th></th>\n",
       "      <th>Id</th>\n",
       "      <th>aa_000</th>\n",
       "      <th>ab_000</th>\n",
       "      <th>ac_000</th>\n",
       "      <th>ad_000</th>\n",
       "      <th>ae_000</th>\n",
       "      <th>af_000</th>\n",
       "      <th>ag_000</th>\n",
       "      <th>ag_001</th>\n",
       "      <th>ag_002</th>\n",
       "      <th>...</th>\n",
       "      <th>ee_002</th>\n",
       "      <th>ee_003</th>\n",
       "      <th>ee_004</th>\n",
       "      <th>ee_005</th>\n",
       "      <th>ee_006</th>\n",
       "      <th>ee_007</th>\n",
       "      <th>ee_008</th>\n",
       "      <th>ee_009</th>\n",
       "      <th>ef_000</th>\n",
       "      <th>eg_000</th>\n",
       "    </tr>\n",
       "  </thead>\n",
       "  <tbody>\n",
       "    <tr>\n",
       "      <th>0</th>\n",
       "      <td>0</td>\n",
       "      <td>21470</td>\n",
       "      <td>0.0</td>\n",
       "      <td>2.130706e+09</td>\n",
       "      <td>168.0</td>\n",
       "      <td>0.0</td>\n",
       "      <td>0.0</td>\n",
       "      <td>0.0</td>\n",
       "      <td>0.0</td>\n",
       "      <td>0.0</td>\n",
       "      <td>...</td>\n",
       "      <td>187028.0</td>\n",
       "      <td>109090.0</td>\n",
       "      <td>228040.0</td>\n",
       "      <td>89664.0</td>\n",
       "      <td>296964.0</td>\n",
       "      <td>78936.0</td>\n",
       "      <td>58.0</td>\n",
       "      <td>0.0</td>\n",
       "      <td>0.0</td>\n",
       "      <td>0.0</td>\n",
       "    </tr>\n",
       "    <tr>\n",
       "      <th>1</th>\n",
       "      <td>1</td>\n",
       "      <td>40856</td>\n",
       "      <td>NaN</td>\n",
       "      <td>5.540000e+02</td>\n",
       "      <td>0.0</td>\n",
       "      <td>0.0</td>\n",
       "      <td>0.0</td>\n",
       "      <td>0.0</td>\n",
       "      <td>0.0</td>\n",
       "      <td>0.0</td>\n",
       "      <td>...</td>\n",
       "      <td>526386.0</td>\n",
       "      <td>277000.0</td>\n",
       "      <td>612436.0</td>\n",
       "      <td>441664.0</td>\n",
       "      <td>84968.0</td>\n",
       "      <td>2204.0</td>\n",
       "      <td>78.0</td>\n",
       "      <td>0.0</td>\n",
       "      <td>0.0</td>\n",
       "      <td>0.0</td>\n",
       "    </tr>\n",
       "    <tr>\n",
       "      <th>2</th>\n",
       "      <td>2</td>\n",
       "      <td>28</td>\n",
       "      <td>NaN</td>\n",
       "      <td>2.130706e+09</td>\n",
       "      <td>20.0</td>\n",
       "      <td>0.0</td>\n",
       "      <td>0.0</td>\n",
       "      <td>0.0</td>\n",
       "      <td>0.0</td>\n",
       "      <td>0.0</td>\n",
       "      <td>...</td>\n",
       "      <td>406.0</td>\n",
       "      <td>80.0</td>\n",
       "      <td>78.0</td>\n",
       "      <td>40.0</td>\n",
       "      <td>0.0</td>\n",
       "      <td>0.0</td>\n",
       "      <td>0.0</td>\n",
       "      <td>0.0</td>\n",
       "      <td>0.0</td>\n",
       "      <td>0.0</td>\n",
       "    </tr>\n",
       "    <tr>\n",
       "      <th>3</th>\n",
       "      <td>3</td>\n",
       "      <td>38682</td>\n",
       "      <td>NaN</td>\n",
       "      <td>3.440000e+02</td>\n",
       "      <td>326.0</td>\n",
       "      <td>0.0</td>\n",
       "      <td>0.0</td>\n",
       "      <td>0.0</td>\n",
       "      <td>0.0</td>\n",
       "      <td>0.0</td>\n",
       "      <td>...</td>\n",
       "      <td>244622.0</td>\n",
       "      <td>116794.0</td>\n",
       "      <td>267896.0</td>\n",
       "      <td>307242.0</td>\n",
       "      <td>248998.0</td>\n",
       "      <td>164098.0</td>\n",
       "      <td>300820.0</td>\n",
       "      <td>11238.0</td>\n",
       "      <td>0.0</td>\n",
       "      <td>0.0</td>\n",
       "    </tr>\n",
       "    <tr>\n",
       "      <th>4</th>\n",
       "      <td>4</td>\n",
       "      <td>62218</td>\n",
       "      <td>NaN</td>\n",
       "      <td>0.000000e+00</td>\n",
       "      <td>NaN</td>\n",
       "      <td>0.0</td>\n",
       "      <td>0.0</td>\n",
       "      <td>0.0</td>\n",
       "      <td>0.0</td>\n",
       "      <td>0.0</td>\n",
       "      <td>...</td>\n",
       "      <td>499450.0</td>\n",
       "      <td>242448.0</td>\n",
       "      <td>458620.0</td>\n",
       "      <td>422742.0</td>\n",
       "      <td>390678.0</td>\n",
       "      <td>287052.0</td>\n",
       "      <td>427584.0</td>\n",
       "      <td>10146.0</td>\n",
       "      <td>0.0</td>\n",
       "      <td>0.0</td>\n",
       "    </tr>\n",
       "    <tr>\n",
       "      <th>...</th>\n",
       "      <td>...</td>\n",
       "      <td>...</td>\n",
       "      <td>...</td>\n",
       "      <td>...</td>\n",
       "      <td>...</td>\n",
       "      <td>...</td>\n",
       "      <td>...</td>\n",
       "      <td>...</td>\n",
       "      <td>...</td>\n",
       "      <td>...</td>\n",
       "      <td>...</td>\n",
       "      <td>...</td>\n",
       "      <td>...</td>\n",
       "      <td>...</td>\n",
       "      <td>...</td>\n",
       "      <td>...</td>\n",
       "      <td>...</td>\n",
       "      <td>...</td>\n",
       "      <td>...</td>\n",
       "      <td>...</td>\n",
       "      <td>...</td>\n",
       "    </tr>\n",
       "    <tr>\n",
       "      <th>39895</th>\n",
       "      <td>39895</td>\n",
       "      <td>27012</td>\n",
       "      <td>NaN</td>\n",
       "      <td>6.840000e+02</td>\n",
       "      <td>524.0</td>\n",
       "      <td>0.0</td>\n",
       "      <td>0.0</td>\n",
       "      <td>0.0</td>\n",
       "      <td>0.0</td>\n",
       "      <td>0.0</td>\n",
       "      <td>...</td>\n",
       "      <td>164630.0</td>\n",
       "      <td>71862.0</td>\n",
       "      <td>97742.0</td>\n",
       "      <td>77936.0</td>\n",
       "      <td>136596.0</td>\n",
       "      <td>598610.0</td>\n",
       "      <td>12034.0</td>\n",
       "      <td>180.0</td>\n",
       "      <td>0.0</td>\n",
       "      <td>0.0</td>\n",
       "    </tr>\n",
       "    <tr>\n",
       "      <th>39896</th>\n",
       "      <td>39896</td>\n",
       "      <td>1926</td>\n",
       "      <td>NaN</td>\n",
       "      <td>2.130706e+09</td>\n",
       "      <td>10.0</td>\n",
       "      <td>0.0</td>\n",
       "      <td>0.0</td>\n",
       "      <td>0.0</td>\n",
       "      <td>0.0</td>\n",
       "      <td>0.0</td>\n",
       "      <td>...</td>\n",
       "      <td>8194.0</td>\n",
       "      <td>4228.0</td>\n",
       "      <td>21584.0</td>\n",
       "      <td>54614.0</td>\n",
       "      <td>528.0</td>\n",
       "      <td>50.0</td>\n",
       "      <td>18.0</td>\n",
       "      <td>0.0</td>\n",
       "      <td>0.0</td>\n",
       "      <td>0.0</td>\n",
       "    </tr>\n",
       "    <tr>\n",
       "      <th>39897</th>\n",
       "      <td>39897</td>\n",
       "      <td>712</td>\n",
       "      <td>0.0</td>\n",
       "      <td>9.800000e+01</td>\n",
       "      <td>62.0</td>\n",
       "      <td>0.0</td>\n",
       "      <td>0.0</td>\n",
       "      <td>0.0</td>\n",
       "      <td>0.0</td>\n",
       "      <td>0.0</td>\n",
       "      <td>...</td>\n",
       "      <td>3400.0</td>\n",
       "      <td>964.0</td>\n",
       "      <td>2192.0</td>\n",
       "      <td>5428.0</td>\n",
       "      <td>6110.0</td>\n",
       "      <td>11382.0</td>\n",
       "      <td>0.0</td>\n",
       "      <td>0.0</td>\n",
       "      <td>0.0</td>\n",
       "      <td>0.0</td>\n",
       "    </tr>\n",
       "    <tr>\n",
       "      <th>39898</th>\n",
       "      <td>39898</td>\n",
       "      <td>61980</td>\n",
       "      <td>NaN</td>\n",
       "      <td>3.060000e+02</td>\n",
       "      <td>226.0</td>\n",
       "      <td>0.0</td>\n",
       "      <td>0.0</td>\n",
       "      <td>0.0</td>\n",
       "      <td>0.0</td>\n",
       "      <td>0.0</td>\n",
       "      <td>...</td>\n",
       "      <td>388914.0</td>\n",
       "      <td>192924.0</td>\n",
       "      <td>302652.0</td>\n",
       "      <td>278680.0</td>\n",
       "      <td>218578.0</td>\n",
       "      <td>224358.0</td>\n",
       "      <td>881382.0</td>\n",
       "      <td>90840.0</td>\n",
       "      <td>0.0</td>\n",
       "      <td>0.0</td>\n",
       "    </tr>\n",
       "    <tr>\n",
       "      <th>39899</th>\n",
       "      <td>39899</td>\n",
       "      <td>14</td>\n",
       "      <td>2.0</td>\n",
       "      <td>2.000000e+00</td>\n",
       "      <td>2.0</td>\n",
       "      <td>0.0</td>\n",
       "      <td>0.0</td>\n",
       "      <td>0.0</td>\n",
       "      <td>0.0</td>\n",
       "      <td>0.0</td>\n",
       "      <td>...</td>\n",
       "      <td>118.0</td>\n",
       "      <td>40.0</td>\n",
       "      <td>76.0</td>\n",
       "      <td>44.0</td>\n",
       "      <td>96.0</td>\n",
       "      <td>24.0</td>\n",
       "      <td>0.0</td>\n",
       "      <td>0.0</td>\n",
       "      <td>0.0</td>\n",
       "      <td>0.0</td>\n",
       "    </tr>\n",
       "  </tbody>\n",
       "</table>\n",
       "<p>39900 rows × 171 columns</p>\n",
       "</div>"
      ],
      "text/plain": [
       "          Id  aa_000  ab_000        ac_000  ad_000  ae_000  af_000  ag_000  \\\n",
       "0          0   21470     0.0  2.130706e+09   168.0     0.0     0.0     0.0   \n",
       "1          1   40856     NaN  5.540000e+02     0.0     0.0     0.0     0.0   \n",
       "2          2      28     NaN  2.130706e+09    20.0     0.0     0.0     0.0   \n",
       "3          3   38682     NaN  3.440000e+02   326.0     0.0     0.0     0.0   \n",
       "4          4   62218     NaN  0.000000e+00     NaN     0.0     0.0     0.0   \n",
       "...      ...     ...     ...           ...     ...     ...     ...     ...   \n",
       "39895  39895   27012     NaN  6.840000e+02   524.0     0.0     0.0     0.0   \n",
       "39896  39896    1926     NaN  2.130706e+09    10.0     0.0     0.0     0.0   \n",
       "39897  39897     712     0.0  9.800000e+01    62.0     0.0     0.0     0.0   \n",
       "39898  39898   61980     NaN  3.060000e+02   226.0     0.0     0.0     0.0   \n",
       "39899  39899      14     2.0  2.000000e+00     2.0     0.0     0.0     0.0   \n",
       "\n",
       "       ag_001  ag_002  ...    ee_002    ee_003    ee_004    ee_005    ee_006  \\\n",
       "0         0.0     0.0  ...  187028.0  109090.0  228040.0   89664.0  296964.0   \n",
       "1         0.0     0.0  ...  526386.0  277000.0  612436.0  441664.0   84968.0   \n",
       "2         0.0     0.0  ...     406.0      80.0      78.0      40.0       0.0   \n",
       "3         0.0     0.0  ...  244622.0  116794.0  267896.0  307242.0  248998.0   \n",
       "4         0.0     0.0  ...  499450.0  242448.0  458620.0  422742.0  390678.0   \n",
       "...       ...     ...  ...       ...       ...       ...       ...       ...   \n",
       "39895     0.0     0.0  ...  164630.0   71862.0   97742.0   77936.0  136596.0   \n",
       "39896     0.0     0.0  ...    8194.0    4228.0   21584.0   54614.0     528.0   \n",
       "39897     0.0     0.0  ...    3400.0     964.0    2192.0    5428.0    6110.0   \n",
       "39898     0.0     0.0  ...  388914.0  192924.0  302652.0  278680.0  218578.0   \n",
       "39899     0.0     0.0  ...     118.0      40.0      76.0      44.0      96.0   \n",
       "\n",
       "         ee_007    ee_008   ee_009  ef_000  eg_000  \n",
       "0       78936.0      58.0      0.0     0.0     0.0  \n",
       "1        2204.0      78.0      0.0     0.0     0.0  \n",
       "2           0.0       0.0      0.0     0.0     0.0  \n",
       "3      164098.0  300820.0  11238.0     0.0     0.0  \n",
       "4      287052.0  427584.0  10146.0     0.0     0.0  \n",
       "...         ...       ...      ...     ...     ...  \n",
       "39895  598610.0   12034.0    180.0     0.0     0.0  \n",
       "39896      50.0      18.0      0.0     0.0     0.0  \n",
       "39897   11382.0       0.0      0.0     0.0     0.0  \n",
       "39898  224358.0  881382.0  90840.0     0.0     0.0  \n",
       "39899      24.0       0.0      0.0     0.0     0.0  \n",
       "\n",
       "[39900 rows x 171 columns]"
      ]
     },
     "execution_count": 74,
     "metadata": {},
     "output_type": "execute_result"
    }
   ],
   "source": [
    "df"
   ]
  },
  {
   "cell_type": "code",
   "execution_count": null,
   "id": "0b958e66",
   "metadata": {},
   "outputs": [],
   "source": []
  },
  {
   "cell_type": "code",
   "execution_count": null,
   "id": "ce88937b",
   "metadata": {},
   "outputs": [],
   "source": []
  },
  {
   "cell_type": "code",
   "execution_count": null,
   "id": "dc433fe4",
   "metadata": {},
   "outputs": [],
   "source": []
  },
  {
   "cell_type": "code",
   "execution_count": 3,
   "id": "231bc626",
   "metadata": {
    "scrolled": true
   },
   "outputs": [
    {
     "data": {
      "text/html": [
       "<div>\n",
       "<style scoped>\n",
       "    .dataframe tbody tr th:only-of-type {\n",
       "        vertical-align: middle;\n",
       "    }\n",
       "\n",
       "    .dataframe tbody tr th {\n",
       "        vertical-align: top;\n",
       "    }\n",
       "\n",
       "    .dataframe thead th {\n",
       "        text-align: right;\n",
       "    }\n",
       "</style>\n",
       "<table border=\"1\" class=\"dataframe\">\n",
       "  <thead>\n",
       "    <tr style=\"text-align: right;\">\n",
       "      <th></th>\n",
       "      <th>Id</th>\n",
       "      <th>aa_000</th>\n",
       "      <th>ab_000</th>\n",
       "      <th>ac_000</th>\n",
       "      <th>ad_000</th>\n",
       "      <th>ae_000</th>\n",
       "      <th>af_000</th>\n",
       "      <th>ag_000</th>\n",
       "      <th>ag_001</th>\n",
       "      <th>ag_002</th>\n",
       "      <th>...</th>\n",
       "      <th>ee_002</th>\n",
       "      <th>ee_003</th>\n",
       "      <th>ee_004</th>\n",
       "      <th>ee_005</th>\n",
       "      <th>ee_006</th>\n",
       "      <th>ee_007</th>\n",
       "      <th>ee_008</th>\n",
       "      <th>ee_009</th>\n",
       "      <th>ef_000</th>\n",
       "      <th>eg_000</th>\n",
       "    </tr>\n",
       "  </thead>\n",
       "  <tbody>\n",
       "    <tr>\n",
       "      <th>count</th>\n",
       "      <td>39900.000000</td>\n",
       "      <td>3.990000e+04</td>\n",
       "      <td>9121.000000</td>\n",
       "      <td>3.765900e+04</td>\n",
       "      <td>2.993400e+04</td>\n",
       "      <td>38240.000000</td>\n",
       "      <td>38240.000000</td>\n",
       "      <td>3.943400e+04</td>\n",
       "      <td>3.943400e+04</td>\n",
       "      <td>3.943400e+04</td>\n",
       "      <td>...</td>\n",
       "      <td>3.943200e+04</td>\n",
       "      <td>3.943200e+04</td>\n",
       "      <td>3.943200e+04</td>\n",
       "      <td>3.943200e+04</td>\n",
       "      <td>3.943200e+04</td>\n",
       "      <td>3.943200e+04</td>\n",
       "      <td>3.943200e+04</td>\n",
       "      <td>3.943200e+04</td>\n",
       "      <td>38087.000000</td>\n",
       "      <td>38088.000000</td>\n",
       "    </tr>\n",
       "    <tr>\n",
       "      <th>mean</th>\n",
       "      <td>19949.500000</td>\n",
       "      <td>6.094339e+04</td>\n",
       "      <td>0.728210</td>\n",
       "      <td>3.536753e+08</td>\n",
       "      <td>2.872309e+05</td>\n",
       "      <td>6.427877</td>\n",
       "      <td>10.552354</td>\n",
       "      <td>2.017626e+02</td>\n",
       "      <td>1.096192e+03</td>\n",
       "      <td>9.547083e+03</td>\n",
       "      <td>...</td>\n",
       "      <td>4.486738e+05</td>\n",
       "      <td>2.129917e+05</td>\n",
       "      <td>4.489956e+05</td>\n",
       "      <td>4.013561e+05</td>\n",
       "      <td>3.390282e+05</td>\n",
       "      <td>3.439853e+05</td>\n",
       "      <td>1.375559e+05</td>\n",
       "      <td>8.265914e+03</td>\n",
       "      <td>0.074514</td>\n",
       "      <td>0.236137</td>\n",
       "    </tr>\n",
       "    <tr>\n",
       "      <th>std</th>\n",
       "      <td>11518.282207</td>\n",
       "      <td>2.598214e+05</td>\n",
       "      <td>3.107561</td>\n",
       "      <td>7.927850e+08</td>\n",
       "      <td>4.961607e+07</td>\n",
       "      <td>112.420166</td>\n",
       "      <td>177.143548</td>\n",
       "      <td>1.823295e+04</td>\n",
       "      <td>3.272456e+04</td>\n",
       "      <td>1.563888e+05</td>\n",
       "      <td>...</td>\n",
       "      <td>1.121988e+06</td>\n",
       "      <td>5.316487e+05</td>\n",
       "      <td>1.129791e+06</td>\n",
       "      <td>1.130969e+06</td>\n",
       "      <td>1.102586e+06</td>\n",
       "      <td>1.626701e+06</td>\n",
       "      <td>4.350107e+05</td>\n",
       "      <td>4.968480e+04</td>\n",
       "      <td>3.610742</td>\n",
       "      <td>12.155503</td>\n",
       "    </tr>\n",
       "    <tr>\n",
       "      <th>min</th>\n",
       "      <td>0.000000</td>\n",
       "      <td>0.000000e+00</td>\n",
       "      <td>0.000000</td>\n",
       "      <td>0.000000e+00</td>\n",
       "      <td>0.000000e+00</td>\n",
       "      <td>0.000000</td>\n",
       "      <td>0.000000</td>\n",
       "      <td>0.000000e+00</td>\n",
       "      <td>0.000000e+00</td>\n",
       "      <td>0.000000e+00</td>\n",
       "      <td>...</td>\n",
       "      <td>0.000000e+00</td>\n",
       "      <td>0.000000e+00</td>\n",
       "      <td>0.000000e+00</td>\n",
       "      <td>0.000000e+00</td>\n",
       "      <td>0.000000e+00</td>\n",
       "      <td>0.000000e+00</td>\n",
       "      <td>0.000000e+00</td>\n",
       "      <td>0.000000e+00</td>\n",
       "      <td>0.000000</td>\n",
       "      <td>0.000000</td>\n",
       "    </tr>\n",
       "    <tr>\n",
       "      <th>25%</th>\n",
       "      <td>9974.750000</td>\n",
       "      <td>8.680000e+02</td>\n",
       "      <td>0.000000</td>\n",
       "      <td>1.600000e+01</td>\n",
       "      <td>2.400000e+01</td>\n",
       "      <td>0.000000</td>\n",
       "      <td>0.000000</td>\n",
       "      <td>0.000000e+00</td>\n",
       "      <td>0.000000e+00</td>\n",
       "      <td>0.000000e+00</td>\n",
       "      <td>...</td>\n",
       "      <td>2.976000e+03</td>\n",
       "      <td>1.186000e+03</td>\n",
       "      <td>2.740000e+03</td>\n",
       "      <td>3.660000e+03</td>\n",
       "      <td>5.240000e+02</td>\n",
       "      <td>1.160000e+02</td>\n",
       "      <td>0.000000e+00</td>\n",
       "      <td>0.000000e+00</td>\n",
       "      <td>0.000000</td>\n",
       "      <td>0.000000</td>\n",
       "    </tr>\n",
       "    <tr>\n",
       "      <th>50%</th>\n",
       "      <td>19949.500000</td>\n",
       "      <td>3.082300e+04</td>\n",
       "      <td>0.000000</td>\n",
       "      <td>1.520000e+02</td>\n",
       "      <td>1.260000e+02</td>\n",
       "      <td>0.000000</td>\n",
       "      <td>0.000000</td>\n",
       "      <td>0.000000e+00</td>\n",
       "      <td>0.000000e+00</td>\n",
       "      <td>0.000000e+00</td>\n",
       "      <td>...</td>\n",
       "      <td>2.351960e+05</td>\n",
       "      <td>1.121640e+05</td>\n",
       "      <td>2.236870e+05</td>\n",
       "      <td>1.907450e+05</td>\n",
       "      <td>9.458700e+04</td>\n",
       "      <td>4.204100e+04</td>\n",
       "      <td>3.992000e+03</td>\n",
       "      <td>0.000000e+00</td>\n",
       "      <td>0.000000</td>\n",
       "      <td>0.000000</td>\n",
       "    </tr>\n",
       "    <tr>\n",
       "      <th>75%</th>\n",
       "      <td>29924.250000</td>\n",
       "      <td>4.889650e+04</td>\n",
       "      <td>0.000000</td>\n",
       "      <td>9.700000e+02</td>\n",
       "      <td>4.340000e+02</td>\n",
       "      <td>0.000000</td>\n",
       "      <td>0.000000</td>\n",
       "      <td>0.000000e+00</td>\n",
       "      <td>0.000000e+00</td>\n",
       "      <td>0.000000e+00</td>\n",
       "      <td>...</td>\n",
       "      <td>4.394680e+05</td>\n",
       "      <td>2.175255e+05</td>\n",
       "      <td>4.667520e+05</td>\n",
       "      <td>4.037860e+05</td>\n",
       "      <td>2.769340e+05</td>\n",
       "      <td>1.682435e+05</td>\n",
       "      <td>1.397730e+05</td>\n",
       "      <td>1.998500e+03</td>\n",
       "      <td>0.000000</td>\n",
       "      <td>0.000000</td>\n",
       "    </tr>\n",
       "    <tr>\n",
       "      <th>max</th>\n",
       "      <td>39899.000000</td>\n",
       "      <td>4.294967e+07</td>\n",
       "      <td>134.000000</td>\n",
       "      <td>2.130707e+09</td>\n",
       "      <td>8.584298e+09</td>\n",
       "      <td>11044.000000</td>\n",
       "      <td>14186.000000</td>\n",
       "      <td>3.376892e+06</td>\n",
       "      <td>3.708310e+06</td>\n",
       "      <td>1.004568e+07</td>\n",
       "      <td>...</td>\n",
       "      <td>3.123272e+07</td>\n",
       "      <td>1.454922e+07</td>\n",
       "      <td>2.454544e+07</td>\n",
       "      <td>5.743524e+07</td>\n",
       "      <td>3.160781e+07</td>\n",
       "      <td>3.755240e+07</td>\n",
       "      <td>1.718575e+07</td>\n",
       "      <td>4.570398e+06</td>\n",
       "      <td>350.000000</td>\n",
       "      <td>1720.000000</td>\n",
       "    </tr>\n",
       "  </tbody>\n",
       "</table>\n",
       "<p>8 rows × 171 columns</p>\n",
       "</div>"
      ],
      "text/plain": [
       "                 Id        aa_000       ab_000        ac_000        ad_000  \\\n",
       "count  39900.000000  3.990000e+04  9121.000000  3.765900e+04  2.993400e+04   \n",
       "mean   19949.500000  6.094339e+04     0.728210  3.536753e+08  2.872309e+05   \n",
       "std    11518.282207  2.598214e+05     3.107561  7.927850e+08  4.961607e+07   \n",
       "min        0.000000  0.000000e+00     0.000000  0.000000e+00  0.000000e+00   \n",
       "25%     9974.750000  8.680000e+02     0.000000  1.600000e+01  2.400000e+01   \n",
       "50%    19949.500000  3.082300e+04     0.000000  1.520000e+02  1.260000e+02   \n",
       "75%    29924.250000  4.889650e+04     0.000000  9.700000e+02  4.340000e+02   \n",
       "max    39899.000000  4.294967e+07   134.000000  2.130707e+09  8.584298e+09   \n",
       "\n",
       "             ae_000        af_000        ag_000        ag_001        ag_002  \\\n",
       "count  38240.000000  38240.000000  3.943400e+04  3.943400e+04  3.943400e+04   \n",
       "mean       6.427877     10.552354  2.017626e+02  1.096192e+03  9.547083e+03   \n",
       "std      112.420166    177.143548  1.823295e+04  3.272456e+04  1.563888e+05   \n",
       "min        0.000000      0.000000  0.000000e+00  0.000000e+00  0.000000e+00   \n",
       "25%        0.000000      0.000000  0.000000e+00  0.000000e+00  0.000000e+00   \n",
       "50%        0.000000      0.000000  0.000000e+00  0.000000e+00  0.000000e+00   \n",
       "75%        0.000000      0.000000  0.000000e+00  0.000000e+00  0.000000e+00   \n",
       "max    11044.000000  14186.000000  3.376892e+06  3.708310e+06  1.004568e+07   \n",
       "\n",
       "       ...        ee_002        ee_003        ee_004        ee_005  \\\n",
       "count  ...  3.943200e+04  3.943200e+04  3.943200e+04  3.943200e+04   \n",
       "mean   ...  4.486738e+05  2.129917e+05  4.489956e+05  4.013561e+05   \n",
       "std    ...  1.121988e+06  5.316487e+05  1.129791e+06  1.130969e+06   \n",
       "min    ...  0.000000e+00  0.000000e+00  0.000000e+00  0.000000e+00   \n",
       "25%    ...  2.976000e+03  1.186000e+03  2.740000e+03  3.660000e+03   \n",
       "50%    ...  2.351960e+05  1.121640e+05  2.236870e+05  1.907450e+05   \n",
       "75%    ...  4.394680e+05  2.175255e+05  4.667520e+05  4.037860e+05   \n",
       "max    ...  3.123272e+07  1.454922e+07  2.454544e+07  5.743524e+07   \n",
       "\n",
       "             ee_006        ee_007        ee_008        ee_009        ef_000  \\\n",
       "count  3.943200e+04  3.943200e+04  3.943200e+04  3.943200e+04  38087.000000   \n",
       "mean   3.390282e+05  3.439853e+05  1.375559e+05  8.265914e+03      0.074514   \n",
       "std    1.102586e+06  1.626701e+06  4.350107e+05  4.968480e+04      3.610742   \n",
       "min    0.000000e+00  0.000000e+00  0.000000e+00  0.000000e+00      0.000000   \n",
       "25%    5.240000e+02  1.160000e+02  0.000000e+00  0.000000e+00      0.000000   \n",
       "50%    9.458700e+04  4.204100e+04  3.992000e+03  0.000000e+00      0.000000   \n",
       "75%    2.769340e+05  1.682435e+05  1.397730e+05  1.998500e+03      0.000000   \n",
       "max    3.160781e+07  3.755240e+07  1.718575e+07  4.570398e+06    350.000000   \n",
       "\n",
       "             eg_000  \n",
       "count  38088.000000  \n",
       "mean       0.236137  \n",
       "std       12.155503  \n",
       "min        0.000000  \n",
       "25%        0.000000  \n",
       "50%        0.000000  \n",
       "75%        0.000000  \n",
       "max     1720.000000  \n",
       "\n",
       "[8 rows x 171 columns]"
      ]
     },
     "execution_count": 3,
     "metadata": {},
     "output_type": "execute_result"
    }
   ],
   "source": [
    "df.describe()"
   ]
  },
  {
   "cell_type": "code",
   "execution_count": null,
   "id": "35d56000",
   "metadata": {},
   "outputs": [],
   "source": []
  },
  {
   "cell_type": "code",
   "execution_count": 36,
   "id": "8fc77af3",
   "metadata": {},
   "outputs": [
    {
     "name": "stdout",
     "output_type": "stream",
     "text": [
      "Id 0\n",
      "aa_000 0\n",
      "ab_000 30779\n",
      "ac_000 2241\n",
      "ad_000 9966\n",
      "ae_000 1660\n",
      "af_000 1660\n",
      "ag_000 466\n",
      "ag_001 466\n",
      "ag_002 466\n",
      "ag_003 466\n",
      "ag_004 466\n",
      "ag_005 466\n",
      "ag_006 466\n",
      "ag_007 466\n",
      "ag_008 466\n",
      "ag_009 466\n",
      "ah_000 442\n",
      "ai_000 417\n",
      "aj_000 417\n",
      "ak_000 2933\n",
      "al_000 429\n",
      "am_0 417\n",
      "an_000 429\n",
      "ao_000 390\n",
      "ap_000 429\n",
      "aq_000 390\n",
      "ar_000 1813\n",
      "as_000 417\n",
      "at_000 417\n",
      "au_000 417\n",
      "av_000 1660\n",
      "ax_000 1660\n",
      "ay_000 468\n",
      "ay_001 468\n",
      "ay_002 468\n",
      "ay_003 468\n",
      "ay_004 468\n",
      "ay_005 468\n",
      "ay_006 468\n",
      "ay_007 468\n",
      "ay_008 468\n",
      "ay_009 468\n",
      "az_000 468\n",
      "az_001 468\n",
      "az_002 468\n",
      "az_003 468\n",
      "az_004 468\n",
      "az_005 468\n",
      "az_006 468\n",
      "az_007 468\n",
      "az_008 468\n",
      "az_009 468\n",
      "ba_000 476\n",
      "ba_001 476\n",
      "ba_002 476\n",
      "ba_003 476\n",
      "ba_004 476\n",
      "ba_005 476\n",
      "ba_006 476\n",
      "ba_007 476\n",
      "ba_008 476\n",
      "ba_009 476\n",
      "bb_000 442\n",
      "bc_000 1813\n",
      "bd_000 1814\n",
      "be_000 1661\n",
      "bf_000 1660\n",
      "bg_000 429\n",
      "bh_000 429\n",
      "bi_000 390\n",
      "bj_000 390\n",
      "bk_000 15241\n",
      "bl_000 18129\n",
      "bm_000 26268\n",
      "bn_000 29203\n",
      "bo_000 30773\n",
      "bp_000 31718\n",
      "bq_000 32367\n",
      "br_000 32723\n",
      "bs_000 493\n",
      "bt_000 94\n",
      "bu_000 469\n",
      "bv_000 469\n",
      "bx_000 2152\n",
      "by_000 314\n",
      "bz_000 1813\n",
      "ca_000 2915\n",
      "cb_000 493\n",
      "cc_000 2151\n",
      "cd_000 448\n",
      "ce_000 1660\n",
      "cf_000 9966\n",
      "cg_000 9966\n",
      "ch_000 9966\n",
      "ci_000 226\n",
      "cj_000 226\n",
      "ck_000 226\n",
      "cl_000 6353\n",
      "cm_000 6583\n",
      "cn_000 476\n",
      "cn_001 476\n",
      "cn_002 476\n",
      "cn_003 476\n",
      "cn_004 476\n",
      "cn_005 476\n",
      "cn_006 476\n",
      "cn_007 476\n",
      "cn_008 476\n",
      "cn_009 476\n",
      "co_000 9966\n",
      "cp_000 1814\n",
      "cq_000 469\n",
      "cr_000 30779\n",
      "cs_000 465\n",
      "cs_001 465\n",
      "cs_002 465\n",
      "cs_003 465\n",
      "cs_004 465\n",
      "cs_005 465\n",
      "cs_006 465\n",
      "cs_007 465\n",
      "cs_008 465\n",
      "cs_009 465\n",
      "ct_000 9267\n",
      "cu_000 9267\n",
      "cv_000 9267\n",
      "cx_000 9267\n",
      "cy_000 9267\n",
      "cz_000 9267\n",
      "da_000 9267\n",
      "db_000 9267\n",
      "dc_000 9267\n",
      "dd_000 1661\n",
      "de_000 1813\n",
      "df_000 2676\n",
      "dg_000 2677\n",
      "dh_000 2677\n",
      "di_000 2676\n",
      "dj_000 2676\n",
      "dk_000 2677\n",
      "dl_000 2677\n",
      "dm_000 2678\n",
      "dn_000 469\n",
      "do_000 1813\n",
      "dp_000 1814\n",
      "dq_000 1814\n",
      "dr_000 1814\n",
      "ds_000 1815\n",
      "dt_000 1815\n",
      "du_000 1814\n",
      "dv_000 1814\n",
      "dx_000 1813\n",
      "dy_000 1814\n",
      "dz_000 1812\n",
      "ea_000 1812\n",
      "eb_000 2676\n",
      "ec_00 6809\n",
      "ed_000 6353\n",
      "ee_000 468\n",
      "ee_001 468\n",
      "ee_002 468\n",
      "ee_003 468\n",
      "ee_004 468\n",
      "ee_005 468\n",
      "ee_006 468\n",
      "ee_007 468\n",
      "ee_008 468\n",
      "ee_009 468\n",
      "ef_000 1813\n",
      "eg_000 1812\n"
     ]
    }
   ],
   "source": [
    "for i in df.columns:\n",
    "    print(i +\" \" + str(df[i].isna().sum()))"
   ]
  },
  {
   "cell_type": "code",
   "execution_count": 62,
   "id": "9cae4a29",
   "metadata": {},
   "outputs": [
    {
     "name": "stdout",
     "output_type": "stream",
     "text": [
      "ag_000       0.0\n",
      "ag_001       0.0\n",
      "ag_002       0.0\n",
      "ag_003       0.0\n",
      "ag_004      80.0\n",
      "ag_005    1878.0\n",
      "ag_006    6986.0\n",
      "ag_007    3554.0\n",
      "ag_008       0.0\n",
      "ag_009       0.0\n",
      "Name: 2, dtype: float64\n",
      "ag_001       0.0\n",
      "ag_002       0.0\n",
      "ag_003       0.0\n",
      "ag_004      80.0\n",
      "ag_005    1878.0\n",
      "ag_006    6986.0\n",
      "ag_007    3554.0\n",
      "ag_008       0.0\n",
      "ag_009       0.0\n",
      "Name: 2, dtype: float64\n"
     ]
    }
   ],
   "source": [
    "histo = df.iloc[2,7:17]\n",
    "print(histo)\n",
    "print(histo.iloc[1:len(histo)])"
   ]
  },
  {
   "cell_type": "code",
   "execution_count": 65,
   "id": "14535703",
   "metadata": {},
   "outputs": [
    {
     "data": {
      "image/png": "[encoded data removed]",
      "text/plain": [
       "<Figure size 576x216 with 1 Axes>"
      ]
     },
     "metadata": {
      "needs_background": "light"
     },
     "output_type": "display_data"
    }
   ],
   "source": [
    "categories = histo.index\n",
    "height = histo\n",
    "figure, axis = plt.subplots(figsize = (8, 3))  \n",
    "axis.bar(categories,histo);"
   ]
  },
  {
   "cell_type": "code",
   "execution_count": 73,
   "id": "b5569dce",
   "metadata": {},
   "outputs": [
    {
     "data": {
      "image/png": "[encoded data removed]",
      "text/plain": [
       "<Figure size 576x216 with 1 Axes>"
      ]
     },
     "metadata": {
      "needs_background": "light"
     },
     "output_type": "display_data"
    }
   ],
   "source": [
    "histo = df.iloc[3,7:17]\n",
    "categories = histo.index\n",
    "height = histo\n",
    "figure, axis = plt.subplots(figsize = (8, 3))  \n",
    "axis.bar(categories,histo);"
   ]
  },
  {
   "cell_type": "code",
   "execution_count": null,
   "id": "8cb6b54c",
   "metadata": {},
   "outputs": [],
   "source": []
  },
  {
   "cell_type": "code",
   "execution_count": null,
   "id": "ff2e9a62",
   "metadata": {},
   "outputs": [],
   "source": []
  },
  {
   "cell_type": "code",
   "execution_count": null,
   "id": "8cf55baa",
   "metadata": {},
   "outputs": [],
   "source": []
  },
  {
   "cell_type": "code",
   "execution_count": null,
   "id": "43636d17",
   "metadata": {},
   "outputs": [],
   "source": []
  },
  {
   "cell_type": "code",
   "execution_count": null,
   "id": "ef65bd7f",
   "metadata": {},
   "outputs": [],
   "source": []
  },
  {
   "cell_type": "code",
   "execution_count": null,
   "id": "fbb430b5",
   "metadata": {},
   "outputs": [],
   "source": []
  },
  {
   "cell_type": "code",
   "execution_count": null,
   "id": "34d31a6f",
   "metadata": {},
   "outputs": [],
   "source": []
  },
  {
   "cell_type": "code",
   "execution_count": 55,
   "id": "44c885ac",
   "metadata": {},
   "outputs": [
    {
     "data": {
      "text/plain": [
       "Index(['ag_000', 'ag_001', 'ag_002', 'ag_003', 'ag_004', 'ag_005', 'ag_006',\n",
       "       'ag_007', 'ag_008', 'ag_009'],\n",
       "      dtype='object')"
      ]
     },
     "execution_count": 55,
     "metadata": {},
     "output_type": "execute_result"
    }
   ],
   "source": [
    "histo.index"
   ]
  },
  {
   "cell_type": "code",
   "execution_count": 7,
   "id": "6c32919b",
   "metadata": {},
   "outputs": [
    {
     "name": "stdout",
     "output_type": "stream",
     "text": [
      "{'Id': 1, 'aa': 1, 'ab': 1, 'ac': 1, 'ad': 1, 'ae': 1, 'af': 1, 'ag': 10, 'ah': 1, 'ai': 1, 'aj': 1, 'ak': 1, 'al': 1, 'am': 1, 'an': 1, 'ao': 1, 'ap': 1, 'aq': 1, 'ar': 1, 'as': 1, 'at': 1, 'au': 1, 'av': 1, 'ax': 1, 'ay': 10, 'az': 10, 'ba': 10, 'bb': 1, 'bc': 1, 'bd': 1, 'be': 1, 'bf': 1, 'bg': 1, 'bh': 1, 'bi': 1, 'bj': 1, 'bk': 1, 'bl': 1, 'bm': 1, 'bn': 1, 'bo': 1, 'bp': 1, 'bq': 1, 'br': 1, 'bs': 1, 'bt': 1, 'bu': 1, 'bv': 1, 'bx': 1, 'by': 1, 'bz': 1, 'ca': 1, 'cb': 1, 'cc': 1, 'cd': 1, 'ce': 1, 'cf': 1, 'cg': 1, 'ch': 1, 'ci': 1, 'cj': 1, 'ck': 1, 'cl': 1, 'cm': 1, 'cn': 10, 'co': 1, 'cp': 1, 'cq': 1, 'cr': 1, 'cs': 10, 'ct': 1, 'cu': 1, 'cv': 1, 'cx': 1, 'cy': 1, 'cz': 1, 'da': 1, 'db': 1, 'dc': 1, 'dd': 1, 'de': 1, 'df': 1, 'dg': 1, 'dh': 1, 'di': 1, 'dj': 1, 'dk': 1, 'dl': 1, 'dm': 1, 'dn': 1, 'do': 1, 'dp': 1, 'dq': 1, 'dr': 1, 'ds': 1, 'dt': 1, 'du': 1, 'dv': 1, 'dx': 1, 'dy': 1, 'dz': 1, 'ea': 1, 'eb': 1, 'ec': 1, 'ed': 1, 'ee': 10, 'ef': 1, 'eg': 1}\n",
      "['ag_001', 'ag_002', 'ag_003', 'ag_004', 'ag_005', 'ag_006', 'ag_007', 'ag_008', 'ag_009', 'ay_001', 'ay_002', 'ay_003', 'ay_004', 'ay_005', 'ay_006', 'ay_007', 'ay_008', 'ay_009', 'az_001', 'az_002', 'az_003', 'az_004', 'az_005', 'az_006', 'az_007', 'az_008', 'az_009', 'ba_001', 'ba_002', 'ba_003', 'ba_004', 'ba_005', 'ba_006', 'ba_007', 'ba_008', 'ba_009', 'cn_001', 'cn_002', 'cn_003', 'cn_004', 'cn_005', 'cn_006', 'cn_007', 'cn_008', 'cn_009', 'cs_001', 'cs_002', 'cs_003', 'cs_004', 'cs_005', 'cs_006', 'cs_007', 'cs_008', 'cs_009', 'ee_001', 'ee_002', 'ee_003', 'ee_004', 'ee_005', 'ee_006', 'ee_007', 'ee_008', 'ee_009']\n"
     ]
    }
   ],
   "source": [
    "\n",
    "histo_features=[]\n",
    "s =\"\"\n",
    "d= {}\n",
    "for i in df.columns:\n",
    "    s = i[0:2]\n",
    "    if s in d.keys():\n",
    "        d[s] +=1\n",
    "        histo_features.append(i)\n",
    "    else:\n",
    "        d[s] = 1\n",
    "        \n",
    "print(d)\n",
    "print(histo_features)"
   ]
  },
  {
   "cell_type": "code",
   "execution_count": 8,
   "id": "e654b786",
   "metadata": {},
   "outputs": [],
   "source": [
    "histo_ag = ['ag_001', 'ag_002', 'ag_003', 'ag_004', 'ag_005', 'ag_006', 'ag_007', 'ag_008', 'ag_009']\n",
    "histo_ay = ['ay_001', 'ay_002', 'ay_003', 'ay_004', 'ay_005', 'ay_006', 'ay_007', 'ay_008', 'ay_009']\n",
    "histo_az = ['az_001', 'az_002', 'az_003', 'az_004', 'az_005', 'az_006', 'az_007', 'az_008', 'az_009']\n",
    "histo_ba = ['ba_001', 'ba_002', 'ba_003', 'ba_004', 'ba_005', 'ba_006', 'ba_007', 'ba_008', 'ba_009']\n",
    "histo_cn = ['cn_001', 'cn_002', 'cn_003', 'cn_004', 'cn_005', 'cn_006', 'cn_007', 'cn_008', 'cn_009']\n",
    "histo_cs = ['cs_001', 'cs_002', 'cs_003', 'cs_004', 'cs_005', 'cs_006', 'cs_007', 'cs_008', 'cs_009']\n",
    "histo_ee = ['ee_001', 'ee_002', 'ee_003', 'ee_004', 'ee_005', 'ee_006', 'ee_007', 'ee_008', 'ee_009']"
   ]
  },
  {
   "cell_type": "code",
   "execution_count": null,
   "id": "7049e232",
   "metadata": {},
   "outputs": [],
   "source": []
  },
  {
   "cell_type": "code",
   "execution_count": null,
   "id": "15820ddf",
   "metadata": {},
   "outputs": [],
   "source": []
  },
  {
   "cell_type": "code",
   "execution_count": 11,
   "id": "a136c117",
   "metadata": {},
   "outputs": [
    {
     "name": "stdout",
     "output_type": "stream",
     "text": [
      "ag\n",
      "ay\n",
      "az\n",
      "ba\n",
      "cn\n",
      "cs\n",
      "ee\n"
     ]
    }
   ],
   "source": [
    "for k in d:\n",
    "    if d[k]>1:\n",
    "        print(k)"
   ]
  },
  {
   "cell_type": "code",
   "execution_count": null,
   "id": "b0771e31",
   "metadata": {},
   "outputs": [],
   "source": []
  },
  {
   "cell_type": "code",
   "execution_count": null,
   "id": "3c4c0ddb",
   "metadata": {},
   "outputs": [],
   "source": []
  },
  {
   "cell_type": "code",
   "execution_count": null,
   "id": "39ce631b",
   "metadata": {},
   "outputs": [],
   "source": []
  },
  {
   "cell_type": "code",
   "execution_count": null,
   "id": "16021909",
   "metadata": {},
   "outputs": [],
   "source": []
  },
  {
   "cell_type": "code",
   "execution_count": null,
   "id": "265b2880",
   "metadata": {},
   "outputs": [],
   "source": []
  },
  {
   "cell_type": "code",
   "execution_count": null,
   "id": "2ef0119b",
   "metadata": {},
   "outputs": [],
   "source": []
  },
  {
   "cell_type": "code",
   "execution_count": null,
   "id": "55a34373",
   "metadata": {},
   "outputs": [],
   "source": []
  },
  {
   "cell_type": "code",
   "execution_count": 60,
   "id": "fd0b0a73",
   "metadata": {},
   "outputs": [],
   "source": [
    "from sklearn.naive_bayes import GaussianNB\n",
    "from sklearn.metrics import accuracy_score as acc\n",
    "from sklearn.metrics import roc_auc_score as auc\n",
    "from sklearn.metrics import plot_confusion_matrix as pcm\n",
    "from sklearn.metrics import plot_precision_recall_curve as ppc\n",
    "from sklearn.metrics import plot_roc_curve as prc\n",
    "from sklearn.tree import DecisionTreeClassifier as DTC\n",
    "from sklearn.neighbors import KNeighborsClassifier as KNC\n",
    "from sklearn.model_selection import cross_val_score as cv\n",
    "from sklearn.svm import LinearSVC as linSVC\n",
    "from sklearn.model_selection import train_test_split\n",
    "from sklearn.metrics import accuracy_score\n",
    "from sklearn.metrics import f1_score, make_scorer\n",
    "from sklearn.metrics import fbeta_score\n",
    "from sklearn.model_selection import StratifiedKFold"
   ]
  },
  {
   "cell_type": "code",
   "execution_count": 78,
   "id": "ec724ef8",
   "metadata": {},
   "outputs": [],
   "source": [
    "X_train = pd.read_csv('X_train.csv')\n",
    "X_train = X_train.drop(['Id'], axis=1)\n",
    "y_train = pd.read_csv('y_train.csv')\n",
    "y_train = y_train['Expected']\n",
    "y_test = pd.read_csv('y_test_pred_dectree_md2.csv')\n",
    "X_test = pd.read_csv('X_test.csv')\n",
    "X_test = X_test.drop(['Id'], axis=1)\n",
    "y_test = y_test['Predicted']"
   ]
  },
  {
   "cell_type": "code",
   "execution_count": null,
   "id": "58e74285",
   "metadata": {},
   "outputs": [],
   "source": []
  },
  {
   "cell_type": "code",
   "execution_count": null,
   "id": "16c9cf27",
   "metadata": {},
   "outputs": [],
   "source": []
  },
  {
   "cell_type": "code",
   "execution_count": 79,
   "id": "4d4ccebd",
   "metadata": {},
   "outputs": [],
   "source": [
    "X_trainS, X_testS, y_trainS, y_testS = train_test_split(X_train, y_train, test_size=0.33, random_state=42)"
   ]
  },
  {
   "cell_type": "code",
   "execution_count": null,
   "id": "5c6061cf",
   "metadata": {},
   "outputs": [],
   "source": []
  },
  {
   "cell_type": "code",
   "execution_count": 80,
   "id": "999cee6d",
   "metadata": {},
   "outputs": [],
   "source": [
    "X_trainS_p = X_trainS.fillna(X_trainS.median())\n",
    "X_testS_p = X_testS.fillna(X_trainS.median())"
   ]
  },
  {
   "cell_type": "code",
   "execution_count": null,
   "id": "fd5d5f19",
   "metadata": {},
   "outputs": [],
   "source": []
  },
  {
   "cell_type": "code",
   "execution_count": 81,
   "id": "dce44f40",
   "metadata": {},
   "outputs": [],
   "source": [
    "gnb = GaussianNB()\n",
    "#pipe = make_pipeline(GaussianNB())\n",
    "y_predS = gnb.fit(X_trainS_p, y_trainS).predict(X_testS_p)\n"
   ]
  },
  {
   "cell_type": "code",
   "execution_count": null,
   "id": "8d408c6c",
   "metadata": {},
   "outputs": [],
   "source": []
  },
  {
   "cell_type": "code",
   "execution_count": 82,
   "id": "8069724c",
   "metadata": {},
   "outputs": [
    {
     "name": "stdout",
     "output_type": "stream",
     "text": [
      "[0.70725157 0.78026906 0.76993584 0.76028623 0.75904678]\n"
     ]
    }
   ],
   "source": [
    "it = StratifiedKFold(n_splits=5, random_state=None, shuffle=False)\n",
    "fthree_scorer = make_scorer(fbeta_score, beta=3)\n",
    "cv_results = cv(gnb,X_trainS_p,y_trainS, cv=it, scoring = fthree_scorer)\n",
    "print(cv_results)"
   ]
  },
  {
   "cell_type": "code",
   "execution_count": 83,
   "id": "4062ef95",
   "metadata": {},
   "outputs": [
    {
     "data": {
      "text/plain": [
       "0.7673090649536046"
      ]
     },
     "execution_count": 83,
     "metadata": {},
     "output_type": "execute_result"
    }
   ],
   "source": [
    "fbeta_score(y_testS, y_predS, beta = 3)"
   ]
  },
  {
   "cell_type": "code",
   "execution_count": 10,
   "id": "f3b0724c",
   "metadata": {},
   "outputs": [
    {
     "name": "stdout",
     "output_type": "stream",
     "text": [
      "['fit_time', 'score_time', 'test_score']\n",
      "[0.9641604  0.96591479 0.96491228 0.96466165 0.96390977 0.96666667\n",
      " 0.96365915 0.97067669 0.96541353 0.97117794]\n"
     ]
    }
   ],
   "source": [
    "gnb = GaussianNB()\n",
    "y_pred = gnb.fit(X_train_p, y_train_p).predict(X_test_p)\n",
    "\n",
    "cv_results = cv(gnb,X_train_p,y_train_p,cv=10)\n",
    "print(sorted(cv_results.keys()))\n",
    "print(cv_results['test_score'])\n",
    "\n",
    "#print(\"Number of mislabeled points out of a total %d points : %d\"\n",
    "#% (X_test.shape[0], (y_test['Predicted'] != y_pred).sum()))"
   ]
  },
  {
   "cell_type": "code",
   "execution_count": 84,
   "id": "a7d1e15f",
   "metadata": {},
   "outputs": [
    {
     "name": "stderr",
     "output_type": "stream",
     "text": [
      "C:\\Users\\mouna\\anaconda3\\lib\\site-packages\\sklearn\\svm\\_base.py:985: ConvergenceWarning: Liblinear failed to converge, increase the number of iterations.\n",
      "  warnings.warn(\"Liblinear failed to converge, increase \"\n"
     ]
    }
   ],
   "source": [
    "CLF = linSVC(random_state=42, tol=1e-5)\n",
    "y_predS = CLF.fit(X_trainS_p, y_trainS).predict(X_testS_p)"
   ]
  },
  {
   "cell_type": "code",
   "execution_count": 85,
   "id": "4047f532",
   "metadata": {},
   "outputs": [
    {
     "data": {
      "text/plain": [
       "0.37068239258635216"
      ]
     },
     "execution_count": 85,
     "metadata": {},
     "output_type": "execute_result"
    }
   ],
   "source": [
    "fbeta_score(y_testS, y_predS, beta = 3)"
   ]
  },
  {
   "cell_type": "code",
   "execution_count": 86,
   "id": "c0da5bfe",
   "metadata": {},
   "outputs": [
    {
     "name": "stderr",
     "output_type": "stream",
     "text": [
      "C:\\Users\\mouna\\anaconda3\\lib\\site-packages\\sklearn\\svm\\_base.py:985: ConvergenceWarning: Liblinear failed to converge, increase the number of iterations.\n",
      "  warnings.warn(\"Liblinear failed to converge, increase \"\n",
      "C:\\Users\\mouna\\anaconda3\\lib\\site-packages\\sklearn\\svm\\_base.py:985: ConvergenceWarning: Liblinear failed to converge, increase the number of iterations.\n",
      "  warnings.warn(\"Liblinear failed to converge, increase \"\n",
      "C:\\Users\\mouna\\anaconda3\\lib\\site-packages\\sklearn\\svm\\_base.py:985: ConvergenceWarning: Liblinear failed to converge, increase the number of iterations.\n",
      "  warnings.warn(\"Liblinear failed to converge, increase \"\n",
      "C:\\Users\\mouna\\anaconda3\\lib\\site-packages\\sklearn\\svm\\_base.py:985: ConvergenceWarning: Liblinear failed to converge, increase the number of iterations.\n",
      "  warnings.warn(\"Liblinear failed to converge, increase \"\n"
     ]
    },
    {
     "name": "stdout",
     "output_type": "stream",
     "text": [
      "[0.21300448 0.70841889 0.39473684 0.58408862 0.73819742]\n"
     ]
    },
    {
     "name": "stderr",
     "output_type": "stream",
     "text": [
      "C:\\Users\\mouna\\anaconda3\\lib\\site-packages\\sklearn\\svm\\_base.py:985: ConvergenceWarning: Liblinear failed to converge, increase the number of iterations.\n",
      "  warnings.warn(\"Liblinear failed to converge, increase \"\n"
     ]
    }
   ],
   "source": [
    "it = StratifiedKFold(n_splits=5, random_state=None, shuffle=False)\n",
    "fthree_scorer = make_scorer(fbeta_score, beta=3)\n",
    "cv_results = cv(CLF,X_trainS_p,y_trainS, cv=it, scoring = fthree_scorer)\n",
    "print(cv_results)\n",
    "\n",
    "#print(\"Number of mislabeled points out of a total %d points : %d\"\n",
    "#% (X_test.shape[0], (y_test['Predicted'] != y_pred).sum()))"
   ]
  },
  {
   "cell_type": "code",
   "execution_count": null,
   "id": "34e96347",
   "metadata": {},
   "outputs": [],
   "source": []
  },
  {
   "cell_type": "code",
   "execution_count": null,
   "id": "110637ed",
   "metadata": {},
   "outputs": [],
   "source": [
    "y_pred_sol = {}\n",
    "y_pred_sol['Id']=list(range(17100))\n",
    "y_pred_sol['Predicted']=list((y_pred))\n",
    "df = pd.DataFrame(y_pred_sol, columns = ['Id', 'Predicted'])\n",
    "df.to_csv('momo12.csv', index=False)\n"
   ]
  },
  {
   "cell_type": "code",
   "execution_count": null,
   "id": "6b014c06",
   "metadata": {},
   "outputs": [],
   "source": []
  },
  {
   "cell_type": "code",
   "execution_count": 87,
   "id": "107f456a",
   "metadata": {},
   "outputs": [],
   "source": [
    "import numpy as np\n",
    "import matplotlib.pyplot as plt\n",
    "from sklearn.linear_model import LinearRegression, LogisticRegression"
   ]
  },
  {
   "cell_type": "code",
   "execution_count": 90,
   "id": "4238fb50",
   "metadata": {},
   "outputs": [
    {
     "name": "stderr",
     "output_type": "stream",
     "text": [
      "C:\\Users\\mouna\\anaconda3\\lib\\site-packages\\sklearn\\linear_model\\_logistic.py:763: ConvergenceWarning: lbfgs failed to converge (status=1):\n",
      "STOP: TOTAL NO. of ITERATIONS REACHED LIMIT.\n",
      "\n",
      "Increase the number of iterations (max_iter) or scale the data as shown in:\n",
      "    https://scikit-learn.org/stable/modules/preprocessing.html\n",
      "Please also refer to the documentation for alternative solver options:\n",
      "    https://scikit-learn.org/stable/modules/linear_model.html#logistic-regression\n",
      "  n_iter_i = _check_optimize_result(\n"
     ]
    }
   ],
   "source": [
    "from sklearn.datasets import make_classification\n",
    "from sklearn.linear_model import LogisticRegression\n",
    "from sklearn.model_selection import train_test_split\n",
    "from sklearn.pipeline import make_pipeline\n",
    "from sklearn.preprocessing import StandardScaler\n",
    "\n",
    "\n",
    "X_trainS, X_testS, y_trainS, y_testS = train_test_split(X_train, y_train, random_state=42)\n",
    "X_trainS_p = X_trainS.fillna(X_trainS.median())\n",
    "X_testS_p = X_testS.fillna(X_testS.median())\n",
    "\n",
    "pipe = make_pipeline(StandardScaler(), LogisticRegression())\n",
    "clf = pipe.fit(X_trainS_p, y_trainS)  # apply scaling on training data\n",
    "\n",
    "y_predS=clf.predict(X_testS_p)"
   ]
  },
  {
   "cell_type": "code",
   "execution_count": 91,
   "id": "e52b8bd7",
   "metadata": {},
   "outputs": [
    {
     "data": {
      "text/plain": [
       "0.6754530477759473"
      ]
     },
     "execution_count": 91,
     "metadata": {},
     "output_type": "execute_result"
    }
   ],
   "source": [
    "fbeta_score(y_testS, y_predS, beta = 3)"
   ]
  },
  {
   "cell_type": "code",
   "execution_count": null,
   "id": "6560245a",
   "metadata": {},
   "outputs": [],
   "source": []
  },
  {
   "cell_type": "code",
   "execution_count": 23,
   "id": "198f9f44",
   "metadata": {},
   "outputs": [],
   "source": [
    "y_pred_sol = {}\n",
    "y_pred_sol['Id']=list(range(17100))\n",
    "y_pred_sol['Predicted']=list((y_pred))\n",
    "df = pd.DataFrame(y_pred_sol, columns = ['Id', 'Predicted'])\n",
    "df.to_csv('momo4.csv', index=False)"
   ]
  },
  {
   "cell_type": "code",
   "execution_count": 92,
   "id": "30035d2d",
   "metadata": {},
   "outputs": [],
   "source": [
    "X_trainS, X_testS, y_trainS, y_testS = train_test_split(X_train, y_train, random_state=42)\n",
    "X_trainS_p = X_trainS.fillna(X_trainS.median())\n",
    "X_testS_p = X_testS.fillna(X_testS.median())\n",
    "\n",
    "clf = DTC(random_state=42)\n",
    "clf.fit(X_trainS_p,y_trainS)\n",
    "\n",
    "y_predS = clf.predict(X_testS_p)\n",
    "y_pred_proba = clf.predict_proba(X_testS_p)[:,1]\n",
    "\n"
   ]
  },
  {
   "cell_type": "code",
   "execution_count": 93,
   "id": "83938312",
   "metadata": {},
   "outputs": [
    {
     "data": {
      "text/plain": [
       "0.7323640280021542"
      ]
     },
     "execution_count": 93,
     "metadata": {},
     "output_type": "execute_result"
    }
   ],
   "source": [
    "fbeta_score(y_testS, y_predS, beta = 3)"
   ]
  },
  {
   "cell_type": "code",
   "execution_count": null,
   "id": "6c8a7fc8",
   "metadata": {},
   "outputs": [],
   "source": []
  },
  {
   "cell_type": "code",
   "execution_count": null,
   "id": "ed8d080d",
   "metadata": {},
   "outputs": [],
   "source": []
  },
  {
   "cell_type": "code",
   "execution_count": 94,
   "id": "2ab946c5",
   "metadata": {},
   "outputs": [
    {
     "name": "stdout",
     "output_type": "stream",
     "text": [
      "[0.60377358 0.63492063 0.62146893 0.59259259 0.64220183]\n"
     ]
    }
   ],
   "source": [
    "it = StratifiedKFold(n_splits=5, random_state=None, shuffle=False)\n",
    "fthree_scorer = make_scorer(fbeta_score, beta=3)\n",
    "cv_results = cv(clf,X_trainS_p,y_trainS, cv=it, scoring = fthree_scorer)\n",
    "print(cv_results)\n"
   ]
  },
  {
   "cell_type": "code",
   "execution_count": null,
   "id": "e76387a4",
   "metadata": {},
   "outputs": [],
   "source": []
  },
  {
   "cell_type": "code",
   "execution_count": 25,
   "id": "880b86ea",
   "metadata": {},
   "outputs": [],
   "source": [
    "y_pred_sol = {}\n",
    "y_pred_sol['Id']=list(range(17100))\n",
    "y_pred_sol['Predicted']=list((y_pred))\n",
    "df = pd.DataFrame(y_pred_sol, columns = ['Id', 'Predicted'])\n",
    "df.to_csv('momo5.csv', index=False)"
   ]
  }
 ],
 "metadata": {
  "kernelspec": {
   "display_name": "Python 3",
   "language": "python",
   "name": "python3"
  },
  "language_info": {
   "codemirror_mode": {
    "name": "ipython",
    "version": 3
   },
   "file_extension": ".py",
   "mimetype": "text/x-python",
   "name": "python",
   "nbconvert_exporter": "python",
   "pygments_lexer": "ipython3",
   "version": "3.8.8"
  }
 },
 "nbformat": 4,
 "nbformat_minor": 5
}